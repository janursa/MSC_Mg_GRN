{
 "cells": [
  {
   "cell_type": "markdown",
   "id": "74a22e1d",
   "metadata": {},
   "source": [
    "# Edit the original df to create primary df (prior to data control and statistical analysis)\n",
    "Read the original proteomics data, process it by:\n",
    "renaming the missing symbols\n",
    "changing column names (to make it easier to follow)\n",
    "removing rows with all zeros"
   ]
  },
  {
   "cell_type": "code",
   "execution_count": null,
   "id": "1f1fa16f",
   "metadata": {},
   "outputs": [],
   "source": [
    "%run scripts/edit_data/edit.py"
   ]
  },
  {
   "cell_type": "markdown",
   "id": "f35c2547",
   "metadata": {},
   "source": [
    "# Post statistical analysis to extract DE proteins"
   ]
  },
  {
   "cell_type": "code",
   "execution_count": null,
   "id": "1f0b43fc",
   "metadata": {},
   "outputs": [],
   "source": [
    "%run scripts/post_statistical_analysis/process_PSA.py"
   ]
  },
  {
   "cell_type": "markdown",
   "id": "b3ec663d",
   "metadata": {},
   "source": [
    "# Enrichment analysis"
   ]
  },
  {
   "cell_type": "markdown",
   "id": "95087257",
   "metadata": {},
   "source": [
    "## enquiry string  \n",
    "- retrieve enriched terms\n",
    "- retrieve enriched network "
   ]
  },
  {
   "cell_type": "code",
   "execution_count": null,
   "id": "ec19e67e",
   "metadata": {},
   "outputs": [],
   "source": [
    "%run scripts/enrichment_analysis/string_enquiry.py"
   ]
  },
  {
   "cell_type": "markdown",
   "id": "e7dfcba4",
   "metadata": {},
   "source": [
    "## plot enriched terms"
   ]
  },
  {
   "cell_type": "code",
   "execution_count": null,
   "id": "f566c495",
   "metadata": {},
   "outputs": [],
   "source": [
    "%run scripts/enrichment_analysis/plot_EA.py "
   ]
  },
  {
   "cell_type": "code",
   "execution_count": 108,
   "id": "58dfba54",
   "metadata": {},
   "outputs": [
    {
     "data": {
      "text/plain": [
       "<matplotlib.legend.Legend at 0x2074490ddf0>"
      ]
     },
     "execution_count": 108,
     "metadata": {},
     "output_type": "execute_result"
    },
    {
     "data": {
      "image/png": "[encoded data removed]",
      "text/plain": [
       "<Figure size 432x288 with 1 Axes>"
      ]
     },
     "metadata": {
      "needs_background": "light"
     },
     "output_type": "display_data"
    }
   ],
   "source": [
    "import numpy as np\n",
    "import matplotlib.pyplot as plt\n",
    "from sklearn.linear_model import LogisticRegression\n",
    "from sklearn.metrics import recall_score, precision_recall_curve\n",
    "\n",
    "# generate some random data for classification\n",
    "X = np.random.randn(1000, 10)\n",
    "y = np.random.randint(2, size=1000)\n",
    "\n",
    "# split the data into training and test sets\n",
    "X_train, X_test = X[:800], X[800:]\n",
    "y_train, y_test = y[:800], y[800:]\n",
    "\n",
    "# train a logistic regression model on the training data\n",
    "model = LogisticRegression()\n",
    "model.fit(X_train, y_train)\n",
    "\n",
    "# compute the recall and precision values for the test data using the trained model\n",
    "y_scores = model.decision_function(X_test)\n",
    "precision_trained, recall_trained, thresholds_trained = precision_recall_curve(y_test, y_scores)\n",
    "trained_model_recall = recall_score(y_test, model.predict(X_test))\n",
    "\n",
    "# compute the recall and precision values for the test data using a random model\n",
    "random_scores = np.random.randn(len(y_test))\n",
    "precision_random, recall_random, thresholds_random = precision_recall_curve(y_test, random_scores)\n",
    "random_model_recall = recall_score(y_test, random_scores > 0)\n",
    "\n",
    "def normalize(aa):\n",
    "    return (aa-min(aa))/(max(aa)-min(aa))\n",
    "# plt.plot(np.linspace(0, 1, len(recall_trained)), recall_trained, label='trained')\n",
    "# plt.plot(np.linspace(0, 1, len(recall_random)), recall_random, label='random')\n",
    "# plt.plot(normalize(thresholds_trained), recall_trained[:-1], label=f'trained:{np.mean(recall_trained[:-1])}')\n",
    "# plt.plot(normalize(thresholds_random), recall_random[:-1], label=f'random:{np.mean(recall_random[:-1])}')\n",
    "plt.plot(recall_trained, precision_trained, label='trained')\n",
    "plt.plot(recall_random, precision_random, label='random')\n",
    "plt.legend()"
   ]
  },
  {
   "cell_type": "code",
   "execution_count": 181,
   "id": "2e986678",
   "metadata": {},
   "outputs": [
    {
     "data": {
      "text/plain": [
       "<matplotlib.legend.Legend at 0x2074a559dc0>"
      ]
     },
     "execution_count": 181,
     "metadata": {},
     "output_type": "execute_result"
    },
    {
     "data": {
      "image/png": "[encoded data removed]",
      "text/plain": [
       "<Figure size 432x288 with 1 Axes>"
      ]
     },
     "metadata": {
      "needs_background": "light"
     },
     "output_type": "display_data"
    }
   ],
   "source": [
    "from sklearn.datasets import make_classification\n",
    "from sklearn.model_selection import train_test_split\n",
    "from sklearn.metrics import precision_recall_curve\n",
    "import matplotlib.pyplot as plt\n",
    "import numpy as np\n",
    "# np.random.seed(123)\n",
    "\n",
    "# Generate some random data\n",
    "X, y = make_classification(n_samples=1000, n_features=10, n_classes=2)\n",
    "\n",
    "# Split the data into training and test sets\n",
    "X_train, X_test, y_train, y_test = train_test_split(X, y, test_size=0.01)\n",
    "\n",
    "# Train a logistic regression model on the training set\n",
    "from sklearn.linear_model import LogisticRegression\n",
    "clf = LogisticRegression().fit(X_train, y_train)\n",
    "\n",
    "# Get the predicted probabilities for the test set\n",
    "y_proba = clf.predict_proba(X_test)[:, 1]\n",
    "\n",
    "# Compute the precision-recall curve for the trained model\n",
    "precision_trained, recall_trained, thresholds_trained = precision_recall_curve(y_test, y_proba)\n",
    "\n",
    "# Create a random model that predicts a uniform distribution of probabilities\n",
    "y_random = np.random.uniform(size=len(y_test))\n",
    "\n",
    "# Compute the precision-recall curve for the random model\n",
    "precision_random, recall_random, thresholds_random = precision_recall_curve(y_test, y_random)\n",
    "\n",
    "# Plot the precision-recall curves for both models\n",
    "plt.plot(recall_trained, precision_trained, color='b', label='Trained model')\n",
    "plt.plot(recall_random, precision_random, color='r', label='Random model')\n",
    "# plt.xlabel('Recall')\n",
    "# plt.ylabel('Precision')\n",
    "# plt.legend()\n",
    "# plt.show()\n",
    "# plt.plot(normalize(thresholds_trained), recall_trained[:-1], label=f'trained:{np.mean(recall_trained[:-1])}')\n",
    "# plt.plot(normalize(thresholds_random), recall_random[:-1], label=f'random:{np.mean(recall_random[:-1])}')\n",
    "plt.legend()\n"
   ]
  },
  {
   "cell_type": "code",
   "execution_count": 12,
   "id": "38b92d6f",
   "metadata": {},
   "outputs": [
    {
     "data": {
      "image/png": "[encoded data removed]",
      "text/plain": [
       "<Figure size 432x288 with 1 Axes>"
      ]
     },
     "metadata": {
      "needs_background": "light"
     },
     "output_type": "display_data"
    }
   ],
   "source": [
    "import numpy as np\n",
    "import matplotlib.pyplot as plt\n",
    "from sklearn.linear_model import LogisticRegression\n",
    "from sklearn.metrics import precision_recall_curve\n",
    "\n",
    "# Generate a toy dataset\n",
    "np.random.seed(42)\n",
    "X = np.random.normal(0, 1, size=(1000, 5))\n",
    "y = np.random.randint(2, size=1000)\n",
    "\n",
    "# Train a logistic regression model\n",
    "clf = LogisticRegression(random_state=42, solver='liblinear')\n",
    "clf.fit(X, y)\n",
    "\n",
    "# Get predicted probabilities for the trained model\n",
    "y_trained = clf.predict_proba(X)[:, 1]\n",
    "\n",
    "# Generate predicted probabilities for a random model\n",
    "y_random = np.random.uniform(0, 1, size=1000)\n",
    "\n",
    "# Calculate precision, recall and thresholds for the trained and random models\n",
    "precision_trained, recall_trained, thresholds_trained = precision_recall_curve(y, y_trained)\n",
    "precision_random, recall_random, thresholds_random = precision_recall_curve(y, y_random)\n",
    "\n",
    "# Plot recall-threshold curves for the trained and random models\n",
    "plt.plot(np.linspace(0,1, len(recall_trained)), recall_trained, label=f'Trained Model:{np.mean(recall_trained)}')\n",
    "plt.plot(np.linspace(0,1, len(recall_random)), recall_random, label=f'Random Model: {np.mean(recall_random)}')\n",
    "plt.xlabel('Threshold')\n",
    "plt.ylabel('Recall')\n",
    "plt.legend()\n",
    "plt.show()\n"
   ]
  },
  {
   "cell_type": "markdown",
   "id": "961595e2",
   "metadata": {},
   "source": [
    "# Noncategorized "
   ]
  },
  {
   "cell_type": "code",
   "execution_count": null,
   "id": "9d7e0eaf",
   "metadata": {},
   "outputs": [],
   "source": [
    "# plot the time series of sig prots\n",
    "utils.plot_time_series(df, prots=sig_prots, c_tag='ctr_', s_tag='mg_', p_ID='Entry', time=specs['time'], ee=0.5)"
   ]
  },
  {
   "cell_type": "code",
   "execution_count": null,
   "id": "64a6eafd",
   "metadata": {},
   "outputs": [],
   "source": [
    "# visualize the sig proteins for original and imputed versions\n",
    "from scripts import utils\n",
    "candids = sig_prots[0:10]\n",
    "utils.plot_time_series_mutual(df1=df,df2=df_imput, prots=candids, )"
   ]
  },
  {
   "cell_type": "markdown",
   "id": "8f26d949",
   "metadata": {},
   "source": [
    "plot time serties of Moreneo's sig prots and check which ones are detected in our analysis"
   ]
  },
  {
   "cell_type": "code",
   "execution_count": null,
   "id": "0a5ad14c",
   "metadata": {},
   "outputs": [],
   "source": [
    "from scripts import utils\n",
    "importlib.reload(utils)\n",
    "moreneo_sigs = ['SDF4','NUFIP2','BUB3','HMGA2','KIF5B','DYNC1I2','DCTN1','S100A10','SYNPO2','MARCKS','THY1','HUWE1','PRPF8','RPS18','GCN1L1','RPL14','RBM8A','RPL23A','CANX','DLST','PDHB','ALDOC','APOA1','GGH','UAP1','ENO2','BAG3','HNRNPAB','BASP1','THRAP3','LRPPRC','CSE1L','PABPC4']\n",
    "utils.plot_time_series(df, prots=moreneo_sigs[0:len(moreneo_sigs)], c_tag='ctr_', s_tag='mg_', p_ID='Gene', time=specs['time'], ee=0.5)"
   ]
  },
  {
   "cell_type": "code",
   "execution_count": null,
   "id": "6e7af932",
   "metadata": {},
   "outputs": [],
   "source": [
    "# check the overlap between Moreneo's sig prots and this study\n",
    "df_overlap = df_sig.loc[df_sig['Gene'].isin(moreneo_sigs)]\n",
    "prots_overlap = df_overlap['Entry'].values\n",
    "print(prots_overlap)\n",
    "# utils.plot_time_series(df, prots=prots_overlap, c_tag='ctr_', s_tag='mg_', p_ID='Gene', time=specs['time'], ee=0.5)\n",
    "# print(prots_overlap)\n",
    "df_sig.head()"
   ]
  },
  {
   "cell_type": "code",
   "execution_count": null,
   "id": "0f3fe58e",
   "metadata": {},
   "outputs": [],
   "source": [
    "# imputing code\n",
    "import copy\n",
    "def KNNImputer(df, n_neighbors=2): #TODO: n neighbors should be evaluated\n",
    "    from sklearn import impute\n",
    "    df_copy = copy.deepcopy(df)\n",
    "    data = df[[f'ctr_{i}' for i in time]+[f'mg_{i}' for i in time]].values\n",
    "    imputer = impute.KNNImputer(n_neighbors=n_neighbors)\n",
    "    new_data = imputer.fit_transform(data)\n",
    "    df_copy[[f'ctr_{i}' for i in time]+[f'mg_{i}' for i in time]] = new_data\n",
    "    return df_copy\n",
    "df_imput = KNNImputer(df) #TODO: this can be experimented\n",
    "for gene in df_imput['Entry'].values:\n",
    "    if df_imput.loc[df_imput['Entry']==gene].isna().values.any():\n",
    "        print('still missing values: ', gene)"
   ]
  },
  {
   "cell_type": "markdown",
   "id": "3a2d2970",
   "metadata": {},
   "source": [
    "# Standalone codes"
   ]
  },
  {
   "cell_type": "markdown",
   "id": "9f3a2701",
   "metadata": {},
   "source": [
    "## Plot p values for showcase"
   ]
  },
  {
   "cell_type": "code",
   "execution_count": null,
   "id": "58ce3977",
   "metadata": {},
   "outputs": [],
   "source": [
    "import matplotlib\n",
    "import matplotlib.pyplot as plt\n",
    "import numpy as np\n",
    "import scipy.stats as stats\n",
    "import math\n",
    "def comic_font():\n",
    "    matplotlib.rc('font', family='Comic Sans MS')\n",
    "    matplotlib.rc('text', usetex='false')\n",
    "    matplotlib.rcParams.update({'font.size': 22})\n",
    "comic_font()\n",
    "\n",
    "mu = 0\n",
    "variance = 1\n",
    "sigma = math.sqrt(variance)\n",
    "x = np.linspace(mu - 3*sigma, mu + 3*sigma, 100)\n",
    "y = stats.norm.pdf(x, mu, sigma)\n",
    "fig = plt.figure()\n",
    "ax = fig.add_subplot(1,1,1)\n",
    "ax.plot(x, y, color='cyan', linewidth=4)\n",
    "# ax.set_xticks([])\n",
    "# ax.set_xticklabels([])\n",
    "# ax.set_yticks([])\n",
    "# ax.set_yticklabels([])\n",
    "ax.axis('off')\n",
    "x_critical = 1.8\n",
    "\n",
    "xx1 = np.linspace(x_critical, mu + 3*sigma, 100)\n",
    "xx2 = np.linspace(mu - 3*sigma, -x_critical, 100)\n",
    "ax.fill_between(xx1, 0, stats.norm.pdf(xx1, mu, sigma), color='r')\n",
    "ax.fill_between(xx2, 0, stats.norm.pdf(xx2, mu, sigma), color='r')\n",
    "\n",
    "ax.annotate('Critical value', xy=(x_critical, 0), xytext=(x_critical-1.7, .05),\n",
    "                        arrowprops={'arrowstyle': '->'}, horizontalalignment='center')\n",
    "ax.annotate('', xy=(-x_critical, 0), xytext=(x_critical-2.5, .03),\n",
    "                        arrowprops={'arrowstyle': '->'}\n",
    "                        , horizontalalignment='center')\n",
    "fig.savefig('C:/Users/nourisa/My Drive/professional/manuscripts/MSC_Mg_omics/draw/show_sig.png', dpi=200)\n",
    "plt.show()"
   ]
  },
  {
   "cell_type": "code",
   "execution_count": null,
   "id": "caf66702",
   "metadata": {},
   "outputs": [],
   "source": [
    "\n",
    "import numpy as np\n",
    "import matplotlib.pyplot as plt\n",
    "from sklearn.linear_model import Ridge\n",
    "from sklearn.datasets import make_regression\n",
    "\n",
    "# Generate a synthetic dataset with 20 samples\n",
    "X, y = make_regression(n_samples=20, n_features=1, noise=100, random_state=3)\n",
    "\n",
    "# Fit a Ridge Regression model with lambda=10\n",
    "model = Ridge(alpha=10)\n",
    "model.fit(X, y)\n",
    "y_pred = model.predict(X)\n",
    "\n",
    "# Plot the data points and the regression line for lambda=10\n",
    "fig = plt.figure(frameon=True, figsize=(6,6))\n",
    "ax = fig.add_subplot(1,1,1)\n",
    "ax.plot(X, y_pred, label='Fit', linewidth=4, c='black', alpha=.5)\n",
    "\n",
    "# Plot vertical dashed lines from the fitted line with lambda=10 to each data point\n",
    "for i in range(X.shape[0]):\n",
    "    ax.plot([X[i,0], X[i,0]], [y[i], y_pred[i]], '--', color='green', alpha=0.5, linewidth=3 )\n",
    "\n",
    "ax.scatter(X, y, s=60, label='Data', linewidth=2, c='red')\n",
    "ax.legend(frameon=False, fontsize=20)\n",
    "ax.set_xticks([])\n",
    "ax.set_yticks([])\n",
    "ax.set_xlabel('X')\n",
    "ax.set_ylabel('Y')\n",
    "ax.set_title('')\n",
    "\n",
    "ax.arrow(0, 0, 2, 0, head_width=0.05, head_length=0.1, fc='k', ec='k')\n",
    "ax.arrow(0, 0, 0, 1, head_width=0.05, head_length=0.1, fc='k', ec='k')\n",
    "\n",
    "# Remove the axis spines and labels\n",
    "plt.gca().spines['top'].set_visible(False)\n",
    "plt.gca().spines['right'].set_visible(False)\n",
    "plt.gca().spines['bottom'].set_visible(False)\n",
    "plt.gca().spines['left'].set_visible(False)\n",
    "fig.savefig('ridge.png', dpi=200)\n",
    "\n",
    "plt.show()\n"
   ]
  },
  {
   "cell_type": "markdown",
   "id": "fd536e33",
   "metadata": {},
   "source": [
    "# String API"
   ]
  },
  {
   "cell_type": "code",
   "execution_count": null,
   "id": "c24cdc4c",
   "metadata": {},
   "outputs": [],
   "source": []
  }
 ],
 "metadata": {
  "kernelspec": {
   "display_name": "Python 3 (ipykernel)",
   "language": "python",
   "name": "python3"
  },
  "language_info": {
   "codemirror_mode": {
    "name": "ipython",
    "version": 3
   },
   "file_extension": ".py",
   "mimetype": "text/x-python",
   "name": "python",
   "nbconvert_exporter": "python",
   "pygments_lexer": "ipython3",
   "version": "3.8.13"
  },
  "toc": {
   "base_numbering": 1,
   "nav_menu": {
    "height": "309px",
    "width": "264px"
   },
   "number_sections": true,
   "sideBar": true,
   "skip_h1_title": false,
   "title_cell": "Table of Contents",
   "title_sidebar": "Contents",
   "toc_cell": false,
   "toc_position": {},
   "toc_section_display": true,
   "toc_window_display": false
  }
 },
 "nbformat": 4,
 "nbformat_minor": 5
}
