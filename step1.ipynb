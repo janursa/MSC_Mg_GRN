{
 "cells": [
  {
   "cell_type": "markdown",
   "id": "f1af4015",
   "metadata": {},
   "source": [
    "# "
   ]
  },
  {
   "cell_type": "code",
   "execution_count": 10,
   "id": "288ce8f6",
   "metadata": {},
   "outputs": [],
   "source": [
    "import sys\n",
    "import os\n",
    "import pandas as pd\n",
    "import numpy as np\n",
    "import copy\n",
    "import math\n",
    "import json\n",
    "from scripts import utils\n",
    "import importlib\n",
    "MAIN_DIR = \"C:/Users/nourisa/Downloads/testProjs/proteomics_MSC\"\n",
    "df_imput_dir = os.path.join(MAIN_DIR,'statistical_analysis_2/ProteinAbundance_tables/ProtAbundance__Norm_n_Imp_SVD.csv') # dir for the imputated df \n",
    "SA_dir = os.path.join(MAIN_DIR, 'statistical_analysis_2/DiffExp_tables/TopTable_TimeCourse_SVD.csv') # dir for the sig analysis\n",
    "OUTPUT_DIR = os.path.join(MAIN_DIR,'results')\n",
    "sys.path.insert(0,MAIN_DIR)\n",
    "specs = dict(\n",
    "    o_df_dir = os.path.join(MAIN_DIR,'data','original_omics.xlsx'),\n",
    "    df_dir = os.path.join(MAIN_DIR,'data','primary_omics.csv'),\n",
    "    time = [1,2,3,4,7,8,9,10,11,14,21],\n",
    "    p_ID = 'Entry',  # The column name in the original data to be used as protein ID\n",
    "    c_tag = 'ctr_',\n",
    "    s_tag = 'mg_',\n",
    "    c_func = lambda t: 'ctr_' + str(t),  # The tag used in the tailored dataframe for control\n",
    "    s_func = lambda t: 'mg_' + str(t),  # The tag used in the tailored dataframe for sample\n",
    "    o_c_func = lambda t: 'LogLFQ intensity ' + str(t) + '_0',  # Func to extract the control data from the original database \n",
    "    o_s_func = lambda t: 'LogLFQ intensity ' + str(t) + '_1',  # Func to extract the sample data from the original database\n",
    ")"
   ]
  },
  {
   "cell_type": "markdown",
   "id": "74a22e1d",
   "metadata": {},
   "source": [
    "# Process the original df \n",
    "Read the original proteomics data, process it by:\n",
    "renaming the missing symbols\n",
    "changing column names (to make it easier to follow)\n",
    "removing rows with all zeros"
   ]
  },
  {
   "cell_type": "code",
   "execution_count": null,
   "id": "1f1fa16f",
   "metadata": {},
   "outputs": [],
   "source": [
    "## read the original data \n",
    "o_df = pd.read_excel(specs['o_df_dir'])\n",
    "# process the data\n",
    "o_df_m = utils.rename_missing_symbols(o_df,**specs); \n",
    "df = utils.tailor_names(o_df_m, **specs)\n",
    "df = utils.remove_zeros(df, **specs)\n",
    "df.to_csv(specs['df_dir'])"
   ]
  },
  {
   "cell_type": "code",
   "execution_count": null,
   "id": "be8dc58d",
   "metadata": {},
   "outputs": [],
   "source": [
    "# nonStrIndices = [type(item) != str for item in df['Gene']]\n",
    "# df.loc[nonStrIndices,'Entry']"
   ]
  },
  {
   "cell_type": "markdown",
   "id": "f35c2547",
   "metadata": {},
   "source": [
    "# Post process the results of the statistical analysis\n",
    "Extract the df with sig changes "
   ]
  },
  {
   "cell_type": "code",
   "execution_count": 11,
   "id": "3370c4a8",
   "metadata": {},
   "outputs": [],
   "source": [
    "# load the imputed df\n",
    "df_imput = pd.read_csv(df_imput_dir)\n",
    "df_imput.rename(columns={'Unnamed: 0':'Entry'},inplace=True)\n",
    "# read the results of the statitical analysis\n",
    "df_SA = pd.read_csv(SA_dir)\n",
    "df_SA.rename(columns={'Protein':'Entry'},inplace=True)\n",
    "# #change the entry to gene names\n",
    "# def entry_to_genename(df_inhand):\n",
    "#     '''\n",
    "#     changes the Entry column to the gene names\n",
    "#     '''\n",
    "#     flags = df['Entry'].isin(df_inhand['Entry'])\n",
    "#     df_inhand['Entry'] = df.loc[flags,'Gene']\n",
    "#     return df_inhand\n",
    "# df_imput = entry_to_genename(df_imput)\n",
    "# sort the data to make them comparable\n",
    "df_imput_sort = df_imput.sort_values('Entry')\n",
    "df_SA_sort = df_SA.sort_values('Entry')\n",
    "gene_names = df_SA_sort['Entry']"
   ]
  },
  {
   "cell_type": "code",
   "execution_count": 27,
   "id": "1d6cb3b4",
   "metadata": {},
   "outputs": [
    {
     "name": "stdout",
     "output_type": "stream",
     "text": [
      "number of sig proteins:  48\n"
     ]
    },
    {
     "name": "stderr",
     "output_type": "stream",
     "text": [
      "C:\\Users\\nourisa\\AppData\\Local\\Temp\\ipykernel_7596\\3010125222.py:30: SettingWithCopyWarning: \n",
      "A value is trying to be set on a copy of a slice from a DataFrame.\n",
      "Try using .loc[row_indexer,col_indexer] = value instead\n",
      "\n",
      "See the caveats in the documentation: https://pandas.pydata.org/pandas-docs/stable/user_guide/indexing.html#returning-a-view-versus-a-copy\n",
      "  df_chosen.loc[:,'P-Value'] = df_SA_sort.loc[df_SA_sort['Entry'].isin(sigs_prots),'P.Value'].values\n"
     ]
    },
    {
     "name": "stdout",
     "output_type": "stream",
     "text": [
      "Fetched: 48 / 48\n"
     ]
    }
   ],
   "source": [
    "# volcanic plot: -log10(p values) vs log2(foldchange)\n",
    "import matplotlib.pyplot as plt\n",
    "sig_cut_off = -np.log10(.05)\n",
    "FC_cut_off = np.log2(1.5)\n",
    "# calculate log10(p-values)\n",
    "negLog10pv = -np.log10(list(df_SA_sort['P.Value'].values))\n",
    "# calculate log2 fold change (log(mg)-log(ctr)). The average of different time was taken into account \n",
    "df_diff = pd.DataFrame()\n",
    "df_diff['Entry'] = df_imput['Entry']\n",
    "for t in specs['time']:\n",
    "    ctr = f'ctr_{t}'\n",
    "    mg = f'mg_{t}'\n",
    "    df_diff[t] = (df_imput_sort.loc[:,mg]-df_imput_sort.loc[:,ctr]).values\n",
    "\n",
    "# flags: to find those passing the thresholds\n",
    "sig_flags = negLog10pv>=sig_cut_off\n",
    "FC_flags = abs(df_diff.iloc[0:,1:].values)>FC_cut_off \n",
    "flags = FC_flags * sig_flags[:,None] # n_genes*n_days\n",
    "# select those with at least one FC>threshold across different time points\n",
    "flags_a = [np.any(row) for row in flags]\n",
    "sig_indices = [i for i in range(len(flags_a)) if flags_a[i]]\n",
    "sigs_prots = df_imput_sort.loc[sig_indices,'Entry'].values\n",
    "print('number of sig proteins: ', len(sigs_prots))\n",
    "# extract df with sig diff\n",
    "df_sig = df_imput_sort.loc[df_imput_sort['Entry'].isin(sigs_prots)]\n",
    "df_sig.to_csv('results/statAnalysis/df_sig.csv',index=False)\n",
    "# create df for the selected proteins\n",
    "df_chosen = df_diff.loc[df_diff['Entry'].isin(sigs_prots),:]\n",
    "df_chosen.columns=['Protein']+[f'FC (Day {t})' for t in specs['time']]\n",
    "df_chosen.loc[:,'P-Value'] = df_SA_sort.loc[df_SA_sort['Entry'].isin(sigs_prots),'P.Value'].values\n",
    "df_chosen = df_chosen.sort_values('P-Value')\n",
    "# convert UniProtNames to geneID (entrenz gene id). https://www.uniprot.org/id-mapping/\n",
    "from scripts import pull_geneID\n",
    "import json\n",
    "importlib.reload(pull_geneID)\n",
    "map_ = pull_geneID.pull(sigs_prots)\n",
    "with open(os.path.join(MAIN_DIR,'results','map_geneID.json'),'w') as f:\n",
    "    f.write(json.dumps({'map':map_}))"
   ]
  },
  {
   "cell_type": "code",
   "execution_count": null,
   "id": "4a3ebc67",
   "metadata": {},
   "outputs": [],
   "source": []
  },
  {
   "cell_type": "code",
   "execution_count": null,
   "id": "963ede5f",
   "metadata": {},
   "outputs": [],
   "source": [
    "# plot\n",
    "class Plot:\n",
    "    linewidth = 2\n",
    "    max_diff = np.max(df_diff.iloc[0:,1:].values)\n",
    "    @staticmethod\n",
    "    def mark_p_value(ax,sig_cut_off):\n",
    "        \"\"\"\n",
    "        Markline for the sig\n",
    "        \"\"\"\n",
    "        line_color = 'grey'\n",
    "        dx = ax.get_xlim()\n",
    "        ax.axhline(sig_cut_off,color='grey', linestyle='-.')\n",
    "    @staticmethod\n",
    "    def mark_FC(ax,FC_cut_off):\n",
    "        \"\"\"\n",
    "        Markline for fold change\n",
    "        \"\"\"\n",
    "        line_color = 'grey'\n",
    "        FC_cut_offs = [-FC_cut_off,FC_cut_off]\n",
    "        for FC_cut_off in FC_cut_offs:\n",
    "            ax.axvline(FC_cut_off,color=line_color, linestyle='--',linewidth=Plot.linewidth)\n",
    "    @staticmethod\n",
    "    def scatter(ax,log2FC,negLog10pv,flags):\n",
    "        ax.scatter(log2FC,negLog10pv,\n",
    "                   color=['red' if flag else 'black' for flag in flags],\n",
    "#                    alpha=[1 if flag else .5 for flag in flags]\n",
    "                   alpha = .7,\n",
    "                   linewidths=.5,\n",
    "                   edgecolors='cyan'\n",
    "                  )\n",
    "    def print_names(ax, log2FC, flag):\n",
    "        fontsize = 7\n",
    "        log2FC_s = log2FC[flag].values\n",
    "        gene_names_s = gene_names[flag]\n",
    "        sign_flag = log2FC_s>=0\n",
    "        gene_names_right = gene_names_s[sign_flag]\n",
    "        gene_names_negative = gene_names_s[~sign_flag]\n",
    "        for i, name in enumerate(gene_names_right):\n",
    "            ax.annotate(name,(1.37,3.4-.3*i),fontsize=fontsize)\n",
    "        for i, name in enumerate(gene_names_negative):\n",
    "            ax.annotate(name,(-1.75,3.4-.3*i),fontsize=fontsize)\n",
    "#         ax.annotate(text_right, (1.1,1),fontsize=fontsize)\n",
    "    @staticmethod\n",
    "    def postprocess(ax,time):\n",
    "        ax.set_xlabel('Log₂ (fold-change)')\n",
    "        ax.set_ylabel('- Log₁₀ (p-value)')\n",
    "        ax.set_xlim([-1.3*Plot.max_diff, 1.3*Plot.max_diff])\n",
    "        ax.set_title(f'Day {time}')\n",
    "        ax.set_xticks([-Plot.max_diff,-FC_cut_off,int(0),FC_cut_off, Plot.max_diff])\n",
    "        ax.set_xticklabels([-round(Plot.max_diff,2),-round(FC_cut_off,2),int(0),round(FC_cut_off,2),round(Plot.max_diff,2)])\n",
    "def plot_all():\n",
    "    rows = 6\n",
    "    cols = 2\n",
    "    fig, axes = plt.subplots(rows, cols, tight_layout=True, figsize=(cols*4, rows*3))\n",
    "    i_count = 0\n",
    "    for i in range(rows):\n",
    "        for j in range(cols):\n",
    "            ax = axes[i][j]\n",
    "            time = specs['time'][i_count]\n",
    "            log2FC = df_diff[time]\n",
    "            Plot.scatter(ax,log2FC,negLog10pv,flags[:,i_count])\n",
    "            Plot.mark_p_value(ax,sig_cut_off)\n",
    "            Plot.mark_FC(ax,FC_cut_off)\n",
    "            Plot.postprocess(ax,time)\n",
    "            Plot.print_names(ax,log2FC,flags[:,i_count])\n",
    "            i_count += 1\n",
    "            if i_count >= len(specs['time']):\n",
    "                break\n",
    "    fig.savefig(os.path.join(OUTPUT_DIR,'statAnalysis','volcanic_all.pdf'))\n",
    "    fig.savefig(os.path.join(OUTPUT_DIR,'statAnalysis','volcanic_all.png'),facecolor='white',dpi=300)\n",
    "def plot_selected():\n",
    "    days = [1,3,10,14]\n",
    "    rows = 2\n",
    "    cols = 2\n",
    "    fig, axes = plt.subplots(rows, cols, tight_layout=True, figsize=(cols*4, rows*3))\n",
    "    for i, time in enumerate(days):\n",
    "        ax = axes[int(i/rows)][i%cols]\n",
    "        log2FC = df_diff[time]\n",
    "        index = specs['time'].index(time)\n",
    "        Plot.scatter(ax,log2FC,negLog10pv,flags[:,index])\n",
    "        Plot.mark_p_value(ax,sig_cut_off)\n",
    "        Plot.mark_FC(ax,FC_cut_off)\n",
    "        Plot.print_names(ax,log2FC,flags[:,index])\n",
    "        Plot.postprocess(ax,time)\n",
    "    fig.savefig(os.path.join(OUTPUT_DIR,'statAnalysis','volcanic_selected.pdf'))\n",
    "    fig.savefig(os.path.join(OUTPUT_DIR,'statAnalysis','volcanic_selected.png'),facecolor='white',dpi=300)\n",
    "# plot_all()\n",
    "plot_selected()"
   ]
  },
  {
   "cell_type": "code",
   "execution_count": null,
   "id": "fdbf956f",
   "metadata": {},
   "outputs": [],
   "source": [
    "# plot table of FC and pvalues\n",
    "from matplotlib.ticker import FormatStrFormatter\n",
    "fig, ax = plt.subplots(1, 1, tight_layout=True, figsize=(4, 3))\n",
    "fig.patch.set_visible(False)\n",
    "ax.axis('off')\n",
    "ax.axis('tight')\n",
    "df_chosen = df_chosen.iloc[0:10,:]\n",
    "df_chosen_r = df_chosen.round(4)\n",
    "table= plt.table(cellText=df_chosen_r.values, colLabels=df_chosen_r.columns, loc='center')\n",
    "from matplotlib.font_manager import FontProperties\n",
    "for (row, col), cell in table.get_celld().items():\n",
    "    if (row == 0):\n",
    "        cell.set_text_props(fontproperties=FontProperties(weight='bold'))\n",
    "fig.savefig(os.path.join(OUTPUT_DIR,'table.pdf'))"
   ]
  },
  {
   "cell_type": "markdown",
   "id": "b3ec663d",
   "metadata": {},
   "source": [
    "# Enrichment analysis"
   ]
  },
  {
   "cell_type": "code",
   "execution_count": 28,
   "id": "6960bd2e",
   "metadata": {},
   "outputs": [
    {
     "name": "stdout",
     "output_type": "stream",
     "text": [
      "O94925\n",
      "P00568\n",
      "P04179\n",
      "P06753\n",
      "P07339\n",
      "P12956\n",
      "P13010\n",
      "P15374\n",
      "P18859\n",
      "P21281\n",
      "P23246\n",
      "P26022\n",
      "P27816\n",
      "P30048\n",
      "P30085\n",
      "P35222\n",
      "P38606\n",
      "P42765\n",
      "P46379\n",
      "P49756\n",
      "P53621\n",
      "P61981\n",
      "P62328\n",
      "P62854\n",
      "P62906\n",
      "P62913\n",
      "P81644\n",
      "Q01995\n",
      "Q02218\n",
      "Q02818\n",
      "Q07065\n",
      "Q07866\n",
      "Q07954\n",
      "Q13162\n",
      "Q13263\n",
      "Q14011\n",
      "Q14444\n",
      "Q15233\n",
      "Q15459\n",
      "Q15843\n",
      "Q16629\n",
      "Q7Z417\n",
      "Q96HC4\n",
      "Q96KR1\n",
      "Q9UHD8\n",
      "Q9UJZ1\n",
      "Q9UMS6\n",
      "Q9UNH7\n"
     ]
    }
   ],
   "source": [
    "# make a string out of proteins names\n",
    "sr = ''\n",
    "for gene in sigs_prots:\n",
    "    sr+=gene + '\\n'\n",
    "    print(gene)\n"
   ]
  },
  {
   "cell_type": "code",
   "execution_count": 14,
   "id": "7b876261",
   "metadata": {},
   "outputs": [],
   "source": [
    "# yet to be defined\n",
    "enrich_process = pd.read_csv('C:/Users/nourisa/Downloads/enrichment.Process.tsv',sep='\\t',index_col=False)\n",
    "enrich_process.sort_values('strength', ascending=False, inplace=True)\n",
    "enrich_process = enrich_process.loc[:,['term description','observed gene count','strength','false discovery rate','matching proteins in your network (labels)']]\n",
    "enrich_process.rename(columns={'term description':'Term','observed gene count':'Protein count','strength':'Strength','false discovery rate':'FDR','matching proteins in your network (labels)':'Proteins'},inplace=True)\n"
   ]
  },
  {
   "cell_type": "code",
   "execution_count": 25,
   "id": "ec19e67e",
   "metadata": {},
   "outputs": [
    {
     "name": "stdout",
     "output_type": "stream",
     "text": [
      "Fetched: 48 / 48\n"
     ]
    }
   ],
   "source": []
  },
  {
   "cell_type": "code",
   "execution_count": null,
   "id": "f566c495",
   "metadata": {},
   "outputs": [],
   "source": [
    "\n",
    "df_clusters = pd.read_csv(os.path.join(MAIN_DIR,'string','string_MCL_clusters.tsv'),sep='\\t')\n",
    "df_clusters"
   ]
  },
  {
   "cell_type": "markdown",
   "id": "961595e2",
   "metadata": {},
   "source": [
    "# Noncategorized "
   ]
  },
  {
   "cell_type": "code",
   "execution_count": null,
   "id": "9d7e0eaf",
   "metadata": {},
   "outputs": [],
   "source": [
    "# plot the time series of sig prots\n",
    "utils.plot_time_series(df, prots=sigs_prots, c_tag='ctr_', s_tag='mg_', p_ID='Entry', time=specs['time'], ee=0.5)"
   ]
  },
  {
   "cell_type": "code",
   "execution_count": null,
   "id": "64a6eafd",
   "metadata": {},
   "outputs": [],
   "source": [
    "# visualize the sig proteins for original and imputed versions\n",
    "from scripts import utils\n",
    "candids = sigs_prots[0:10]\n",
    "utils.plot_time_series_mutual(df1=df,df2=df_imput, prots=candids, )"
   ]
  },
  {
   "cell_type": "markdown",
   "id": "8f26d949",
   "metadata": {},
   "source": [
    "plot time serties of Moreneo's sig prots and check which ones are detected in our analysis"
   ]
  },
  {
   "cell_type": "code",
   "execution_count": null,
   "id": "0a5ad14c",
   "metadata": {},
   "outputs": [],
   "source": [
    "from scripts import utils\n",
    "importlib.reload(utils)\n",
    "moreneo_sigs = ['SDF4','NUFIP2','BUB3','HMGA2','KIF5B','DYNC1I2','DCTN1','S100A10','SYNPO2','MARCKS','THY1','HUWE1','PRPF8','RPS18','GCN1L1','RPL14','RBM8A','RPL23A','CANX','DLST','PDHB','ALDOC','APOA1','GGH','UAP1','ENO2','BAG3','HNRNPAB','BASP1','THRAP3','LRPPRC','CSE1L','PABPC4']\n",
    "utils.plot_time_series(df, prots=moreneo_sigs[0:len(moreneo_sigs)], c_tag='ctr_', s_tag='mg_', p_ID='Gene', time=specs['time'], ee=0.5)"
   ]
  },
  {
   "cell_type": "code",
   "execution_count": null,
   "id": "6e7af932",
   "metadata": {},
   "outputs": [],
   "source": [
    "# check the overlap between Moreneo's sig prots and this study\n",
    "df_overlap = df_sig.loc[df_sig['Gene'].isin(moreneo_sigs)]\n",
    "prots_overlap = df_overlap['Entry'].values\n",
    "print(prots_overlap)\n",
    "# utils.plot_time_series(df, prots=prots_overlap, c_tag='ctr_', s_tag='mg_', p_ID='Gene', time=specs['time'], ee=0.5)\n",
    "# print(prots_overlap)\n",
    "df_sig.head()"
   ]
  },
  {
   "cell_type": "code",
   "execution_count": null,
   "id": "0f3fe58e",
   "metadata": {},
   "outputs": [],
   "source": [
    "# imputing code\n",
    "import copy\n",
    "def KNNImputer(df, n_neighbors=2): #TODO: n neighbors should be evaluated\n",
    "    from sklearn import impute\n",
    "    df_copy = copy.deepcopy(df)\n",
    "    data = df[[f'ctr_{i}' for i in time]+[f'mg_{i}' for i in time]].values\n",
    "    imputer = impute.KNNImputer(n_neighbors=n_neighbors)\n",
    "    new_data = imputer.fit_transform(data)\n",
    "    df_copy[[f'ctr_{i}' for i in time]+[f'mg_{i}' for i in time]] = new_data\n",
    "    return df_copy\n",
    "df_imput = KNNImputer(df) #TODO: this can be experimented\n",
    "for gene in df_imput['Entry'].values:\n",
    "    if df_imput.loc[df_imput['Entry']==gene].isna().values.any():\n",
    "        print('still missing values: ', gene)"
   ]
  }
 ],
 "metadata": {
  "kernelspec": {
   "display_name": "Python 3 (ipykernel)",
   "language": "python",
   "name": "python3"
  },
  "language_info": {
   "codemirror_mode": {
    "name": "ipython",
    "version": 3
   },
   "file_extension": ".py",
   "mimetype": "text/x-python",
   "name": "python",
   "nbconvert_exporter": "python",
   "pygments_lexer": "ipython3",
   "version": "3.8.13"
  }
 },
 "nbformat": 4,
 "nbformat_minor": 5
}
