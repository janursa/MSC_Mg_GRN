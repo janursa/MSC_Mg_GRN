{
 "cells": [
  {
   "cell_type": "code",
   "execution_count": 20,
   "id": "ac24b5a3",
   "metadata": {},
   "outputs": [],
   "source": [
    "import pandas as pd\n",
    "pd.options.mode.chained_assignment = None\n",
    "import numpy as np\n",
    "import importlib\n",
    "import sys\n",
    "import copy\n",
    "import os\n",
    "from sklearn import preprocessing\n",
    "from scripts.utils import time\n",
    "import matplotlib.pyplot as plt\n",
    "\n",
    "MAIN_DIR = 'C:/Users/nourisa/Downloads/testProjs/proteomics_MSC/'\n",
    "OUTPUT_DIR = os.path.join(MAIN_DIR, 'results')\n",
    "geneRNI_dir = os.path.join(MAIN_DIR,'..','geneRNI')\n",
    "sys.path.insert(0, geneRNI_dir)\n",
    "\n",
    "from geneRNI import geneRNI, tools, search_param\n",
    "df_target = pd.read_csv('results/statAnalysis/df_sig.csv')\n",
    "gene_names = list(df_target['Entry'].values)\n",
    "\n",
    "def read_write_oo(study, mode, best_params=None, best_scores=None):\n",
    "    '''\n",
    "        Read and writes calibration results (best params and best scores) to file\n",
    "    '''\n",
    "    FILE = os.path.join(MAIN_DIR,'results/calibration',f'oo_{study}.txt')\n",
    "    if mode == 'write':\n",
    "        with open(FILE,'w') as f:\n",
    "            print({'best_params':best_params, 'best_scores':best_scores},file=f)\n",
    "    elif mode == 'read':\n",
    "        with open(FILE,'r') as f:\n",
    "            oo = eval(f.read())\n",
    "        return oo['best_params'], oo['best_scores']"
   ]
  },
  {
   "cell_type": "markdown",
   "id": "d3fe98fa",
   "metadata": {},
   "source": [
    "# Process the data\n",
    "- Extract ctr and mg data from the time series"
   ]
  },
  {
   "cell_type": "code",
   "execution_count": 4,
   "id": "209753e1",
   "metadata": {},
   "outputs": [],
   "source": [
    "# extract ctr and mg data\n",
    "df_ctr = df_target.loc[:,['ctr_'+str(day) for day in time]].T\n",
    "df_mg = df_target.loc[:,['mg_'+str(day) for day in time]].T\n",
    "\n",
    "# add mg as a regulatory factor with 0 for ctr and 1 for mg\n",
    "# df_ctr['ctr_mg'] = np.zeros(len(time)) \n",
    "# df_mg['mg_mg'] = np.ones(len(time)) \n",
    "# gene_names.append('mg')\n",
    "\n",
    "# normalize, equal variance\n",
    "df_ctr_n = copy.deepcopy(df_ctr)\n",
    "df_ctr_n.iloc[:,:] = preprocessing.scale(df_ctr.iloc[:,:])\n",
    "df_mg_n = copy.deepcopy(df_mg)\n",
    "df_mg_n.iloc[:,:] = preprocessing.scale(df_mg.iloc[:,:])\n",
    "\n",
    "# get the data as arrays\n",
    "data_ctr = df_ctr_n.values\n",
    "data_mg = df_mg_n.values"
   ]
  },
  {
   "cell_type": "markdown",
   "id": "18eb115e",
   "metadata": {},
   "source": [
    "# Run GRN using geneRNI framework\n",
    "Steps:\n",
    "- extract training data from the sig df\n",
    "- add mg as a regulatory gene (0 for ctr and 1 for mg)\n",
    "- combined the data of ctr and mg\n",
    "- tune the param \n",
    "- extract regulatory links"
   ]
  },
  {
   "cell_type": "code",
   "execution_count": 17,
   "id": "5567b85f",
   "metadata": {},
   "outputs": [
    {
     "name": "stdout",
     "output_type": "stream",
     "text": [
      "Data shape: (48, 10) (n_samples_time_series*n_genes)\n",
      "----Tuning for mg-----\n",
      "stats: 48 genes 2400 permts 10 threads\n",
      "Running 60 samples randomly\n",
      "Permutation-based multi threading\n",
      "Param search is completed in 58.605 seconds\n",
      "mean best score 0.18886624070076832\n"
     ]
    }
   ],
   "source": [
    "# tune params using geneRNI: only train set\n",
    "from geneRNI import search_param\n",
    "importlib.reload(search_param)\n",
    "specs = dict(\n",
    "#     train_flag=True\n",
    ")\n",
    "param = dict(estimator_t = 'RF',random_state = 0)\n",
    "param_grid = dict(alpha=np.arange(0,1,.05), min_samples_split=np.arange(2,5,1), min_samples_leaf=np.arange(1,5,1),max_depth=np.arange(10,20,1))\n",
    "Xs_ctr, ys_ctr = tools.Data.process_time_series(TS_data=[data_ctr], time_points=[time], gene_names=gene_names)\n",
    "Xs_mg, ys_mg = tools.Data.process_time_series(TS_data=[data_mg], time_points=[time], gene_names=gene_names)\n",
    "print('Data shape:', np.array(ys_ctr).shape, '(n_samples_time_series*n_genes)')\n",
    "\n",
    "def tune(Xs, ys, study):\n",
    "    print(f'----Tuning for {study}-----')\n",
    "    best_scores, best_params, best_ests, sampled_permts_sorted = \\\n",
    "            search_param.rand_search(Xs, ys, param=param, \n",
    "                                     param_grid=param_grid, \n",
    "                                     n_jobs=10, n_sample=60, \n",
    "                                     output_dir='results/calibration', **specs)\n",
    "    read_write_oo(study, mode='write',best_params, best_scores)\n",
    "    print(f'mean best score {np.mean(best_scores)}')\n",
    "    return best_scores, best_params\n",
    "# _ = tune(Xs_ctr, ys_ctr, study='ctr')\n",
    "_ = tune(Xs_mg, ys_mg, study='mg')"
   ]
  },
  {
   "cell_type": "code",
   "execution_count": 21,
   "id": "a0191a74",
   "metadata": {},
   "outputs": [
    {
     "data": {
      "image/png": "[encoded data removed]",
      "text/plain": [
       "<Figure size 432x288 with 1 Axes>"
      ]
     },
     "metadata": {
      "needs_background": "light"
     },
     "output_type": "display_data"
    },
    {
     "data": {
      "image/png": "[encoded data removed]",
      "text/plain": [
       "<Figure size 720x360 with 2 Axes>"
      ]
     },
     "metadata": {
      "needs_background": "light"
     },
     "output_type": "display_data"
    }
   ],
   "source": [
    "# box plots for best params and best scores\n",
    "def plot(study):\n",
    "    ''' \n",
    "         Plot best scores and best params\n",
    "    ''' \n",
    "    # read the outputs of tunning\n",
    "    best_params, best_scores = read_write_oo(study,mode='read')\n",
    "    tools.GOF.boxplot_scores_single(best_scores)\n",
    "    tools.GOF.boxplot_params(best_params, priors=param_grid, samples=None)\n",
    "plot('mg')"
   ]
  },
  {
   "cell_type": "code",
   "execution_count": 23,
   "id": "03daeb36",
   "metadata": {},
   "outputs": [
    {
     "name": "stdout",
     "output_type": "stream",
     "text": [
      "----GRN for mg-----\n",
      "\n",
      "network inference: train score, mean: 0.888 std: 0.041\n",
      "network inference: oob score (only RF), mean: 0.067 std: 0.34\n"
     ]
    }
   ],
   "source": [
    "# GRN\n",
    "import importlib\n",
    "import json\n",
    "importlib.reload(tools)\n",
    "importlib.reload(geneRNI)\n",
    "\n",
    "def GRN(Xs, ys, study='ctr'):\n",
    "    print(f'----GRN for {study}-----')\n",
    "    # read the outputs of tunning\n",
    "    best_params, best_scores = read_write_oo(study, mode='read')\n",
    "    # run the network inference\n",
    "    param = dict(estimator_t='RF', random_state=0)\n",
    "\n",
    "    ests, train_scores, links_df, oob_scores, test_scores = \\\n",
    "        geneRNI.network_inference(Xs, ys, gene_names=gene_names, \n",
    "                                  param=param, param_unique=best_params, \n",
    "                                  Xs_test=None, ys_test=None, verbose=True\n",
    "                                  )\n",
    "    links_df.to_csv(os.path.join(MAIN_DIR,'results/GRN',f'geneRNI_{study}.csv'))\n",
    "# GRN(Xs_ctr, ys_ctr, study='ctr')\n",
    "GRN(Xs_mg, ys_mg, study='mg')"
   ]
  },
  {
   "cell_type": "markdown",
   "id": "8faad337",
   "metadata": {},
   "source": [
    "## Filter genes with high test scores"
   ]
  },
  {
   "cell_type": "code",
   "execution_count": 24,
   "id": "68c4bfc3",
   "metadata": {},
   "outputs": [],
   "source": [
    "best_params_ctr, best_scores_ctr = read_write_oo(study='ctr', mode='read')\n",
    "best_params_mg, best_scores_mg = read_write_oo(study='mg', mode='read')\n"
   ]
  },
  {
   "cell_type": "markdown",
   "id": "b66a21d2",
   "metadata": {},
   "source": [
    "# # Run GRN using Portia"
   ]
  },
  {
   "cell_type": "code",
   "execution_count": null,
   "id": "de9828f3",
   "metadata": {},
   "outputs": [],
   "source": [
    "# portia\n",
    "dir_portia = os.path.join(MAIN_DIR,'..','external/PORTIA-master')\n",
    "sys.path.insert(0,dir_portia)\n",
    "import portia as pt"
   ]
  },
  {
   "cell_type": "code",
   "execution_count": null,
   "id": "cd8188b6",
   "metadata": {},
   "outputs": [],
   "source": [
    "dataset = pt.GeneExpressionDataset()\n",
    "exp_id = 1\n",
    "for data in df_ctr.values:\n",
    "    dataset.add(pt.Experiment(exp_id, data))\n",
    "    exp_id+=1\n",
    "for data in df_mg.values:\n",
    "    dataset.add(pt.Experiment(exp_id, data))\n",
    "    exp_id+=1\n",
    "print(f'n genes: {dataset.n_genes}, n samples: {dataset.n_samples}, n features: {dataset.n_features}')"
   ]
  },
  {
   "cell_type": "code",
   "execution_count": null,
   "id": "eb61c840",
   "metadata": {},
   "outputs": [],
   "source": [
    "M_bar = pt.run(dataset, method='fast')\n",
    "links_df = tools.Links.format(M_bar, gene_names)"
   ]
  },
  {
   "cell_type": "markdown",
   "id": "3898b6f1",
   "metadata": {},
   "source": [
    "# Porcess the links\n",
    "- Compare the extracted links to ground truth (those extracted by STRINGS) \n",
    "- Visualize the links"
   ]
  },
  {
   "cell_type": "code",
   "execution_count": null,
   "id": "cc647da2",
   "metadata": {},
   "outputs": [],
   "source": [
    "# read the results\n",
    "# links_df = pd.read_csv(os.path.join(MAIN_DIR,'results/links.txt'), index_col=0)\n",
    "# examinations\n",
    "# links_df.loc[links_df['Regulator']=='mg']\n",
    "# links_df.loc[links_df['Target']=='mg']"
   ]
  },
  {
   "cell_type": "code",
   "execution_count": null,
   "id": "a172c439",
   "metadata": {
    "scrolled": true
   },
   "outputs": [],
   "source": [
    "# make a shortlist of the links \n",
    "cut_off = np.quantile(links_df['Weight'],q=.9)\n",
    "# apply the cutoff: selected links\n",
    "links_df_s = links_df.loc[links_df['Weight']>cut_off,:]\n",
    "# read outputs of string\n",
    "STR_LINKS_FILE = os.path.join(MAIN_DIR,'string','string_interactions_short.tsv')\n",
    "MAP_GENES_FILE = os.path.join(MAIN_DIR,'string','string_mapping.tsv')\n",
    "# extract links from string\n",
    "df_links_str = pd.read_csv(STR_LINKS_FILE, sep='\\t')\n",
    "df_links_str = df_links_str.rename(columns={'#node1':'Regulator','node2':'Target','combined_score':'Weight'})\n",
    "df_links_str = df_links_str.loc[:,['Regulator','Target','Weight']]  \n",
    "# read mapping: strings uses different names \n",
    "df_gene_maps = pd.read_csv(MAP_GENES_FILE, sep='\\t')\n",
    "gene_maps = {}\n",
    "for queryItem, preferredName in zip(df_gene_maps['queryItem'].values,df_gene_maps['preferredName'].values):\n",
    "    gene_maps.update({preferredName:queryItem})\n",
    "print(f'Number of string links: {len(df_links_str)}')\n",
    "print(f'Number of extracted links: {len(links_df_s)}')\n",
    "if len(df_links_str)>len(links_df_s):\n",
    "    raise ValueError('Extracted links cannot be lesser than golden links')\n",
    "# scale to have equal variance of 1\n",
    "# df_links_str.loc[:,'Weight'] = preprocessing.scale(df_links_str.loc[:,'Weight'].values)\n",
    "# df_s.loc[:,'Weight'] = preprocessing.scale(df_s.loc[:,'Weight'].values)\n",
    "print(f\"Golden, mean: {np.mean(df_links_str.loc[:,'Weight'])} std: {np.std(df_links_str['Weight'])}\")\n",
    "print(f\"Extracted, mean: {np.mean(links_df_s['Weight'])} std: {np.std(links_df_s['Weight'])}\")\n",
    "\n",
    "# how many of string links are included in the extracted links\n",
    "regs = df_links_str['Regulator'].values\n",
    "targs = df_links_str['Target'].values\n",
    "pairs = [(reg,targ) for reg,targ in zip(regs, targs)]\n",
    "found = []\n",
    "for pair in pairs:\n",
    "    step1_df = links_df_s.loc[links_df_s['Regulator']==gene_maps[pair[0]],:]\n",
    "    found.append(np.any(step1_df['Target'] == gene_maps[pair[1]]))\n",
    "print(f'Number of matched links: {np.count_nonzero(np.array(found))}')"
   ]
  },
  {
   "cell_type": "markdown",
   "id": "b0d0c66a",
   "metadata": {},
   "source": [
    "### Visualize"
   ]
  },
  {
   "cell_type": "code",
   "execution_count": null,
   "id": "12b6b144",
   "metadata": {},
   "outputs": [],
   "source": [
    "# calculate sum of outgoing links\n",
    "import copy\n",
    "sum_ws = [sum(links_df.loc[links_df['Regulator']==gene,:]['Weight']) for gene in gene_names]\n",
    "df_sum_ws = pd.DataFrame(data={'Entry':gene_names,'SumWeight':sum_ws})\n",
    "df_sum_ws_s = df_sum_ws.sort_values('SumWeight')\n",
    "vertex_sizes = sum_ws\n",
    "# replace the names with indices: index of the genes in the gene_names\n",
    "df_s = copy.deepcopy(links_df_s)\n",
    "df_s.loc[:,'Regulator'] = [gene_names.index(name) for name in list(df_s['Regulator'].values)]\n",
    "df_s.loc[:,'Target'] = [gene_names.index(name) for name in list(df_s['Target'].values)]\n",
    "edges = df_s.loc[:,['Regulator','Target']].values\n",
    "weights = df_s['Weight'].values\n",
    "print(f'number of links to visualize {len(df_s)}')"
   ]
  },
  {
   "cell_type": "code",
   "execution_count": null,
   "id": "bcc57370",
   "metadata": {},
   "outputs": [],
   "source": [
    "# visualize the links\n",
    "import igraph as ig\n",
    "import matplotlib.pyplot as plt\n",
    "\n",
    "# Construct a graph with 3 vertices\n",
    "n_vertices = len(gene_names)\n",
    "g = ig.Graph(n_vertices, edges, directed=False)\n",
    "\n",
    "# Set attributes for the graph, nodes, and edges\n",
    "g[\"title\"] = \"Regulatory network\"\n",
    "g.vs[\"name\"] = gene_names\n",
    "g.vs[\"weights\"] = weights\n",
    "g.vs[\"vertex_sizes\"] = vertex_sizes\n",
    "# Plot in matplotlib\n",
    "fig, ax = plt.subplots(figsize=(10,10))\n",
    "vertex_size_correction = .4/np.max(vertex_sizes)\n",
    "edge_size_correction = 2/np.max(weights)\n",
    "ig.plot(\n",
    "    g,\n",
    "    target=ax,\n",
    "    layout=\"kk\", # print nodes in a circular layout\n",
    "    vertex_size=[x*vertex_size_correction for x in g.vs[\"vertex_sizes\"]],\n",
    "    vertex_color=\"white\",\n",
    "#     vertex_frame_width=8,\n",
    "#     vertex_frame_color=\"white\",\n",
    "    vertex_label=g.vs[\"name\"],\n",
    "    vertex_label_size=12,\n",
    "    edge_width=[x*edge_size_correction for x in weights],\n",
    "    edge_arrow_width = .5\n",
    "#     edge_color=[\"#7142cf\" if x>np.mean(g.es['weights']) else \"#AAA\" for married in g.es[\"married\"]]\n",
    ")\n",
    "\n",
    "plt.show()\n",
    "\n",
    "# Save the graph as an image file\n",
    "fig.savefig('RGN.png') "
   ]
  },
  {
   "cell_type": "markdown",
   "id": "ab00fdd4",
   "metadata": {},
   "source": [
    "# Vester’s Sensitivity Model (VSM)\n",
    "- AS: active sum. Sum along rows of the influence matrix and it indicates how much does a variable influence all the others.\n",
    "- PS: passive sum. Its is the sum along columns of the influence matrix and it indicates how sensitive a variable is, how does it react to the influence of others\n",
    "- Q: AS/PS -> how dominant\n",
    "- P: AS.PS -> how participative a variable is\n",
    "- Active: +Q\n",
    "- Passive: -Q, -P\n",
    "- Critical: +Q, +P\n",
    "- Buffering: -Q, -P"
   ]
  },
  {
   "cell_type": "code",
   "execution_count": null,
   "id": "5b8af025",
   "metadata": {},
   "outputs": [],
   "source": [
    "# import the inputs\n",
    "links_df = pd.read_csv(os.path.join(MAIN_DIR,'results/links.txt'), index_col=0)\n",
    "# calculate AS and PS\n",
    "AS = [sum(links_df.loc[links_df['Regulator']==gene,:]['Weight']) for gene in gene_names]\n",
    "PS = [sum(links_df.loc[links_df['Target']==gene,:]['Weight']) for gene in gene_names] \n",
    "df_sum = pd.DataFrame(data={'Entry':gene_names,'AS':AS, 'PS':PS})"
   ]
  },
  {
   "cell_type": "code",
   "execution_count": null,
   "id": "de5daa9f",
   "metadata": {},
   "outputs": [],
   "source": []
  },
  {
   "cell_type": "code",
   "execution_count": null,
   "id": "d9525446",
   "metadata": {},
   "outputs": [],
   "source": [
    "class Plot:\n",
    "    linewidth = 2\n",
    "    markers = ['o','o','o','*']\n",
    "    colors = ['green','blue','magenta','r']\n",
    "    sizes = [30*i for i in [1,1.5,2,5]]\n",
    "    @staticmethod\n",
    "    def mark_y(ax, y_t):\n",
    "        \"\"\"\n",
    "        Markline for the sig\n",
    "        \"\"\"\n",
    "        line_color = 'grey'\n",
    "        dx = ax.get_xlim()\n",
    "        ax.axhline(y_t,color='grey', linestyle='-.')\n",
    "    @staticmethod\n",
    "    def mark_x(ax, x_t):\n",
    "        \"\"\"\n",
    "        Markline for fold change\n",
    "        \"\"\"\n",
    "        line_color = 'grey'\n",
    "        ax.axvline(x_t,color=line_color, linestyle='--',linewidth=Plot.linewidth)\n",
    "    @staticmethod\n",
    "    def scatter(ax,PS, AS, roles):\n",
    "        import matplotlib.markers as mmarkers\n",
    "        sc = ax.scatter(PS,AS,\n",
    "                   color=[Plot.colors[i] for i in roles],\n",
    "#                    alpha=[1 if flag else .5 for flag in flags]\n",
    "#                    alpha = .7,\n",
    "                   linewidths=.5,\n",
    "                   edgecolors='black',\n",
    "                  s = [Plot.sizes[i] for i in roles],\n",
    "                  )\n",
    "        markers = [Plot.markers[i] for i in roles]\n",
    "        paths = []\n",
    "        for marker in markers:\n",
    "            marker_obj = mmarkers.MarkerStyle(marker)\n",
    "            path = marker_obj.get_path().transformed(\n",
    "                        marker_obj.get_transform())\n",
    "            paths.append(path)\n",
    "        sc.set_paths(paths)\n",
    " \n",
    "    def print_roles(ax):\n",
    "        fontsize = 10\n",
    "        LD = [0.1,0.05]\n",
    "        RD = [1.4,0.05]\n",
    "        LU = [0.1,.88]\n",
    "        RU = [1.4,.88]\n",
    "        ax.annotate('Buffering', LD, fontsize=fontsize)\n",
    "        ax.annotate('Passive', RD, fontsize=fontsize)\n",
    "        ax.annotate('Active', LU, fontsize=fontsize)\n",
    "        ax.annotate('Critical', RU, fontsize=fontsize)\n",
    "    def print_names(ax, AS, PS, gene_names, roles):\n",
    "        '''\n",
    "            Prints names of critical genes on the scatter plot\n",
    "        '''\n",
    "        fontsize = 7\n",
    "        offset = .05\n",
    "        for i, gene_name in enumerate(gene_names):\n",
    "            role = roles[i]\n",
    "            if role != 3: #just critical \n",
    "                continue\n",
    "            x = PS[i]\n",
    "            y = AS[i]\n",
    "            \n",
    "            ax.annotate(gene_name, (x-2*offset,y-offset), fontsize=fontsize)\n",
    "\n",
    "    @staticmethod\n",
    "    def postprocess(ax, title, x_t, y_t):\n",
    "        ax.set_xlabel('Passive Sum')\n",
    "        ax.set_ylabel('Active Sum')\n",
    "#         ax.set_xlim([-1.2*Plot.max_diff, 1.2*Plot.max_diff])\n",
    "        ax.set_title(title)\n",
    "        ax.set_xticks([])\n",
    "        ax.set_yticks([])\n",
    "def plot_1(df_ctr, df_mg):\n",
    "    '''\n",
    "        Plots AS/PS for ctr and mg conditions.\n",
    "    '''\n",
    "    rows = 1\n",
    "    cols = 2\n",
    "    fig, axes = plt.subplots(rows, cols, tight_layout=True, figsize=(cols*4, rows*4))\n",
    "    dfs = [df_ctr, df_mg]\n",
    "    titles = ['Control','Mg']\n",
    "    for j in range(cols):\n",
    "        df = dfs[j]\n",
    "        if df is None:\n",
    "            continue\n",
    "        ax = axes[j]\n",
    "        # define the roles\n",
    "        AS = df['AS'].values\n",
    "        PS = df['PS'].values\n",
    "        x_t = (max(PS)-min(PS))/2 + min(PS)\n",
    "        y_t = (max(AS)-min(AS))/2 + min(AS)\n",
    "        y_flags = AS>y_t\n",
    "        x_flags = PS>x_t\n",
    "        roles = [2*y_flag+x_flag for x_flag, y_flag in zip(x_flags,y_flags)]\n",
    "        # visualize\n",
    "        Plot.scatter(ax,PS=PS, AS=AS, roles=roles)\n",
    "        Plot.mark_x(ax,x_t)\n",
    "        Plot.mark_y(ax, y_t)\n",
    "        Plot.print_roles(ax)\n",
    "        Plot.print_names(ax=ax, AS=AS, PS=PS, gene_names=gene_names, roles=roles)\n",
    "        Plot.postprocess(ax, title=titles[j], x_t=x_t, y_t=y_t)\n",
    "    fig.savefig(os.path.join(OUTPUT_DIR, 'roles_ctr_mg.pdf'))\n",
    "plot_1(df_sum,None)"
   ]
  }
 ],
 "metadata": {
  "kernelspec": {
   "display_name": "Python 3 (ipykernel)",
   "language": "python",
   "name": "python3"
  },
  "language_info": {
   "codemirror_mode": {
    "name": "ipython",
    "version": 3
   },
   "file_extension": ".py",
   "mimetype": "text/x-python",
   "name": "python",
   "nbconvert_exporter": "python",
   "pygments_lexer": "ipython3",
   "version": "3.8.13"
  }
 },
 "nbformat": 4,
 "nbformat_minor": 5
}
