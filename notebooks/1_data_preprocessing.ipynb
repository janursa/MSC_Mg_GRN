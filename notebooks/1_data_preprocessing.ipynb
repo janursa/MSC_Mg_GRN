{
 "cells": [
  {
   "cell_type": "markdown",
   "id": "4fc236eb",
   "metadata": {},
   "source": [
    "<div class=\"alert alert-info\">\n",
    "\n",
    "# Overview\n",
    "    \n",
    "In this section, we conduct the following tasks:\n",
    "- Basic editing of the original proteomics data. This file is then used for DE statitical analysis\n",
    "- Once the DE analysis results are ready, located in the main directory under the folder name 'statitical_analysis' we continue\n",
    "- Extract DE proteins and associated data \n",
    "- Map protnames to genenames \n",
    "\n",
    "</div>  "
   ]
  },
  {
   "cell_type": "code",
   "execution_count": 2,
   "id": "e98d5deb",
   "metadata": {},
   "outputs": [
    {
     "name": "stdout",
     "output_type": "stream",
     "text": [
      "Original data size: 2562\n",
      "Data size after removing rows with all zeros: 2229\n",
      "number of proteins 2229\n",
      "Index(['Entry', 'Gene names  (primary)', 'ctr_1', 'mg_1', 'ctr_2', 'mg_2',\n",
      "       'ctr_3', 'mg_3', 'ctr_4', 'mg_4', 'ctr_7', 'mg_7', 'ctr_8', 'mg_8',\n",
      "       'ctr_9', 'mg_9', 'ctr_10', 'mg_10', 'ctr_11', 'mg_11', 'ctr_14',\n",
      "       'mg_14', 'ctr_21', 'mg_21'],\n",
      "      dtype='object')\n",
      "ourputs are written to C:\\Users\\nourisa\\Documents\\testProjs\\completed\\proteomics_MSC_Mg_model\\proteomics_MSC\\../results/data\n"
     ]
    }
   ],
   "source": [
    "# edit the original proteomics data\n",
    "%run ../proteomics_MSC/preprocess/edit_data.py"
   ]
  },
  {
   "cell_type": "code",
   "execution_count": 6,
   "id": "9008a25c",
   "metadata": {},
   "outputs": [
    {
     "name": "stdout",
     "output_type": "stream",
     "text": [
      "Number of DE proteins 41\n",
      "Number of DE proteins 48\n",
      "Number of DE proteins 40\n",
      "Number of DE proteins 50\n",
      "Output C:\\Users\\nourisa\\Documents\\testProjs\\completed\\proteomics_MSC_Mg_model\\proteomics_MSC\\..\\results\\data\\DE_data.csv\n",
      "Output C:\\Users\\nourisa\\Documents\\testProjs\\completed\\proteomics_MSC_Mg_model\\proteomics_MSC\\..\\results\\data\\common_proteins.csv\n",
      "common DE proteins ['P62328', 'Q07954', 'P49023', 'Q07065', 'Q01995']\n"
     ]
    }
   ],
   "source": [
    "# run post DE analysis\n",
    "import os\n",
    "assert (os.path.exists('../statistical_analysis'))\n",
    "%run ../proteomics_MSC/preprocess/process_DE_analysis.py"
   ]
  },
  {
   "cell_type": "code",
   "execution_count": 1,
   "id": "8d834e5c",
   "metadata": {},
   "outputs": [
    {
     "name": "stdout",
     "output_type": "stream",
     "text": [
      "Fetched: 115 / 115\n",
      "output -> C:\\Users\\nourisa\\Documents\\testProjs\\completed\\proteomics_MSC_Mg_model\\proteomics_MSC\\../results/data/protnames_to_genenames.json\n"
     ]
    }
   ],
   "source": [
    "# map protnames to genenames\n",
    "%run ../proteomics_MSC/preprocess/protname_to_genename.py"
   ]
  }
 ],
 "metadata": {
  "kernelspec": {
   "display_name": "proteomics_MSC",
   "language": "python",
   "name": "python3"
  },
  "language_info": {
   "codemirror_mode": {
    "name": "ipython",
    "version": 3
   },
   "file_extension": ".py",
   "mimetype": "text/x-python",
   "name": "python",
   "nbconvert_exporter": "python",
   "pygments_lexer": "ipython3",
   "version": "3.10.12"
  }
 },
 "nbformat": 4,
 "nbformat_minor": 5
}
