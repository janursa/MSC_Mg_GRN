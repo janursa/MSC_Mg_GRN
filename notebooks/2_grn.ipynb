{
 "cells": [
  {
   "cell_type": "markdown",
   "id": "4fc236eb",
   "metadata": {},
   "source": [
    "<div class=\"alert alert-info\">\n",
    "\n",
    "# Overview\n",
    "    \n",
    "In this section, we conduct the following tasks:\n",
    "- Tuning of model hyperparameters for ridge and rf\n",
    "- GRN for different methods\n",
    "\n",
    "</div>  "
   ]
  },
  {
   "cell_type": "code",
   "execution_count": 2,
   "id": "8ca946a0",
   "metadata": {},
   "outputs": [
    {
     "name": "stdout",
     "output_type": "stream",
     "text": [
      "----Tuning for method: RF, study: ctr\n",
      "stats: 41 genes 700 permts 10 threads\n",
      "Output directory is not empty\n",
      "Running 60 samples randomly from 0 to 1 iterations\n",
      "----Run iteration 0-----\n",
      "Permutation-based multi threading\n"
     ]
    }
   ],
   "source": [
    "# tune RF model. this will take a long time if n_replica_calibration_run_RF is high\n",
    "%run ../proteomics_MSC/calibration/RF_tune.py --n-jobs 10"
   ]
  },
  {
   "cell_type": "code",
   "execution_count": null,
   "id": "e770ce5d",
   "metadata": {},
   "outputs": [
    {
     "name": "stdout",
     "output_type": "stream",
     "text": [
      "----Tuning for method: ridge, study: ctr\n",
      "stats: 41 genes 20 permts 10 threads\n",
      "Running 20 samples randomly from 0 to 1 iterations\n",
      "----Run iteration 0-----\n",
      "Gene-based multi threading\n",
      "Param search completed in 1.628 seconds\n",
      "Mean best score: -0.33718795417031566\n",
      "stack shape: n_repeat*n_genes*n_permut:  (1, 41, 20)\n",
      "Best score -> min:-3.4668293015911313,  average: -0.33718795417031566, std: 1.1462029205272968\n",
      "output -> C:\\Users\\nourisa\\Documents\\testProjs\\completed\\proteomics_MSC_Mg_model\\proteomics_MSC\\../results/calibration\\ridge\\early_MinProb\\best_scores_ctr.npy\n",
      "output -> C:\\Users\\nourisa\\Documents\\testProjs\\completed\\proteomics_MSC_Mg_model\\proteomics_MSC\\../results/calibration\\ridge\\early_MinProb\\best_params_ctr.npy\n",
      "----Tuning for method: ridge, study: mg\n",
      "stats: 41 genes 20 permts 10 threads\n",
      "Running 20 samples randomly from 0 to 1 iterations\n",
      "----Run iteration 0-----\n",
      "Gene-based multi threading\n",
      "Param search completed in 1.679 seconds\n",
      "Mean best score: -0.3850378830888625\n",
      "stack shape: n_repeat*n_genes*n_permut:  (1, 41, 20)\n",
      "Best score -> min:-2.5963379711426433,  average: -0.3850378830888625, std: 0.9031612084113575\n",
      "output -> C:\\Users\\nourisa\\Documents\\testProjs\\completed\\proteomics_MSC_Mg_model\\proteomics_MSC\\../results/calibration\\ridge\\early_MinProb\\best_scores_mg.npy\n",
      "output -> C:\\Users\\nourisa\\Documents\\testProjs\\completed\\proteomics_MSC_Mg_model\\proteomics_MSC\\../results/calibration\\ridge\\early_MinProb\\best_params_mg.npy\n",
      "----Tuning for method: ridge, study: ctr\n",
      "stats: 48 genes 20 permts 10 threads\n",
      "Running 20 samples randomly from 0 to 1 iterations\n",
      "----Run iteration 0-----\n",
      "Gene-based multi threading\n",
      "Param search completed in 1.828 seconds\n",
      "Mean best score: 0.0034373586781862864\n",
      "stack shape: n_repeat*n_genes*n_permut:  (1, 48, 20)\n",
      "Best score -> min:-2.7831152515203654,  average: 0.0034373586781862864, std: 0.6036490917550511\n",
      "output -> C:\\Users\\nourisa\\Documents\\testProjs\\completed\\proteomics_MSC_Mg_model\\proteomics_MSC\\../results/calibration\\ridge\\early_KNN\\best_scores_ctr.npy\n",
      "output -> C:\\Users\\nourisa\\Documents\\testProjs\\completed\\proteomics_MSC_Mg_model\\proteomics_MSC\\../results/calibration\\ridge\\early_KNN\\best_params_ctr.npy\n",
      "----Tuning for method: ridge, study: mg\n",
      "stats: 48 genes 20 permts 10 threads\n",
      "Running 20 samples randomly from 0 to 1 iterations\n",
      "----Run iteration 0-----\n",
      "Gene-based multi threading\n",
      "Param search completed in 1.863 seconds\n",
      "Mean best score: -0.19327381308988378\n",
      "stack shape: n_repeat*n_genes*n_permut:  (1, 48, 20)\n",
      "Best score -> min:-2.441275070633969,  average: -0.19327381308988378, std: 0.8139977520101044\n",
      "output -> C:\\Users\\nourisa\\Documents\\testProjs\\completed\\proteomics_MSC_Mg_model\\proteomics_MSC\\../results/calibration\\ridge\\early_KNN\\best_scores_mg.npy\n",
      "output -> C:\\Users\\nourisa\\Documents\\testProjs\\completed\\proteomics_MSC_Mg_model\\proteomics_MSC\\../results/calibration\\ridge\\early_KNN\\best_params_mg.npy\n",
      "----Tuning for method: ridge, study: ctr\n",
      "stats: 40 genes 20 permts 10 threads\n",
      "Running 20 samples randomly from 0 to 1 iterations\n",
      "----Run iteration 0-----\n",
      "Gene-based multi threading\n",
      "Param search completed in 1.970 seconds\n",
      "Mean best score: -0.021757619149162633\n",
      "stack shape: n_repeat*n_genes*n_permut:  (1, 40, 20)\n",
      "Best score -> min:-2.767363637996704,  average: -0.021757619149162633, std: 0.723680221465672\n",
      "output -> C:\\Users\\nourisa\\Documents\\testProjs\\completed\\proteomics_MSC_Mg_model\\proteomics_MSC\\../results/calibration\\ridge\\late_MinProb\\best_scores_ctr.npy\n",
      "output -> C:\\Users\\nourisa\\Documents\\testProjs\\completed\\proteomics_MSC_Mg_model\\proteomics_MSC\\../results/calibration\\ridge\\late_MinProb\\best_params_ctr.npy\n",
      "----Tuning for method: ridge, study: mg\n",
      "stats: 40 genes 20 permts 10 threads\n",
      "Running 20 samples randomly from 0 to 1 iterations\n",
      "----Run iteration 0-----\n",
      "Gene-based multi threading\n",
      "Param search completed in 1.968 seconds\n",
      "Mean best score: -0.3711574087661998\n",
      "stack shape: n_repeat*n_genes*n_permut:  (1, 40, 20)\n",
      "Best score -> min:-3.5119786764862804,  average: -0.3711574087661998, std: 0.8032237568591661\n",
      "output -> C:\\Users\\nourisa\\Documents\\testProjs\\completed\\proteomics_MSC_Mg_model\\proteomics_MSC\\../results/calibration\\ridge\\late_MinProb\\best_scores_mg.npy\n",
      "output -> C:\\Users\\nourisa\\Documents\\testProjs\\completed\\proteomics_MSC_Mg_model\\proteomics_MSC\\../results/calibration\\ridge\\late_MinProb\\best_params_mg.npy\n",
      "----Tuning for method: ridge, study: ctr\n",
      "stats: 50 genes 20 permts 10 threads\n",
      "Running 20 samples randomly from 0 to 1 iterations\n",
      "----Run iteration 0-----\n",
      "Gene-based multi threading\n",
      "Param search completed in 2.716 seconds\n",
      "Mean best score: 0.1367177337696746\n",
      "stack shape: n_repeat*n_genes*n_permut:  (1, 50, 20)\n",
      "Best score -> min:-1.6509940327470387,  average: 0.1367177337696746, std: 0.5396924370281015\n",
      "output -> C:\\Users\\nourisa\\Documents\\testProjs\\completed\\proteomics_MSC_Mg_model\\proteomics_MSC\\../results/calibration\\ridge\\late_KNN\\best_scores_ctr.npy\n",
      "output -> C:\\Users\\nourisa\\Documents\\testProjs\\completed\\proteomics_MSC_Mg_model\\proteomics_MSC\\../results/calibration\\ridge\\late_KNN\\best_params_ctr.npy\n",
      "----Tuning for method: ridge, study: mg\n",
      "stats: 50 genes 20 permts 10 threads\n",
      "Running 20 samples randomly from 0 to 1 iterations\n",
      "----Run iteration 0-----\n",
      "Gene-based multi threading\n",
      "Param search completed in 2.637 seconds\n",
      "Mean best score: 0.006654591292810461\n",
      "stack shape: n_repeat*n_genes*n_permut:  (1, 50, 20)\n",
      "Best score -> min:-2.0416333608263586,  average: 0.006654591292810461, std: 0.606237324773789\n",
      "output -> C:\\Users\\nourisa\\Documents\\testProjs\\completed\\proteomics_MSC_Mg_model\\proteomics_MSC\\../results/calibration\\ridge\\late_KNN\\best_scores_mg.npy\n",
      "output -> C:\\Users\\nourisa\\Documents\\testProjs\\completed\\proteomics_MSC_Mg_model\\proteomics_MSC\\../results/calibration\\ridge\\late_KNN\\best_params_mg.npy\n"
     ]
    }
   ],
   "source": [
    "# tune ridge model\n",
    "%run ../proteomics_MSC/calibration/ridge_tune.py"
   ]
  },
  {
   "cell_type": "code",
   "execution_count": null,
   "id": "80844376",
   "metadata": {},
   "outputs": [
    {
     "name": "stdout",
     "output_type": "stream",
     "text": [
      "output -> C:\\Users\\nourisa\\Documents\\testProjs\\completed\\proteomics_MSC_Mg_model\\proteomics_MSC\\../results/calibration\\RF\\scores_legend.png\n"
     ]
    },
    {
     "data": {
      "image/png": "[encoded data removed]",
      "text/plain": [
       "<Figure size 400x200 with 1 Axes>"
      ]
     },
     "metadata": {},
     "output_type": "display_data"
    },
    {
     "data": {
      "image/png": "[encoded data removed]",
      "text/plain": [
       "<Figure size 400x200 with 1 Axes>"
      ]
     },
     "metadata": {},
     "output_type": "display_data"
    },
    {
     "data": {
      "image/png": "[encoded data removed]",
      "text/plain": [
       "<Figure size 400x200 with 1 Axes>"
      ]
     },
     "metadata": {},
     "output_type": "display_data"
    }
   ],
   "source": [
    "# plot the calibration scores\n",
    "%run ../proteomics_MSC/calibration/visualize_scores.py"
   ]
  },
  {
   "cell_type": "code",
   "execution_count": 1,
   "id": "9219a922",
   "metadata": {},
   "outputs": [
    {
     "name": "stdout",
     "output_type": "stream",
     "text": [
      "----------------------early_MinProb, ctr ---------------\n",
      "Data shape: (n_samples_time_series, n_genes) = (9, 41)\n",
      "RF directory is not empty\n",
      "early_MinProb directory is not empty\n",
      "ctr directory is not empty\n",
      "links directory is not empty\n",
      "testscores directory is not empty\n",
      "trainscores directory is not empty\n",
      "----GRN for ctr iteration 0-----\n",
      "output -> C:\\Users\\nourisa\\Documents\\testProjs\\completed\\proteomics_MSC_Mg_model\\proteomics_MSC\\../results/GRN\\RF\\links_early_MinProb_ctr.csv\n",
      "----------------------early_MinProb, mg ---------------\n",
      "Data shape: (n_samples_time_series, n_genes) = (9, 41)\n",
      "RF directory is not empty\n",
      "early_MinProb directory is not empty\n",
      "mg directory is not empty\n",
      "links directory is not empty\n",
      "testscores directory is not empty\n",
      "trainscores directory is not empty\n",
      "----GRN for mg iteration 0-----\n",
      "output -> C:\\Users\\nourisa\\Documents\\testProjs\\completed\\proteomics_MSC_Mg_model\\proteomics_MSC\\../results/GRN\\RF\\links_early_MinProb_mg.csv\n",
      "----------------------early_KNN, ctr ---------------\n",
      "Data shape: (n_samples_time_series, n_genes) = (9, 48)\n",
      "RF directory is not empty\n",
      "early_KNN directory is not empty\n",
      "ctr directory is not empty\n",
      "links directory is not empty\n",
      "testscores directory is not empty\n",
      "trainscores directory is not empty\n",
      "----GRN for ctr iteration 0-----\n",
      "output -> C:\\Users\\nourisa\\Documents\\testProjs\\completed\\proteomics_MSC_Mg_model\\proteomics_MSC\\../results/GRN\\RF\\links_early_KNN_ctr.csv\n",
      "----------------------early_KNN, mg ---------------\n",
      "Data shape: (n_samples_time_series, n_genes) = (9, 48)\n",
      "RF directory is not empty\n",
      "early_KNN directory is not empty\n",
      "mg directory is not empty\n",
      "links directory is not empty\n",
      "testscores directory is not empty\n",
      "trainscores directory is not empty\n",
      "----GRN for mg iteration 0-----\n",
      "output -> C:\\Users\\nourisa\\Documents\\testProjs\\completed\\proteomics_MSC_Mg_model\\proteomics_MSC\\../results/GRN\\RF\\links_early_KNN_mg.csv\n",
      "----------------------late_MinProb, ctr ---------------\n",
      "Data shape: (n_samples_time_series, n_genes) = (11, 40)\n",
      "RF directory is not empty\n",
      "late_MinProb directory is not empty\n",
      "ctr directory is not empty\n",
      "links directory is not empty\n",
      "testscores directory is not empty\n",
      "trainscores directory is not empty\n",
      "----GRN for ctr iteration 0-----\n",
      "output -> C:\\Users\\nourisa\\Documents\\testProjs\\completed\\proteomics_MSC_Mg_model\\proteomics_MSC\\../results/GRN\\RF\\links_late_MinProb_ctr.csv\n",
      "----------------------late_MinProb, mg ---------------\n",
      "Data shape: (n_samples_time_series, n_genes) = (11, 40)\n",
      "RF directory is not empty\n",
      "late_MinProb directory is not empty\n",
      "mg directory is not empty\n",
      "links directory is not empty\n",
      "testscores directory is not empty\n",
      "trainscores directory is not empty\n",
      "----GRN for mg iteration 0-----\n",
      "output -> C:\\Users\\nourisa\\Documents\\testProjs\\completed\\proteomics_MSC_Mg_model\\proteomics_MSC\\../results/GRN\\RF\\links_late_MinProb_mg.csv\n",
      "----------------------late_KNN, ctr ---------------\n",
      "Data shape: (n_samples_time_series, n_genes) = (11, 50)\n",
      "RF directory is not empty\n",
      "late_KNN directory is not empty\n",
      "ctr directory is not empty\n",
      "links directory is not empty\n",
      "testscores directory is not empty\n",
      "trainscores directory is not empty\n",
      "----GRN for ctr iteration 0-----\n",
      "output -> C:\\Users\\nourisa\\Documents\\testProjs\\completed\\proteomics_MSC_Mg_model\\proteomics_MSC\\../results/GRN\\RF\\links_late_KNN_ctr.csv\n",
      "----------------------late_KNN, mg ---------------\n",
      "Data shape: (n_samples_time_series, n_genes) = (11, 50)\n",
      "RF directory is not empty\n",
      "late_KNN directory is not empty\n",
      "mg directory is not empty\n",
      "links directory is not empty\n",
      "testscores directory is not empty\n",
      "trainscores directory is not empty\n",
      "----GRN for mg iteration 0-----\n",
      "output -> C:\\Users\\nourisa\\Documents\\testProjs\\completed\\proteomics_MSC_Mg_model\\proteomics_MSC\\../results/GRN\\RF\\links_late_KNN_mg.csv\n"
     ]
    }
   ],
   "source": [
    "# - infer RF grn\n",
    "%run ../proteomics_MSC/GRN/RF_GRN.py"
   ]
  },
  {
   "cell_type": "code",
   "execution_count": 2,
   "id": "0118915f",
   "metadata": {},
   "outputs": [
    {
     "name": "stdout",
     "output_type": "stream",
     "text": [
      "output -> C:\\Users\\nourisa\\Documents\\testProjs\\completed\\proteomics_MSC_Mg_model\\proteomics_MSC\\../results/GRN\\ridge\\links_early_MinProb_ctr.csv\n",
      "output -> C:\\Users\\nourisa\\Documents\\testProjs\\completed\\proteomics_MSC_Mg_model\\proteomics_MSC\\../results/GRN\\ridge\\links_early_MinProb_mg.csv\n",
      "output -> C:\\Users\\nourisa\\Documents\\testProjs\\completed\\proteomics_MSC_Mg_model\\proteomics_MSC\\../results/GRN\\ridge\\links_early_KNN_ctr.csv\n",
      "output -> C:\\Users\\nourisa\\Documents\\testProjs\\completed\\proteomics_MSC_Mg_model\\proteomics_MSC\\../results/GRN\\ridge\\links_early_KNN_mg.csv\n",
      "output -> C:\\Users\\nourisa\\Documents\\testProjs\\completed\\proteomics_MSC_Mg_model\\proteomics_MSC\\../results/GRN\\ridge\\links_late_MinProb_ctr.csv\n",
      "output -> C:\\Users\\nourisa\\Documents\\testProjs\\completed\\proteomics_MSC_Mg_model\\proteomics_MSC\\../results/GRN\\ridge\\links_late_MinProb_mg.csv\n",
      "output -> C:\\Users\\nourisa\\Documents\\testProjs\\completed\\proteomics_MSC_Mg_model\\proteomics_MSC\\../results/GRN\\ridge\\links_late_KNN_ctr.csv\n",
      "output -> C:\\Users\\nourisa\\Documents\\testProjs\\completed\\proteomics_MSC_Mg_model\\proteomics_MSC\\../results/GRN\\ridge\\links_late_KNN_mg.csv\n"
     ]
    }
   ],
   "source": [
    "# - infer ridge grn\n",
    "%run ../proteomics_MSC/GRN/ridge_GRN.py"
   ]
  },
  {
   "cell_type": "code",
   "execution_count": 3,
   "id": "4a4df618",
   "metadata": {},
   "outputs": [
    {
     "name": "stdout",
     "output_type": "stream",
     "text": [
      "output -> C:\\Users\\nourisa\\Documents\\testProjs\\completed\\proteomics_MSC_Mg_model\\proteomics_MSC\\../results/GRN\\portia\\links_early_MinProb_ctr.csv\n",
      "output -> C:\\Users\\nourisa\\Documents\\testProjs\\completed\\proteomics_MSC_Mg_model\\proteomics_MSC\\../results/GRN\\portia\\links_early_MinProb_mg.csv\n",
      "output -> C:\\Users\\nourisa\\Documents\\testProjs\\completed\\proteomics_MSC_Mg_model\\proteomics_MSC\\../results/GRN\\portia\\links_early_KNN_ctr.csv\n",
      "output -> C:\\Users\\nourisa\\Documents\\testProjs\\completed\\proteomics_MSC_Mg_model\\proteomics_MSC\\../results/GRN\\portia\\links_early_KNN_mg.csv\n",
      "output -> C:\\Users\\nourisa\\Documents\\testProjs\\completed\\proteomics_MSC_Mg_model\\proteomics_MSC\\../results/GRN\\portia\\links_late_MinProb_ctr.csv\n",
      "output -> C:\\Users\\nourisa\\Documents\\testProjs\\completed\\proteomics_MSC_Mg_model\\proteomics_MSC\\../results/GRN\\portia\\links_late_MinProb_mg.csv\n",
      "output -> C:\\Users\\nourisa\\Documents\\testProjs\\completed\\proteomics_MSC_Mg_model\\proteomics_MSC\\../results/GRN\\portia\\links_late_KNN_ctr.csv\n",
      "output -> C:\\Users\\nourisa\\Documents\\testProjs\\completed\\proteomics_MSC_Mg_model\\proteomics_MSC\\../results/GRN\\portia\\links_late_KNN_mg.csv\n",
      "GRN inference using Portia completed\n"
     ]
    }
   ],
   "source": [
    "# - infer portia grn\n",
    "%run ../proteomics_MSC/GRN/portia_GRN.py"
   ]
  }
 ],
 "metadata": {
  "kernelspec": {
   "display_name": "proteomics_MSC",
   "language": "python",
   "name": "python3"
  },
  "language_info": {
   "codemirror_mode": {
    "name": "ipython",
    "version": 3
   },
   "file_extension": ".py",
   "mimetype": "text/x-python",
   "name": "python",
   "nbconvert_exporter": "python",
   "pygments_lexer": "ipython3",
   "version": "3.10.12"
  }
 },
 "nbformat": 4,
 "nbformat_minor": 5
}
