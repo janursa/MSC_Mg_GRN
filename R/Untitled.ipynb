{
 "cells": [
  {
   "cell_type": "code",
   "execution_count": 10,
   "id": "9659ce44",
   "metadata": {},
   "outputs": [
    {
     "name": "stderr",
     "output_type": "stream",
     "text": [
      "'getOption(\"repos\")' replaces Bioconductor standard repositories, see\n",
      "'?repositories' for details\n",
      "\n",
      "replacement repositories:\n",
      "    CRAN: https://cran.r-project.org\n",
      "\n",
      "Bioconductor version 3.10 (BiocManager 1.30.18), R 3.6.1 (2019-07-05)\n",
      "Installing package(s) 'limma'\n"
     ]
    },
    {
     "name": "stdout",
     "output_type": "stream",
     "text": [
      "package 'limma' successfully unpacked and MD5 sums checked\n",
      "\n",
      "The downloaded binary packages are in\n",
      "\tC:\\Users\\nourisa\\AppData\\Local\\Temp\\RtmpCorQ4Y\\downloaded_packages\n"
     ]
    },
    {
     "name": "stderr",
     "output_type": "stream",
     "text": [
      "Old packages: 'crayon', 'digest', 'evaluate', 'htmltools', 'IRdisplay',\n",
      "  'IRkernel', 'jsonlite', 'pbdZMQ', 'Rcpp', 'repr', 'uuid'\n"
     ]
    }
   ],
   "source": [
    "if (!require(\"BiocManager\", quietly = TRUE))\n",
    "    install.packages(\"BiocManager\")\n",
    "\n",
    "BiocManager::install(\"limma\",force = TRUE)"
   ]
  },
  {
   "cell_type": "code",
   "execution_count": null,
   "id": "ecec9544",
   "metadata": {},
   "outputs": [],
   "source": [
    "sd <- 0.3*sqrt(4/rchisq(100,df=4))\n",
    "y <- matrix(rnorm(100*6,sd=sd),100,6)\n",
    "rownames(y) <- paste(\"Gene\",1:100)\n",
    "y[1:2,4:6] <- y[1:2,4:6] + 2\n",
    "design <- cbind(Grp1=1,Grp2vs1=c(0,0,0,1,1,1))\n",
    "options(digits=3)\n",
    "\n",
    "# Ordinary fit\n",
    "fit <- lmFit(y,design)\n",
    "fit <- eBayes(fit)\n",
    "topTable(fit,coef=2)\n",
    "dim(fit)\n",
    "colnames(fit)\n",
    "rownames(fit)[1:10]\n",
    "names(fit)\n",
    "\n",
    "# Fold-change thresholding\n",
    "fit2 <- treat(fit,lfc=0.1)\n",
    "topTreat(fit2,coef=2)\n",
    "\n",
    "# Volcano plot\n",
    "volcanoplot(fit,coef=2,highlight=2)\n",
    "\n",
    "# Mean-difference plot\n",
    "plotMD(fit,column=2)\n",
    "\n",
    "# Q-Q plot of moderated t-statistics\n",
    "qqt(fit$t[,2],df=fit$df.residual+fit$df.prior)\n",
    "abline(0,1)\n",
    "\n",
    "# Various ways of writing results to file\n",
    "## Not run: write.fit(fit,file=\"exampleresults.txt\")\n",
    "## Not run: write.table(fit,file=\"exampleresults2.txt\")\n",
    "\n",
    "# Fit with correlated arrays\n",
    "# Suppose each pair of arrays is a block\n",
    "block <- c(1,1,2,2,3,3)\n",
    "dupcor <- duplicateCorrelation(y,design,block=block)\n",
    "dupcor$consensus.correlation\n",
    "fit3 <- lmFit(y,design,block=block,correlation=dupcor$consensus)\n",
    "\n",
    "# Fit with duplicate probes\n",
    "# Suppose two side-by-side duplicates of each gene\n",
    "rownames(y) <- paste(\"Gene\",rep(1:50,each=2))\n",
    "dupcor <- duplicateCorrelation(y,design,ndups=2)\n",
    "dupcor$consensus.correlation\n",
    "fit4 <- lmFit(y,design,ndups=2,correlation=dupcor$consensus)\n",
    "dim(fit4)\n",
    "fit4 <- eBayes(fit4)\n",
    "topTable(fit4,coef=2)"
   ]
  }
 ],
 "metadata": {
  "kernelspec": {
   "display_name": "R",
   "language": "R",
   "name": "ir"
  },
  "language_info": {
   "codemirror_mode": "r",
   "file_extension": ".r",
   "mimetype": "text/x-r-source",
   "name": "R",
   "pygments_lexer": "r",
   "version": "3.6.1"
  }
 },
 "nbformat": 4,
 "nbformat_minor": 5
}
