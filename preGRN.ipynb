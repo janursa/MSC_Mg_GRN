{
 "cells": [
  {
   "cell_type": "markdown",
   "id": "74a22e1d",
   "metadata": {},
   "source": [
    "# Edit the original df to create primary df (prior to data control and statistical analysis)\n",
    "Read the original proteomics data, process it by:\n",
    "renaming the missing symbols\n",
    "changing column names (to make it easier to follow)\n",
    "removing rows with all zeros"
   ]
  },
  {
   "cell_type": "code",
   "execution_count": null,
   "id": "1f1fa16f",
   "metadata": {},
   "outputs": [],
   "source": [
    "%run scripts/edit_data/edit.py"
   ]
  },
  {
   "cell_type": "markdown",
   "id": "f35c2547",
   "metadata": {},
   "source": [
    "# Post statistical analysis to extract DE proteins"
   ]
  },
  {
   "cell_type": "code",
   "execution_count": 2,
   "id": "1f0b43fc",
   "metadata": {},
   "outputs": [
    {
     "name": "stdout",
     "output_type": "stream",
     "text": [
      "Number of DE proteins 50\n",
      "DE proteins names are outputted to C:\\Users\\nourisa\\Documents\\testProjs\\proteomics_MSC_Mg_model\\scripts\\..\\results\\data\n",
      "Shortlisted data are outputted to C:\\Users\\nourisa\\Documents\\testProjs\\proteomics_MSC_Mg_model\\scripts\\..\\results\\data\n"
     ]
    }
   ],
   "source": [
    "%run scripts/post_statistical_analysis/process_PSA.py"
   ]
  },
  {
   "cell_type": "markdown",
   "id": "b3ec663d",
   "metadata": {},
   "source": [
    "# Enrichment analysis"
   ]
  },
  {
   "cell_type": "markdown",
   "id": "95087257",
   "metadata": {},
   "source": [
    "## enquiry string  \n",
    "- retrieve enriched terms\n",
    "- retrieve enriched network "
   ]
  },
  {
   "cell_type": "code",
   "execution_count": null,
   "id": "ec19e67e",
   "metadata": {},
   "outputs": [],
   "source": [
    "%run scripts/enrichment_analysis/string_enquiry.py"
   ]
  },
  {
   "cell_type": "markdown",
   "id": "e7dfcba4",
   "metadata": {},
   "source": [
    "## plot enriched terms"
   ]
  },
  {
   "cell_type": "code",
   "execution_count": null,
   "id": "f566c495",
   "metadata": {},
   "outputs": [],
   "source": [
    "%run scripts/enrichment_analysis/plot_EA.py "
   ]
  },
  {
   "cell_type": "code",
   "execution_count": 5,
   "id": "329564ea",
   "metadata": {},
   "outputs": [
    {
     "data": {
      "text/plain": [
       "1.4306765580733931"
      ]
     },
     "execution_count": 5,
     "metadata": {},
     "output_type": "execute_result"
    }
   ],
   "source": [
    "import numpy as np\n",
    "-1/np.log10(2/10)"
   ]
  },
  {
   "cell_type": "markdown",
   "id": "961595e2",
   "metadata": {},
   "source": [
    "# Noncategorized "
   ]
  },
  {
   "cell_type": "code",
   "execution_count": null,
   "id": "9d7e0eaf",
   "metadata": {},
   "outputs": [],
   "source": [
    "# plot the time series of sig prots\n",
    "utils.plot_time_series(df, prots=sig_prots, c_tag='ctr_', s_tag='mg_', p_ID='Entry', time=specs['time'], ee=0.5)"
   ]
  },
  {
   "cell_type": "code",
   "execution_count": null,
   "id": "64a6eafd",
   "metadata": {},
   "outputs": [],
   "source": [
    "# visualize the sig proteins for original and imputed versions\n",
    "from scripts import utils\n",
    "candids = sig_prots[0:10]\n",
    "utils.plot_time_series_mutual(df1=df,df2=df_imput, prots=candids, )"
   ]
  },
  {
   "cell_type": "markdown",
   "id": "8f26d949",
   "metadata": {},
   "source": [
    "plot time serties of Moreneo's sig prots and check which ones are detected in our analysis"
   ]
  },
  {
   "cell_type": "code",
   "execution_count": null,
   "id": "0a5ad14c",
   "metadata": {},
   "outputs": [],
   "source": [
    "from scripts import utils\n",
    "importlib.reload(utils)\n",
    "moreneo_sigs = ['SDF4','NUFIP2','BUB3','HMGA2','KIF5B','DYNC1I2','DCTN1','S100A10','SYNPO2','MARCKS','THY1','HUWE1','PRPF8','RPS18','GCN1L1','RPL14','RBM8A','RPL23A','CANX','DLST','PDHB','ALDOC','APOA1','GGH','UAP1','ENO2','BAG3','HNRNPAB','BASP1','THRAP3','LRPPRC','CSE1L','PABPC4']\n",
    "utils.plot_time_series(df, prots=moreneo_sigs[0:len(moreneo_sigs)], c_tag='ctr_', s_tag='mg_', p_ID='Gene', time=specs['time'], ee=0.5)"
   ]
  },
  {
   "cell_type": "code",
   "execution_count": null,
   "id": "6e7af932",
   "metadata": {},
   "outputs": [],
   "source": [
    "# check the overlap between Moreneo's sig prots and this study\n",
    "df_overlap = df_sig.loc[df_sig['Gene'].isin(moreneo_sigs)]\n",
    "prots_overlap = df_overlap['Entry'].values\n",
    "print(prots_overlap)\n",
    "# utils.plot_time_series(df, prots=prots_overlap, c_tag='ctr_', s_tag='mg_', p_ID='Gene', time=specs['time'], ee=0.5)\n",
    "# print(prots_overlap)\n",
    "df_sig.head()"
   ]
  },
  {
   "cell_type": "code",
   "execution_count": null,
   "id": "0f3fe58e",
   "metadata": {},
   "outputs": [],
   "source": [
    "# imputing code\n",
    "import copy\n",
    "def KNNImputer(df, n_neighbors=2): #TODO: n neighbors should be evaluated\n",
    "    from sklearn import impute\n",
    "    df_copy = copy.deepcopy(df)\n",
    "    data = df[[f'ctr_{i}' for i in time]+[f'mg_{i}' for i in time]].values\n",
    "    imputer = impute.KNNImputer(n_neighbors=n_neighbors)\n",
    "    new_data = imputer.fit_transform(data)\n",
    "    df_copy[[f'ctr_{i}' for i in time]+[f'mg_{i}' for i in time]] = new_data\n",
    "    return df_copy\n",
    "df_imput = KNNImputer(df) #TODO: this can be experimented\n",
    "for gene in df_imput['Entry'].values:\n",
    "    if df_imput.loc[df_imput['Entry']==gene].isna().values.any():\n",
    "        print('still missing values: ', gene)"
   ]
  },
  {
   "cell_type": "markdown",
   "id": "3a2d2970",
   "metadata": {},
   "source": [
    "# Standalone codes"
   ]
  },
  {
   "cell_type": "markdown",
   "id": "9f3a2701",
   "metadata": {},
   "source": [
    "## Plot p values for showcase"
   ]
  },
  {
   "cell_type": "code",
   "execution_count": null,
   "id": "58ce3977",
   "metadata": {},
   "outputs": [],
   "source": [
    "import matplotlib\n",
    "import matplotlib.pyplot as plt\n",
    "import numpy as np\n",
    "import scipy.stats as stats\n",
    "import math\n",
    "def comic_font():\n",
    "    matplotlib.rc('font', family='Comic Sans MS')\n",
    "    matplotlib.rc('text', usetex='false')\n",
    "    matplotlib.rcParams.update({'font.size': 22})\n",
    "comic_font()\n",
    "\n",
    "mu = 0\n",
    "variance = 1\n",
    "sigma = math.sqrt(variance)\n",
    "x = np.linspace(mu - 3*sigma, mu + 3*sigma, 100)\n",
    "y = stats.norm.pdf(x, mu, sigma)\n",
    "fig = plt.figure()\n",
    "ax = fig.add_subplot(1,1,1)\n",
    "ax.plot(x, y, color='cyan', linewidth=4)\n",
    "# ax.set_xticks([])\n",
    "# ax.set_xticklabels([])\n",
    "# ax.set_yticks([])\n",
    "# ax.set_yticklabels([])\n",
    "ax.axis('off')\n",
    "x_critical = 1.8\n",
    "\n",
    "xx1 = np.linspace(x_critical, mu + 3*sigma, 100)\n",
    "xx2 = np.linspace(mu - 3*sigma, -x_critical, 100)\n",
    "ax.fill_between(xx1, 0, stats.norm.pdf(xx1, mu, sigma), color='r')\n",
    "ax.fill_between(xx2, 0, stats.norm.pdf(xx2, mu, sigma), color='r')\n",
    "\n",
    "ax.annotate('Critical value', xy=(x_critical, 0), xytext=(x_critical-1.7, .05),\n",
    "                        arrowprops={'arrowstyle': '->'}, horizontalalignment='center')\n",
    "ax.annotate('', xy=(-x_critical, 0), xytext=(x_critical-2.5, .03),\n",
    "                        arrowprops={'arrowstyle': '->'}\n",
    "                        , horizontalalignment='center')\n",
    "fig.savefig('C:/Users/nourisa/My Drive/professional/manuscripts/MSC_Mg_omics/draw/show_sig.png', dpi=200)\n",
    "plt.show()"
   ]
  },
  {
   "cell_type": "markdown",
   "id": "fd536e33",
   "metadata": {},
   "source": [
    "# String API"
   ]
  },
  {
   "cell_type": "code",
   "execution_count": 4,
   "id": "c24cdc4c",
   "metadata": {},
   "outputs": [
    {
     "name": "stdout",
     "output_type": "stream",
     "text": [
      "RAC2\tCDC42\texperimentally confirmed (prob. 0.481)\n",
      "RAC2\tCDC42\texperimentally confirmed (prob. 0.481)\n",
      "KIF23\tRACGAP1\texperimentally confirmed (prob. 0.993)\n",
      "KIF23\tRACGAP1\texperimentally confirmed (prob. 0.993)\n",
      "KIF23\tPLK1\texperimentally confirmed (prob. 0.621)\n",
      "KIF23\tPLK1\texperimentally confirmed (prob. 0.621)\n",
      "PLK1\tRACGAP1\texperimentally confirmed (prob. 0.721)\n",
      "PLK1\tRACGAP1\texperimentally confirmed (prob. 0.721)\n",
      "CDC42\tRHOA\texperimentally confirmed (prob. 0.705)\n",
      "CDC42\tRHOA\texperimentally confirmed (prob. 0.705)\n",
      "CDC42\tRACGAP1\texperimentally confirmed (prob. 0.820)\n",
      "CDC42\tRACGAP1\texperimentally confirmed (prob. 0.820)\n"
     ]
    }
   ],
   "source": []
  }
 ],
 "metadata": {
  "kernelspec": {
   "display_name": "Python 3 (ipykernel)",
   "language": "python",
   "name": "python3"
  },
  "language_info": {
   "codemirror_mode": {
    "name": "ipython",
    "version": 3
   },
   "file_extension": ".py",
   "mimetype": "text/x-python",
   "name": "python",
   "nbconvert_exporter": "python",
   "pygments_lexer": "ipython3",
   "version": "3.8.13"
  },
  "toc": {
   "base_numbering": 1,
   "nav_menu": {
    "height": "309px",
    "width": "264px"
   },
   "number_sections": true,
   "sideBar": true,
   "skip_h1_title": false,
   "title_cell": "Table of Contents",
   "title_sidebar": "Contents",
   "toc_cell": false,
   "toc_position": {},
   "toc_section_display": true,
   "toc_window_display": false
  }
 },
 "nbformat": 4,
 "nbformat_minor": 5
}
