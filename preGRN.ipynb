{
 "cells": [
  {
   "cell_type": "markdown",
   "id": "74a22e1d",
   "metadata": {},
   "source": [
    "# Edit the original df to create primary df \n",
    "Read the original proteomics data, process it by:\n",
    "renaming the missing symbols\n",
    "changing column names (to make it easier to follow)\n",
    "removing rows with all zeros"
   ]
  },
  {
   "cell_type": "code",
   "execution_count": null,
   "id": "1f1fa16f",
   "metadata": {},
   "outputs": [],
   "source": [
    "%run scripts/edit_data/edit.py"
   ]
  },
  {
   "cell_type": "markdown",
   "id": "f35c2547",
   "metadata": {},
   "source": [
    "# Post statistical analysis"
   ]
  },
  {
   "cell_type": "code",
   "execution_count": 1,
   "id": "1f0b43fc",
   "metadata": {},
   "outputs": [
    {
     "name": "stdout",
     "output_type": "stream",
     "text": [
      "43\n"
     ]
    }
   ],
   "source": [
    "%run scripts/post_statistical_analysis/process.py"
   ]
  },
  {
   "cell_type": "markdown",
   "id": "b3ec663d",
   "metadata": {},
   "source": [
    "# Enrichment analysis\n",
    "Run this when entichment analysis (STRING) data is available"
   ]
  },
  {
   "cell_type": "markdown",
   "id": "94257101",
   "metadata": {},
   "source": [
    "## convert differnt gene annotation to one another. protname (UniProt name) and genename"
   ]
  },
  {
   "cell_type": "code",
   "execution_count": 22,
   "id": "d55be620",
   "metadata": {},
   "outputs": [
    {
     "name": "stdout",
     "output_type": "stream",
     "text": [
      "Fetched: 43 / 43\n"
     ]
    }
   ],
   "source": [
    "%run scripts/enrichment_analysis/process_annotation.py"
   ]
  },
  {
   "cell_type": "markdown",
   "id": "95087257",
   "metadata": {},
   "source": [
    "## format strings enrichment data  for plotting \n",
    "to plot enrichment results in r"
   ]
  },
  {
   "cell_type": "code",
   "execution_count": 23,
   "id": "ec19e67e",
   "metadata": {},
   "outputs": [
    {
     "name": "stdout",
     "output_type": "stream",
     "text": [
      "Index(['ID', 'Description', 'ProteinCount', 'Strength', 'FDR', 'genenames'], dtype='object')\n",
      "number of enriched process tersm  0\n",
      "Index(['ID', 'Description', 'ProteinCount', 'Strength', 'FDR', 'genenames'], dtype='object')\n",
      "number of enriched function tersm  6\n",
      "Index(['ID', 'Description', 'ProteinCount', 'Strength', 'FDR', 'genenames'], dtype='object')\n",
      "number of enriched component tersm  29\n",
      "Index(['ID', 'Description', 'ProteinCount', 'Strength', 'FDR', 'genenames'], dtype='object')\n",
      "number of enriched UniProt keywords terms  13\n",
      "Index(['ID', 'Description', 'ProteinCount', 'Strength', 'FDR', 'genenames'], dtype='object')\n",
      "number of enriched Reactome tersm  23\n"
     ]
    }
   ],
   "source": [
    "%run scripts/enrichment_analysis/reformat.py "
   ]
  },
  {
   "cell_type": "markdown",
   "id": "e7dfcba4",
   "metadata": {},
   "source": [
    "## plot enriched terms"
   ]
  },
  {
   "cell_type": "code",
   "execution_count": null,
   "id": "f566c495",
   "metadata": {},
   "outputs": [],
   "source": [
    "%run scripts/enrichment_analysis/plot_EA.py "
   ]
  },
  {
   "cell_type": "markdown",
   "id": "961595e2",
   "metadata": {},
   "source": [
    "# Noncategorized "
   ]
  },
  {
   "cell_type": "code",
   "execution_count": null,
   "id": "9d7e0eaf",
   "metadata": {},
   "outputs": [],
   "source": [
    "# plot the time series of sig prots\n",
    "utils.plot_time_series(df, prots=sig_prots, c_tag='ctr_', s_tag='mg_', p_ID='Entry', time=specs['time'], ee=0.5)"
   ]
  },
  {
   "cell_type": "code",
   "execution_count": null,
   "id": "64a6eafd",
   "metadata": {},
   "outputs": [],
   "source": [
    "# visualize the sig proteins for original and imputed versions\n",
    "from scripts import utils\n",
    "candids = sig_prots[0:10]\n",
    "utils.plot_time_series_mutual(df1=df,df2=df_imput, prots=candids, )"
   ]
  },
  {
   "cell_type": "markdown",
   "id": "8f26d949",
   "metadata": {},
   "source": [
    "plot time serties of Moreneo's sig prots and check which ones are detected in our analysis"
   ]
  },
  {
   "cell_type": "code",
   "execution_count": null,
   "id": "0a5ad14c",
   "metadata": {},
   "outputs": [],
   "source": [
    "from scripts import utils\n",
    "importlib.reload(utils)\n",
    "moreneo_sigs = ['SDF4','NUFIP2','BUB3','HMGA2','KIF5B','DYNC1I2','DCTN1','S100A10','SYNPO2','MARCKS','THY1','HUWE1','PRPF8','RPS18','GCN1L1','RPL14','RBM8A','RPL23A','CANX','DLST','PDHB','ALDOC','APOA1','GGH','UAP1','ENO2','BAG3','HNRNPAB','BASP1','THRAP3','LRPPRC','CSE1L','PABPC4']\n",
    "utils.plot_time_series(df, prots=moreneo_sigs[0:len(moreneo_sigs)], c_tag='ctr_', s_tag='mg_', p_ID='Gene', time=specs['time'], ee=0.5)"
   ]
  },
  {
   "cell_type": "code",
   "execution_count": null,
   "id": "6e7af932",
   "metadata": {},
   "outputs": [],
   "source": [
    "# check the overlap between Moreneo's sig prots and this study\n",
    "df_overlap = df_sig.loc[df_sig['Gene'].isin(moreneo_sigs)]\n",
    "prots_overlap = df_overlap['Entry'].values\n",
    "print(prots_overlap)\n",
    "# utils.plot_time_series(df, prots=prots_overlap, c_tag='ctr_', s_tag='mg_', p_ID='Gene', time=specs['time'], ee=0.5)\n",
    "# print(prots_overlap)\n",
    "df_sig.head()"
   ]
  },
  {
   "cell_type": "code",
   "execution_count": null,
   "id": "0f3fe58e",
   "metadata": {},
   "outputs": [],
   "source": [
    "# imputing code\n",
    "import copy\n",
    "def KNNImputer(df, n_neighbors=2): #TODO: n neighbors should be evaluated\n",
    "    from sklearn import impute\n",
    "    df_copy = copy.deepcopy(df)\n",
    "    data = df[[f'ctr_{i}' for i in time]+[f'mg_{i}' for i in time]].values\n",
    "    imputer = impute.KNNImputer(n_neighbors=n_neighbors)\n",
    "    new_data = imputer.fit_transform(data)\n",
    "    df_copy[[f'ctr_{i}' for i in time]+[f'mg_{i}' for i in time]] = new_data\n",
    "    return df_copy\n",
    "df_imput = KNNImputer(df) #TODO: this can be experimented\n",
    "for gene in df_imput['Entry'].values:\n",
    "    if df_imput.loc[df_imput['Entry']==gene].isna().values.any():\n",
    "        print('still missing values: ', gene)"
   ]
  }
 ],
 "metadata": {
  "kernelspec": {
   "display_name": "Python 3 (ipykernel)",
   "language": "python",
   "name": "python3"
  },
  "language_info": {
   "codemirror_mode": {
    "name": "ipython",
    "version": 3
   },
   "file_extension": ".py",
   "mimetype": "text/x-python",
   "name": "python",
   "nbconvert_exporter": "python",
   "pygments_lexer": "ipython3",
   "version": "3.8.13"
  },
  "toc": {
   "base_numbering": 1,
   "nav_menu": {
    "height": "309px",
    "width": "264px"
   },
   "number_sections": true,
   "sideBar": true,
   "skip_h1_title": false,
   "title_cell": "Table of Contents",
   "title_sidebar": "Contents",
   "toc_cell": false,
   "toc_position": {},
   "toc_section_display": true,
   "toc_window_display": false
  }
 },
 "nbformat": 4,
 "nbformat_minor": 5
}
