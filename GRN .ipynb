{
 "cells": [
  {
   "cell_type": "markdown",
   "id": "29373dfd",
   "metadata": {},
   "source": [
    "# Model params tuning (RF and ridge)"
   ]
  },
  {
   "cell_type": "markdown",
   "id": "f6f6ef46",
   "metadata": {},
   "source": [
    "## RF"
   ]
  },
  {
   "cell_type": "code",
   "execution_count": 2,
   "id": "5567b85f",
   "metadata": {
    "scrolled": true
   },
   "outputs": [],
   "source": [
    "#- Tune parameters for RF\n",
    "%run scripts/RF_tune.py #use this in terminal in different steps"
   ]
  },
  {
   "cell_type": "code",
   "execution_count": null,
   "id": "325e6a28",
   "metadata": {},
   "outputs": [],
   "source": [
    "#- Pool and plot the results for RF\n",
    "%run scripts/RF_post_tune.py"
   ]
  },
  {
   "cell_type": "markdown",
   "id": "d804cb40",
   "metadata": {},
   "source": [
    "## Ridge"
   ]
  },
  {
   "cell_type": "code",
   "execution_count": null,
   "id": "489906ec",
   "metadata": {},
   "outputs": [],
   "source": [
    "#- Tune for ridge\n",
    "%run scripts/ridge_tune.py"
   ]
  },
  {
   "cell_type": "code",
   "execution_count": null,
   "id": "0d76ed41",
   "metadata": {},
   "outputs": [],
   "source": [
    "#- Pool and plot the results for ridge\n",
    "%run scripts/ridge_post_tune.py"
   ]
  },
  {
   "cell_type": "markdown",
   "id": "0cbfe974",
   "metadata": {},
   "source": [
    "# GRN "
   ]
  },
  {
   "cell_type": "markdown",
   "id": "f6aa590e",
   "metadata": {},
   "source": [
    "## RF"
   ]
  },
  {
   "cell_type": "code",
   "execution_count": null,
   "id": "03daeb36",
   "metadata": {
    "scrolled": true
   },
   "outputs": [],
   "source": [
    "# run this one from terminal, as it needs to be run in seperate sessions (1000 runs)\n",
    "%run scripts/RF_grn.py"
   ]
  },
  {
   "cell_type": "code",
   "execution_count": null,
   "id": "e384d659",
   "metadata": {},
   "outputs": [],
   "source": [
    "#pool the links and add oob scores to the df\n",
    "%run scripts/RF_post_grn.py"
   ]
  },
  {
   "cell_type": "markdown",
   "id": "d8367425",
   "metadata": {},
   "source": [
    "## Ridge"
   ]
  },
  {
   "cell_type": "code",
   "execution_count": 1,
   "id": "0ca070e7",
   "metadata": {},
   "outputs": [
    {
     "name": "stdout",
     "output_type": "stream",
     "text": [
      "Data shape: (11, 34) (n_samples_time_series*n_genes)\n",
      "\n",
      "network inference: train score, mean: 0.6720147745400069 std: 0.352471475046745\n",
      "\n",
      "network inference: train score, mean: 0.5152218969285599 std: 0.36733856792142966\n",
      "Number of string links: 60\n",
      "Number of extracted links: 100\n",
      "match:  7\n"
     ]
    }
   ],
   "source": [
    "%run scripts/ridge_grn.py"
   ]
  },
  {
   "cell_type": "markdown",
   "id": "b66a21d2",
   "metadata": {},
   "source": [
    "## Portia"
   ]
  },
  {
   "cell_type": "code",
   "execution_count": null,
   "id": "165c7532",
   "metadata": {},
   "outputs": [],
   "source": [
    "%run scripts/portia_grn.py"
   ]
  },
  {
   "cell_type": "markdown",
   "id": "7c9c21c2",
   "metadata": {},
   "source": [
    "## Plot distribution of mean weights"
   ]
  },
  {
   "cell_type": "code",
   "execution_count": null,
   "id": "91584672",
   "metadata": {},
   "outputs": [],
   "source": [
    "from scripts.imports import *\n",
    "importlib.reload(utils)\n",
    "links_ctr_rf, links_sample_rf = retreive_grn('ctr','rf'),retreive_grn('mg','rf')\n",
    "links_ctr_portia, links_sample_portia = retreive_grn('ctr','portia'),retreive_grn('mg','portia')\n",
    "links_ctr_ridge, links_sample_ridge = retreive_grn('ctr','ridge'),retreive_grn('mg','ridge')\n",
    "links_combined = [[links_ctr_rf, links_sample_rf],\n",
    "               [links_ctr_portia, links_sample_portia], \n",
    "               [links_ctr_ridge, links_sample_ridge]]\n",
    "\n",
    "#- normalize\n",
    "\n",
    "links_combined_n = [[utils.Links.nomalize(item) for item in row] for row in links_combined]\n",
    "labels = ['RF','Portia',\n",
    "          'Ridge']\n",
    "colors = ['lightblue','pink']\n",
    "utils.Links.plot_mean_weights(links_combined_n, labels, colors)"
   ]
  },
  {
   "cell_type": "markdown",
   "id": "74df95dd",
   "metadata": {},
   "source": [
    "## Compare different methods: matching with string"
   ]
  },
  {
   "cell_type": "code",
   "execution_count": null,
   "id": "553ffb80",
   "metadata": {},
   "outputs": [],
   "source": [
    "%run scripts/GRN_vs_string.py"
   ]
  },
  {
   "cell_type": "markdown",
   "id": "309b63a1",
   "metadata": {},
   "source": [
    "## Filter"
   ]
  },
  {
   "cell_type": "code",
   "execution_count": null,
   "id": "f1a52ff1",
   "metadata": {},
   "outputs": [],
   "source": [
    "%run scripts/filter_links.py"
   ]
  },
  {
   "cell_type": "markdown",
   "id": "4a8f14ae",
   "metadata": {},
   "source": [
    "## Plot shortlisted weights"
   ]
  },
  {
   "cell_type": "code",
   "execution_count": null,
   "id": "08ebcb51",
   "metadata": {},
   "outputs": [],
   "source": [
    "\n",
    "def plot_weight(links, dist_key='WeightPool'):\n",
    "    links_s = links.sort_values('Weight', ascending=False).reset_index(drop=True)\n",
    "    \n",
    "    top_n = 12\n",
    "    nrows = 4\n",
    "    ncols = 3\n",
    "    fig, axes = plt.subplots(nrows, ncols, tight_layout=True, figsize=(ncols*3, nrows*2))\n",
    "    for idx in range(top_n):\n",
    "        i = int(idx/(nrows-1))\n",
    "        j = idx%ncols\n",
    "        ax = axes[i][j]\n",
    "        ax.hist(links_s[dist_key][idx], bins=20, decay_coeff=0.5,\n",
    "                        histtype='stepfilled', #'bar', 'barstacked', 'step', 'stepfilled'\n",
    "                        color='lightgreen',\n",
    "                        ec='black',\n",
    "                        rwidth=.9\n",
    "                       )\n",
    "        ax.set_xlabel('Interaction strength')\n",
    "        ax.set_ylabel('Model count')\n",
    "#         title = links['Regulator'][idx]+'-->'+links['Target'][idx]\n",
    "        title= idx\n",
    "        ax.set_title(title)\n",
    "        ax.set_ymargin(.15)\n",
    "        ax.set_xmargin(.15)\n",
    "def plot_pvalue(x):\n",
    "    fig, ax = plt.subplots(1, 1, tight_layout=True, figsize=(3, 2))\n",
    "    \n",
    "    ax.hist(x, bins=20, decay_coeff=0.5,\n",
    "                    histtype='barstacked', #'bar', 'barstacked', 'step', 'stepfilled'\n",
    "                    ec='black',\n",
    "                    rwidth=.9\n",
    "                   )\n",
    "    ax.set_xlabel('Interaction strength')\n",
    "    ax.set_ylabel('Model count')\n",
    "links_short_ctr_ridge = retreive_grn('ctr','ridge')\n",
    "\n",
    "links_target = links_short_ctr_ridge\n",
    "plot_weight(links_target, dist_key='WeightPool')\n",
    "# print(links_short_ctr_ensemble)"
   ]
  },
  {
   "cell_type": "markdown",
   "id": "88b08715",
   "metadata": {},
   "source": [
    "## create edges and nodes"
   ]
  },
  {
   "cell_type": "code",
   "execution_count": null,
   "id": "80aebc3c",
   "metadata": {},
   "outputs": [],
   "source": [
    "links_short_ctr_portia = pd.read_pickle(os.path.join(OUTPUT_DIR,'GRN','links_short_ctr_portia.csv'))\n",
    "links_short_sample_portia = pd.read_pickle(os.path.join(OUTPUT_DIR,'GRN','links_short_mg_portia.csv'))\n",
    "\n",
    "def process_nodes_edges(study, links, scores=None):\n",
    "    #- create nodes and edges\n",
    "    nodes, edges = utils.convert_links_to_nodes_edges(links, protnames, scores)\n",
    "    #- output edges and nodes   \n",
    "    utils.read_write_nodes_edges(nodes=nodes, edges=edges, study=study, mode='write', OUTPUT_DIR=OUTPUT_DIR)\n",
    "process_nodes_edges('ctr', links_short_ctr_portia)\n",
    "process_nodes_edges('mg', links_short_sample_portia)"
   ]
  },
  {
   "cell_type": "markdown",
   "id": "56110c2b",
   "metadata": {},
   "source": [
    "# Vester's sensitivity analysis. \n",
    "- AS: active sum. Sum along rows of the influence matrix and it indicates how much does a variable influence all the others.\n",
    "- PS: passive sum. Its is the sum along columns of the influence matrix and it indicates how sensitive a variable is, how does it react to the influence of others\n",
    "- Q: AS/PS -> how dominant\n",
    "- P: AS.PS -> how participative a variable is\n",
    "- Active: +Q\n",
    "- Passive: -Q, -P\n",
    "- Critical: +Q, +P\n",
    "- Buffering: -Q, -P"
   ]
  },
  {
   "cell_type": "code",
   "execution_count": null,
   "id": "1c77443f",
   "metadata": {},
   "outputs": [],
   "source": [
    "importlib.reload(utils)\n",
    "#- retreive data: short links\n",
    "method = 'portia'\n",
    "links_ctr = pd.read_pickle(os.path.join(OUTPUT_DIR,'GRN',f'links_short_ctr_{method}.csv'))\n",
    "links_sample = pd.read_pickle(os.path.join(OUTPUT_DIR,'GRN',f'links_short_mg_{method}.csv'))\n",
    "\n",
    "oo_vsa_ctr = utils.VSA.analyse(links_ctr, protnames)\n",
    "oo_vsa_sample = utils.VSA.analyse(links_sample, protnames)\n",
    "#- plot 1: seperate windows for ctr and sample\n",
    "utils.VSA.plot_ctr_vs_sample(oo_vsa_ctr,oo_vsa_sample, protnames, OUTPUT_DIR=OUTPUT_DIR)"
   ]
  },
  {
   "cell_type": "markdown",
   "id": "3029b891",
   "metadata": {},
   "source": [
    "## Role change & plot "
   ]
  },
  {
   "cell_type": "code",
   "execution_count": null,
   "id": "d9525446",
   "metadata": {},
   "outputs": [],
   "source": [
    "#- read the data\n",
    "importlib.reload(utils)\n",
    "# - plot 2: change in the roles \n",
    "df_role_change = utils.VSA.role_change(oo_vsa_ctr, oo_vsa_sample, target_roles=[3])\n",
    "df_role_change.to_csv(os.path.join(OUTPUT_DIR,'VSA','df_role_change.csv'),index=False)\n",
    "utils.VSA.plot_role_change(df_role_change, OUTPUT_DIR=OUTPUT_DIR)"
   ]
  },
  {
   "cell_type": "markdown",
   "id": "5713d899",
   "metadata": {},
   "source": [
    "# Sensitivity analysis"
   ]
  },
  {
   "cell_type": "markdown",
   "id": "c27f4392",
   "metadata": {},
   "source": [
    "## multiplicative gaussian noise"
   ]
  },
  {
   "cell_type": "code",
   "execution_count": null,
   "id": "bc1bcbe0",
   "metadata": {},
   "outputs": [],
   "source": [
    "importlib.reload(utils)\n",
    "#- retreive data\n",
    "df_role_change = pd.read_csv(os.path.join(OUTPUT_DIR,'VSA','df_role_change.csv'),index_col=False)\n",
    "target_prots = df_role_change['Entry'].values.tolist() \n",
    "\n",
    "method = 'portia'\n",
    "links_ctr = pd.read_pickle(os.path.join(OUTPUT_DIR,'GRN',f'links_short_ctr_{method}.csv'))\n",
    "links_sample = pd.read_pickle(os.path.join(OUTPUT_DIR,'GRN',f'links_short_mg_{method}.csv'))\n",
    "#- multiplicative gaussian noise\n",
    "# utils.sensitivity_analysis.multiGaussNoise(links_ctr, links_sample, protnames, target_prots, OUTPUT_DIR)\n",
    "#- additive gaussian noise\n",
    "utils.sensitivity_analysis.addGaussNoise(links_ctr, links_sample, protnames, target_prots, OUTPUT_DIR)"
   ]
  },
  {
   "cell_type": "markdown",
   "id": "3a83055d",
   "metadata": {},
   "source": [
    "# Visualize protein network "
   ]
  },
  {
   "cell_type": "code",
   "execution_count": null,
   "id": "bcc57370",
   "metadata": {},
   "outputs": [],
   "source": [
    "importlib.reload(utils)\n",
    "with open(os.path.join(OUTPUT_DIR, 'postprocess/map_protname_genename.json')) as f:\n",
    "    map_protname_genename = json.load(f)['map']\n",
    "# preferred_names = [map_protname_genename[protname] for protname in protnames]\n",
    "preferred_names =protnames\n",
    "def visualize(study):\n",
    "    #- retreive nodes and edges\n",
    "    nodes, edges = utils.read_write_nodes_edges(study=study, mode='read', OUTPUT_DIR=OUTPUT_DIR)\n",
    "    utils.visualize_network(nodes, edges, 'ctr', protnames, preferred_names, OUTPUT_DIR)\n",
    "visualize('ctr')"
   ]
  },
  {
   "cell_type": "code",
   "execution_count": null,
   "id": "9ef3f829",
   "metadata": {},
   "outputs": [],
   "source": [
    "import igraph\n",
    "igraph.drawing.shapes.DiamondDrawer()"
   ]
  }
 ],
 "metadata": {
  "kernelspec": {
   "display_name": "Python 3 (ipykernel)",
   "language": "python",
   "name": "python3"
  },
  "language_info": {
   "codemirror_mode": {
    "name": "ipython",
    "version": 3
   },
   "file_extension": ".py",
   "mimetype": "text/x-python",
   "name": "python",
   "nbconvert_exporter": "python",
   "pygments_lexer": "ipython3",
   "version": "3.8.13"
  },
  "toc": {
   "base_numbering": 1,
   "nav_menu": {
    "height": "248px",
    "width": "296px"
   },
   "number_sections": true,
   "sideBar": true,
   "skip_h1_title": false,
   "title_cell": "Table of Contents",
   "title_sidebar": "Contents",
   "toc_cell": false,
   "toc_position": {},
   "toc_section_display": true,
   "toc_window_display": false
  },
  "toc-autonumbering": false,
  "toc-showcode": false,
  "toc-showmarkdowntxt": true,
  "toc-showtags": false
 },
 "nbformat": 4,
 "nbformat_minor": 5
}
