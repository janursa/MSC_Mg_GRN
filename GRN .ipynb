{
 "cells": [
  {
   "cell_type": "markdown",
   "id": "29373dfd",
   "metadata": {},
   "source": [
    "# Model params tuning (RF and ridge)"
   ]
  },
  {
   "cell_type": "markdown",
   "id": "f6f6ef46",
   "metadata": {},
   "source": [
    "## RF"
   ]
  },
  {
   "cell_type": "code",
   "execution_count": null,
   "id": "5567b85f",
   "metadata": {
    "scrolled": true
   },
   "outputs": [],
   "source": [
    "#- Tune parameters for RF\n",
    "%run scripts/calibration/RF_tune.py #use this in terminal in different steps"
   ]
  },
  {
   "cell_type": "code",
   "execution_count": null,
   "id": "325e6a28",
   "metadata": {},
   "outputs": [],
   "source": [
    "#- Pool and plot the results for RF\n",
    "%run scripts/calibration/RF_post_tune.py"
   ]
  },
  {
   "cell_type": "markdown",
   "id": "d804cb40",
   "metadata": {},
   "source": [
    "## Ridge"
   ]
  },
  {
   "cell_type": "code",
   "execution_count": null,
   "id": "489906ec",
   "metadata": {},
   "outputs": [],
   "source": [
    "#- Tune for ridge\n",
    "%run scripts/calibration/ridge_tune.py"
   ]
  },
  {
   "cell_type": "code",
   "execution_count": null,
   "id": "0d76ed41",
   "metadata": {},
   "outputs": [],
   "source": [
    "#- Pool and plot the results for ridge\n",
    "%run scripts/calibration/ridge_post_tune.py"
   ]
  },
  {
   "cell_type": "code",
   "execution_count": null,
   "id": "c7fb25b3",
   "metadata": {},
   "outputs": [],
   "source": [
    "scores = [[np.ones(4), 2*np.ones(4), 3*np.ones(4)], [np.ones(4), 2*np.ones(4), 3*np.ones(4)]]\n",
    "scores_pool = np.stack(scores,axis=2)\n",
    "print('pool',scores_pool)\n",
    "scores_mean = np.mean(scores_pool, axis=2)\n",
    "print('mean',scores_mean)\n",
    "params = ['p1','p2','p3','p4']\n",
    "best_indices = np.argmax(scores_mean, axis=1)\n",
    "print(best_indices)\n",
    "best_scores = np.max(scores_mean, axis=1)\n",
    "print(best_scores)\n",
    "best_params = [params[i] for i in best_indices]"
   ]
  },
  {
   "cell_type": "code",
   "execution_count": null,
   "id": "e198421e",
   "metadata": {},
   "outputs": [],
   "source": [
    "import numpy as np\n",
    "from sklearn.model_selection import LeaveOneOut\n",
    "X = np.array([[1, 2], [3, 4],[3, 4]])\n",
    "loo = LeaveOneOut()\n",
    "print(loo.get_n_splits(X))\n",
    "\n",
    "for i, (train_index, test_index) in enumerate(loo.split(X)):\n",
    "    print(f\"Fold {i}:\")\n",
    "    print(f\"  Train: index={train_index}\")\n",
    "    print(f\"  Test:  index={test_index}\")"
   ]
  },
  {
   "cell_type": "markdown",
   "id": "0cbfe974",
   "metadata": {},
   "source": [
    "# GRN "
   ]
  },
  {
   "cell_type": "markdown",
   "id": "f6aa590e",
   "metadata": {},
   "source": [
    "## RF"
   ]
  },
  {
   "cell_type": "code",
   "execution_count": null,
   "id": "03daeb36",
   "metadata": {
    "scrolled": true
   },
   "outputs": [],
   "source": [
    "# run this one from terminal, as it needs to be run in seperate sessions (1000 runs)\n",
    "%run scripts/GRN/RF_grn.py"
   ]
  },
  {
   "cell_type": "code",
   "execution_count": 3,
   "id": "e384d659",
   "metadata": {},
   "outputs": [
    {
     "name": "stdout",
     "output_type": "stream",
     "text": [
      "GRN results are successfully pooled for RF\n"
     ]
    }
   ],
   "source": [
    "#pool the links and add oob scores to the df\n",
    "%run scripts/GRN/RF_grn_pool.py"
   ]
  },
  {
   "cell_type": "markdown",
   "id": "d8367425",
   "metadata": {},
   "source": [
    "## Ridge"
   ]
  },
  {
   "cell_type": "code",
   "execution_count": null,
   "id": "0ca070e7",
   "metadata": {},
   "outputs": [],
   "source": [
    "%run scripts/GRN/ridge_grn.py"
   ]
  },
  {
   "cell_type": "markdown",
   "id": "b66a21d2",
   "metadata": {},
   "source": [
    "## Portia"
   ]
  },
  {
   "cell_type": "code",
   "execution_count": null,
   "id": "165c7532",
   "metadata": {},
   "outputs": [],
   "source": [
    "%run scripts/GRN/portia_grn.py"
   ]
  },
  {
   "cell_type": "markdown",
   "id": "3757462f",
   "metadata": {},
   "source": [
    "## plot best scores (RF and Ridge)"
   ]
  },
  {
   "cell_type": "code",
   "execution_count": null,
   "id": "a7195c6a",
   "metadata": {},
   "outputs": [],
   "source": [
    "%run scripts/GRN/plot_grn_scores.py "
   ]
  },
  {
   "cell_type": "markdown",
   "id": "7c9c21c2",
   "metadata": {},
   "source": [
    "## Plot distribution of mean weights (all methods)"
   ]
  },
  {
   "cell_type": "code",
   "execution_count": null,
   "id": "91584672",
   "metadata": {},
   "outputs": [],
   "source": [
    "%run scripts/GRN/plot_grn_mean_weights.py  "
   ]
  },
  {
   "cell_type": "markdown",
   "id": "7e19735a",
   "metadata": {},
   "source": [
    "## Plot distribution of top links for different repeatition (RF)"
   ]
  },
  {
   "cell_type": "code",
   "execution_count": null,
   "id": "5ac94296",
   "metadata": {},
   "outputs": [],
   "source": [
    "%run scripts/GRN/plot_grn_weights_distribution.py"
   ]
  },
  {
   "cell_type": "markdown",
   "id": "74df95dd",
   "metadata": {},
   "source": [
    "# Compare different methods: matching with string"
   ]
  },
  {
   "cell_type": "code",
   "execution_count": null,
   "id": "4e7d1949",
   "metadata": {},
   "outputs": [],
   "source": [
    "%run scripts/vs_string/vs_distribution.py"
   ]
  },
  {
   "cell_type": "code",
   "execution_count": 1,
   "id": "560e7bdb",
   "metadata": {},
   "outputs": [
    {
     "data": {
      "image/png": "[encoded data removed]",
      "text/plain": [
       "<Figure size 338.4x252 with 1 Axes>"
      ]
     },
     "metadata": {
      "needs_background": "light"
     },
     "output_type": "display_data"
    }
   ],
   "source": [
    "%run scripts/vs_string/vs_series.py"
   ]
  },
  {
   "cell_type": "markdown",
   "id": "309b63a1",
   "metadata": {},
   "source": [
    "# Filter (on hold)"
   ]
  },
  {
   "cell_type": "code",
   "execution_count": null,
   "id": "f1a52ff1",
   "metadata": {},
   "outputs": [],
   "source": []
  },
  {
   "cell_type": "markdown",
   "id": "88b08715",
   "metadata": {},
   "source": [
    "## create edges and nodes"
   ]
  },
  {
   "cell_type": "code",
   "execution_count": null,
   "id": "80aebc3c",
   "metadata": {},
   "outputs": [],
   "source": [
    "links_short_ctr_portia = pd.read_pickle(os.path.join(OUTPUT_DIR,'GRN','links_short_ctr_portia.csv'))\n",
    "links_short_sample_portia = pd.read_pickle(os.path.join(OUTPUT_DIR,'GRN','links_short_mg_portia.csv'))\n",
    "\n",
    "def process_nodes_edges(study, links, scores=None):\n",
    "    #- create nodes and edges\n",
    "    nodes, edges = utils.convert_links_to_nodes_edges(links, protnames, scores)\n",
    "    #- output edges and nodes   \n",
    "    utils.read_write_nodes_edges(nodes=nodes, edges=edges, study=study, mode='write', OUTPUT_DIR=OUTPUT_DIR)\n",
    "process_nodes_edges('ctr', links_short_ctr_portia)\n",
    "process_nodes_edges('mg', links_short_sample_portia)"
   ]
  },
  {
   "cell_type": "markdown",
   "id": "56110c2b",
   "metadata": {},
   "source": [
    "# Vester's sensitivity analysis. \n",
    "- AS: active sum. Sum along rows of the influence matrix and it indicates how much does a variable influence all the others.\n",
    "- PS: passive sum. Its is the sum along columns of the influence matrix and it indicates how sensitive a variable is, how does it react to the influence of others\n",
    "- Q: AS/PS -> how dominant\n",
    "- P: AS.PS -> how participative a variable is\n",
    "- Active: +Q\n",
    "- Passive: -Q, -P\n",
    "- Critical: +Q, +P\n",
    "- Buffering: -Q, -P"
   ]
  },
  {
   "cell_type": "markdown",
   "id": "3029b891",
   "metadata": {},
   "source": [
    "## VSA and Role change"
   ]
  },
  {
   "cell_type": "code",
   "execution_count": null,
   "id": "d9525446",
   "metadata": {},
   "outputs": [],
   "source": [
    "%run scripts/VSA/step1.py "
   ]
  },
  {
   "cell_type": "markdown",
   "id": "5713d899",
   "metadata": {},
   "source": [
    "# Sensitivity analysis"
   ]
  },
  {
   "cell_type": "markdown",
   "id": "c27f4392",
   "metadata": {},
   "source": [
    "## multiplicative gaussian noise"
   ]
  },
  {
   "cell_type": "code",
   "execution_count": null,
   "id": "bc1bcbe0",
   "metadata": {},
   "outputs": [],
   "source": [
    "importlib.reload(utils)\n",
    "#- retreive data\n",
    "df_role_change = pd.read_csv(os.path.join(OUTPUT_DIR,'VSA','df_role_change.csv'),index_col=False)\n",
    "target_prots = df_role_change['Entry'].values.tolist() \n",
    "\n",
    "method = 'portia'\n",
    "links_ctr = pd.read_pickle(os.path.join(OUTPUT_DIR,'GRN',f'links_short_ctr_{method}.csv'))\n",
    "links_sample = pd.read_pickle(os.path.join(OUTPUT_DIR,'GRN',f'links_short_mg_{method}.csv'))\n",
    "#- multiplicative gaussian noise\n",
    "# utils.sensitivity_analysis.multiGaussNoise(links_ctr, links_sample, protnames, target_prots, OUTPUT_DIR)\n",
    "#- additive gaussian noise\n",
    "utils.sensitivity_analysis.addGaussNoise(links_ctr, links_sample, protnames, target_prots, OUTPUT_DIR)"
   ]
  },
  {
   "cell_type": "code",
   "execution_count": 23,
   "id": "000b73bb",
   "metadata": {},
   "outputs": [
    {
     "data": {
      "text/plain": [
       "array([1, 2, 3])"
      ]
     },
     "execution_count": 23,
     "metadata": {},
     "output_type": "execute_result"
    }
   ],
   "source": [
    "a = np.array([[1,2], [3]], dtype=list)\n",
    "np.hstack(a)\n"
   ]
  },
  {
   "cell_type": "markdown",
   "id": "3a83055d",
   "metadata": {},
   "source": [
    "# Visualize protein network "
   ]
  },
  {
   "cell_type": "code",
   "execution_count": null,
   "id": "bcc57370",
   "metadata": {},
   "outputs": [],
   "source": [
    "importlib.reload(utils)\n",
    "with open(os.path.join(OUTPUT_DIR, 'postprocess/map_protname_genename.json')) as f:\n",
    "    map_protname_genename = json.load(f)['map']\n",
    "# preferred_names = [map_protname_genename[protname] for protname in protnames]\n",
    "preferred_names =protnames\n",
    "def visualize(study):\n",
    "    #- retreive nodes and edges\n",
    "    nodes, edges = utils.read_write_nodes_edges(study=study, mode='read', OUTPUT_DIR=OUTPUT_DIR)\n",
    "    utils.visualize_network(nodes, edges, 'ctr', protnames, preferred_names, OUTPUT_DIR)\n",
    "visualize('ctr')"
   ]
  },
  {
   "cell_type": "code",
   "execution_count": null,
   "id": "9ef3f829",
   "metadata": {},
   "outputs": [],
   "source": [
    "import igraph\n",
    "igraph.drawing.shapes.DiamondDrawer()"
   ]
  }
 ],
 "metadata": {
  "kernelspec": {
   "display_name": "Python 3 (ipykernel)",
   "language": "python",
   "name": "python3"
  },
  "language_info": {
   "codemirror_mode": {
    "name": "ipython",
    "version": 3
   },
   "file_extension": ".py",
   "mimetype": "text/x-python",
   "name": "python",
   "nbconvert_exporter": "python",
   "pygments_lexer": "ipython3",
   "version": "3.8.13"
  },
  "toc": {
   "base_numbering": 1,
   "nav_menu": {
    "height": "248px",
    "width": "296px"
   },
   "number_sections": true,
   "sideBar": true,
   "skip_h1_title": false,
   "title_cell": "Table of Contents",
   "title_sidebar": "Contents",
   "toc_cell": false,
   "toc_position": {},
   "toc_section_display": true,
   "toc_window_display": false
  },
  "toc-autonumbering": false,
  "toc-showcode": false,
  "toc-showmarkdowntxt": true,
  "toc-showtags": false
 },
 "nbformat": 4,
 "nbformat_minor": 5
}
