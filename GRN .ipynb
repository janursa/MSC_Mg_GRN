{
 "cells": [
  {
   "cell_type": "markdown",
   "id": "069bb7c6",
   "metadata": {},
   "source": [
    "# Imports"
   ]
  },
  {
   "cell_type": "code",
   "execution_count": 1,
   "id": "ac24b5a3",
   "metadata": {},
   "outputs": [],
   "source": [
    "import pandas as pd\n",
    "pd.options.mode.chained_assignment = None\n",
    "import numpy as np\n",
    "import importlib\n",
    "import sys\n",
    "import copy\n",
    "import os\n",
    "from sklearn import preprocessing\n",
    "from scripts.utils import time\n",
    "import matplotlib.pyplot as plt\n",
    "import json\n",
    "import random\n",
    "import importlib\n",
    "#- define main directories\n",
    "MAIN_DIR = 'C:/Users/nourisa/Downloads/testProjs/proteomics_MSC/'\n",
    "OUTPUT_DIR = os.path.join(MAIN_DIR, 'results')\n",
    "CALIBRATION_DIR = os.path.join(OUTPUT_DIR, 'calibration')\n",
    "#- add paths\n",
    "sys.path.insert(0,MAIN_DIR)\n",
    "geneRNI_dir = os.path.join(MAIN_DIR,'..','geneRNI')\n",
    "sys.path.insert(0, geneRNI_dir)\n",
    "#- local imports\n",
    "from scripts import utils\n",
    "from geneRNI import geneRNI, tools, search_param\n",
    "#- import training data\n",
    "df_target = pd.read_csv('results/postprocess/DE_data.csv')\n",
    "#- DE protnames\n",
    "protnames = list(df_target['Protein'].values)\n",
    "#- calibration \n",
    "param_grid = dict(alpha=np.arange(0,1,.05), min_samples_split=np.arange(2,5,1), min_samples_leaf=np.arange(1,5,1),max_depth=np.arange(10,20,1))"
   ]
  },
  {
   "cell_type": "markdown",
   "id": "378b3003",
   "metadata": {},
   "source": [
    "# Process training data\n",
    "Extract ctr and mg data from the time series"
   ]
  },
  {
   "cell_type": "code",
   "execution_count": null,
   "id": "d6bf6ab0",
   "metadata": {},
   "outputs": [],
   "source": [
    "importlib.reload(utils)\n",
    "data_ctr = utils.process_data(df_target, study='ctr')\n",
    "data_mg = utils.process_data(df_target, study='mg')\n",
    "print('Data shape:', np.array(data_ctr).shape, '(n_samples_time_series*n_genes)')\n",
    "np.savetxt(os.path.join(OUTPUT_DIR,'data', 'data_ctr.csv'), data_ctr, delimiter=\",\")\n",
    "np.savetxt(os.path.join(OUTPUT_DIR,'data', 'data_mg.csv'), data_mg, delimiter=\",\")"
   ]
  },
  {
   "cell_type": "markdown",
   "id": "29373dfd",
   "metadata": {},
   "source": [
    "# Hyper params tuning"
   ]
  },
  {
   "cell_type": "markdown",
   "id": "1605253e",
   "metadata": {},
   "source": [
    "## Tune parameters"
   ]
  },
  {
   "cell_type": "code",
   "execution_count": null,
   "id": "5567b85f",
   "metadata": {
    "scrolled": true
   },
   "outputs": [],
   "source": [
    "# tune params using geneRNI: only train set\n",
    "importlib.reload(search_param)\n",
    "importlib.reload(tools)\n",
    "specs = dict(\n",
    "#     train_flag=True\n",
    ")\n",
    "param = dict(estimator_t = 'RF',random_state = 0)\n",
    "def tune(data, study='ctr', i=0):\n",
    "    Xs, ys = tools.Data.process_time_series(TS_data=[data], time_points=[time],  gene_names=protnames)\n",
    "    print(f'----Tuning for {study} iteration {i}-----')\n",
    "    best_scores, best_params, best_ests, sampled_permts_sorted = \\\n",
    "            search_param.rand_search(Xs, ys, param=param, \n",
    "                                     param_grid=param_grid, \n",
    "                                     n_jobs=10, n_sample=60, **specs)\n",
    "    print(f'mean best score {np.mean(best_scores)}')\n",
    "    return best_scores, best_params\n",
    "# data, study = data_ctr, 'ctr'\n",
    "data, study = data_mg, 'mg'\n",
    "best_scores, best_params = tune(data, study=study) #TODO: this goes into a loop for 100 times\n",
    "\n",
    "utils.read_write_oo(study, mode='write', best_params=best_params, best_scores=best_scores, OUTPUT_DIR=OUTPUT_DIR)"
   ]
  },
  {
   "cell_type": "markdown",
   "id": "a3f18005",
   "metadata": {},
   "source": [
    "## plot scores and best params"
   ]
  },
  {
   "cell_type": "code",
   "execution_count": null,
   "id": "85bd2f63",
   "metadata": {},
   "outputs": [],
   "source": [
    "#- read the data\n",
    "best_params_ctr, scores_ctr = utils.read_write_oo('ctr', mode='read', OUTPUT_DIR=OUTPUT_DIR)\n",
    "best_params_mg, scores_mg = utils.read_write_oo('mg', mode='read', OUTPUT_DIR=OUTPUT_DIR)\n",
    "#- box plot \n",
    "importlib.reload(utils)\n",
    "#- best score \n",
    "fig = utils.plot_bestscores(scores_ctr, scores_mg)\n",
    "fig.savefig(os.path.join(OUTPUT_DIR,'postprocess','bestscores.png'), dpi=300, transparent=True, facecolor='white')\n",
    "#- best param\n",
    "fig = utils.plot_bestparams(best_params_ctr,best_params_mg, priors=param_grid)\n",
    "fig.savefig(os.path.join(OUTPUT_DIR,'postprocess','bestparams.png'), dpi=300, transparent=True, facecolor='white')"
   ]
  },
  {
   "cell_type": "markdown",
   "id": "0cbfe974",
   "metadata": {},
   "source": [
    "# GRN using geneRNI"
   ]
  },
  {
   "cell_type": "code",
   "execution_count": null,
   "id": "03daeb36",
   "metadata": {
    "scrolled": true
   },
   "outputs": [],
   "source": [
    "# GRN\n",
    "import importlib\n",
    "import json\n",
    "importlib.reload(tools)\n",
    "importlib.reload(geneRNI)\n",
    "importlib.reload(utils)\n",
    "\n",
    "def GRN(data, study='ctr', i=0):\n",
    "#     print(f'----GRN for {study}-----')\n",
    "    Xs, ys = tools.Data.process_time_series(TS_data=[data], time_points=[time],  gene_names=protnames)\n",
    "    # read the outputs of tunning\n",
    "    best_params, _ = utils.read_write_oo(study, mode='read', OUTPUT_DIR=OUTPUT_DIR)\n",
    "    # run the network inference\n",
    "    param = dict(estimator_t='RF')\n",
    "\n",
    "    ests, train_scores, links_df, oob_scores, test_scores = \\\n",
    "        geneRNI.network_inference(Xs, ys, gene_names=protnames, \n",
    "                                  param=param, param_unique=best_params, \n",
    "                                  Xs_test=None, ys_test=None, verbose=False\n",
    "                                  )\n",
    "    utils.read_write_links(links=links_df, study=study, mode='write',i=i,OUTPUT_DIR=OUTPUT_DIR)\n",
    "def run_batch(data, study,istart, iend):\n",
    "    for i in range(istart, iend):\n",
    "        GRN(data, study, i)\n",
    "        print(f'{i} finished')\n",
    "data_ctr = np.genfromtxt(os.path.join(OUTPUT_DIR,'data', 'data_ctr.csv'),  delimiter=',')\n",
    "data_mg = np.genfromtxt(os.path.join(OUTPUT_DIR,'data', 'data_mg.csv'),  delimiter=',')\n",
    "\n",
    "run_batch(data_ctr,'ctr',176, 300) \n",
    "# run_batch(data_mg,'mg',389, 500) "
   ]
  },
  {
   "cell_type": "markdown",
   "id": "c1fea2ca",
   "metadata": {},
   "source": [
    "- (check) Filter genes with high test scores"
   ]
  },
  {
   "cell_type": "markdown",
   "id": "b66a21d2",
   "metadata": {},
   "source": [
    "# GRN using Portia"
   ]
  },
  {
   "cell_type": "code",
   "execution_count": null,
   "id": "de9828f3",
   "metadata": {},
   "outputs": [],
   "source": [
    "# portia\n",
    "importlib.reload(utils)\n",
    "dir_portia = os.path.join(MAIN_DIR,'..','external/PORTIA-master')\n",
    "sys.path.insert(0,dir_portia)\n",
    "import portia as pt\n",
    "def data_process(data):\n",
    "    dataset = pt.GeneExpressionDataset()\n",
    "    exp_id = 1\n",
    "    for data in data:\n",
    "        dataset.add(pt.Experiment(exp_id, data))\n",
    "        exp_id+=1\n",
    "    return dataset\n",
    "\n",
    "def GRN(data, study):\n",
    "    dataset = data_process(data)\n",
    "    M_bar = pt.run(dataset, method='fast')\n",
    "    links_df = tools.Links.format(M_bar, protnames)\n",
    "    \n",
    "    utils.Links.read_write_links(links=links_df, study=study, mode='write',method='portia',OUTPUT_DIR=OUTPUT_DIR)\n",
    "\n",
    "#- read the data\n",
    "data_ctr = np.genfromtxt(os.path.join(OUTPUT_DIR,'data', 'data_ctr.csv'),  delimiter=',')\n",
    "data_mg = np.genfromtxt(os.path.join(OUTPUT_DIR,'data', 'data_mg.csv'),  delimiter=',')\n",
    "\n",
    "#- run \n",
    "GRN(data_ctr, 'ctr')\n",
    "GRN(data_mg, 'mg')"
   ]
  },
  {
   "cell_type": "markdown",
   "id": "3898b6f1",
   "metadata": {},
   "source": [
    "# GRN post process"
   ]
  },
  {
   "cell_type": "markdown",
   "id": "0113ac2a",
   "metadata": {},
   "source": [
    "## Pool the links and add scores (only grni) "
   ]
  },
  {
   "cell_type": "code",
   "execution_count": null,
   "id": "b9c17079",
   "metadata": {},
   "outputs": [],
   "source": [
    "importlib.reload(utils)\n",
    "method = 'grni'\n",
    "#- read links extracted during different runs. \n",
    "links_ctr = utils.Links.pool_links('ctr', protnames, output_dir=OUTPUT_DIR, n=1000, method=method)\n",
    "links_sample = utils.Links.pool_links('mg', protnames, output_dir=OUTPUT_DIR, n=1000, method=method)\n",
    "#- retreive scores\n",
    "scores_ctr = np.genfromtxt(os.path.join(OUTPUT_DIR,'calibration', 'scores_ctr.csv'),  delimiter=',')\n",
    "scores_sample = np.genfromtxt(os.path.join(OUTPUT_DIR,'calibration', 'scores_mg.csv'),  delimiter=',')\n",
    "\n",
    "def add_score_to_links(links, scores, protnames):\n",
    "    links['FitScore'] = None\n",
    "    for target, score in zip(protnames, scores):\n",
    "        links.loc[links['Target'] == target, 'FitScore'] = score\n",
    "    return links\n",
    "links_ctr = add_score_to_links(links_ctr, scores_ctr, protnames)\n",
    "links_sample = add_score_to_links(links_sample, scores_sample, protnames)\n",
    "#- save\n",
    "links_ctr.to_pickle(os.path.join(OUTPUT_DIR,'GRN', f'links_ctr_{method}.csv')) # save with pickle because there is a list of items in data\n",
    "links_sample.to_pickle(os.path.join(OUTPUT_DIR,'GRN', f'links_mg_{method}.csv'))"
   ]
  },
  {
   "cell_type": "markdown",
   "id": "1791d957",
   "metadata": {},
   "source": [
    "## ensemble geneRNI and portia"
   ]
  },
  {
   "cell_type": "code",
   "execution_count": 21,
   "id": "7e5bdabd",
   "metadata": {},
   "outputs": [],
   "source": [
    "#- retreive the links\n",
    "def retreive_grni(study):\n",
    "    links = pd.read_pickle(os.path.join(OUTPUT_DIR,'GRN', f'links_{study}_grni.csv'))\n",
    "    return links\n",
    "def retreive_portia(study):\n",
    "    links = pd.read_csv(os.path.join(OUTPUT_DIR,'GRN', f'links_{study}_portia.csv'))\n",
    "    return links\n",
    "links_ctr_grni, links_sample_grni = retreive_grni('ctr'), retreive_grni('mg')\n",
    "links_ctr_portia, links_sample_portia = retreive_portia('ctr'), retreive_portia('mg')\n",
    "#- normalize\n",
    "def normalize(links, study):\n",
    "#     links['Weight'] = links['Weight']/np.std(links['Weight'])\n",
    "    #- normalize pool of links\n",
    "    if study=='grni':\n",
    "        links['WeightPool'] = [row/np.std(links['Weight']) for row in links['WeightPool'].values]\n",
    "        links['Weight'] = [np.mean(row) for row in links['WeightPool'].values]        \n",
    "    if study =='portia':\n",
    "        links['Weight'] = links['Weight']/np.std(links['Weight'])\n",
    "    #- update the weight\n",
    "    return links\n",
    "links_ctr_grni, links_sample_grni = normalize(links_ctr_grni,'grni'), normalize(links_sample_grni,'grni')\n",
    "links_ctr_portia, links_sample_portia = normalize(links_ctr_portia,'portia'), normalize(links_sample_portia,'portia')\n",
    "\n",
    "#- combine\n",
    "def combine(links_1, links_2):\n",
    "    links = links_1.copy() #you bitch\n",
    "    keys = ['Weight']\n",
    "    for key in keys:\n",
    "        links[key] = (links_1[key] + links_2[key])/2\n",
    "    return links\n",
    "links_ctr_ensemble = combine(links_ctr_grni, links_ctr_portia)\n",
    "links_sample_ensemble = combine(links_sample_grni, links_sample_portia)\n",
    "#- save\n",
    "links_ctr_ensemble.to_pickle(os.path.join(OUTPUT_DIR,'GRN', 'links_ctr_ensemble.csv')) # save with pickle because there is a list of items in data\n",
    "links_sample_ensemble.to_pickle(os.path.join(OUTPUT_DIR,'GRN', 'links_mg_ensemble.csv'))"
   ]
  },
  {
   "cell_type": "markdown",
   "id": "7c9c21c2",
   "metadata": {},
   "source": [
    "## Plot distribution of mean weights"
   ]
  },
  {
   "cell_type": "code",
   "execution_count": null,
   "id": "91584672",
   "metadata": {},
   "outputs": [],
   "source": [
    "importlib.reload(utils)\n",
    "links_combined = [links_ctr_grni, links_sample_grni,\n",
    "               links_ctr_portia, links_sample_portia, \n",
    "               links_ctr_ensemble, links_sample_ensemble]\n",
    "labels = ['ctr grni','mg grni','ctr portia','mg portia','ctr ensemble','mg ensemble']\n",
    "utils.Links.plot_mean_weights(links_combined, labels)"
   ]
  },
  {
   "cell_type": "markdown",
   "id": "74df95dd",
   "metadata": {},
   "source": [
    "## Compare different methods: matching with string"
   ]
  },
  {
   "cell_type": "code",
   "execution_count": 26,
   "id": "553ffb80",
   "metadata": {},
   "outputs": [],
   "source": [
    "importlib.reload(utils)\n",
    "#- create random links\n",
    "def create_random_links(links_target):\n",
    "    random_links = links_target.copy()\n",
    "    weightpoolpool = np.array([i for j in links_target['WeightPool'].values.tolist() for i in j])\n",
    "    weightpoolvector = []\n",
    "    for i in range(len(links_target)):\n",
    "        weightpoolvector.append(np.random.choice(weightpoolpool, 1000))\n",
    "    random_links['WeightPool'] = weightpoolvector\n",
    "    random_links['Weight']= np.mean(weightpoolvector, axis=1)\n",
    "    return random_links\n",
    "links_ctr_random = create_random_links(links_ctr_grni)\n",
    "\n",
    "links_ctr_grni_short = utils.Links.filter_fitscore(links_ctr_grni)\n",
    "match_count_grni = utils.Links.compare_network_string_distribution(links_ctr_grni_short, OUTPUT_DIR)\n",
    "\n",
    "links_ctr_portia_short = utils.Links.filter_toplinks(links_ctr_portia)\n",
    "match_count_portia = utils.Links.compare_network_string(links_ctr_portia_short.copy(), OUTPUT_DIR)\n",
    "match_count_portia = [match_count_portia for i in range(1000)]\n",
    "\n",
    "match_count_ensemble = utils.Links.compare_network_string_distribution(links_ctr_ensemble, OUTPUT_DIR)\n",
    "\n",
    "match_count_random = utils.Links.compare_network_string_distribution(links_ctr_random, OUTPUT_DIR)"
   ]
  },
  {
   "cell_type": "code",
   "execution_count": 27,
   "id": "d9a996c0",
   "metadata": {},
   "outputs": [
    {
     "data": {
      "image/png": "[encoded data removed]",
      "text/plain": [
       "<Figure size 288x288 with 1 Axes>"
      ]
     },
     "metadata": {
      "needs_background": "light"
     },
     "output_type": "display_data"
    }
   ],
   "source": [
    "#- sign test, extracted links vs random links\n",
    "import scipy\n",
    "import statistics\n",
    "pvalues = []\n",
    "s, p = scipy.stats.ttest_ind(match_count_grni, match_count_random)\n",
    "pvalues.append(p)\n",
    "s, p = scipy.stats.ttest_ind(match_count_portia, match_count_random)\n",
    "pvalues.append(p)\n",
    "s, p = scipy.stats.ttest_ind(match_count_ensemble, match_count_random)\n",
    "pvalues.append(p)\n",
    "#- plot violin for match scores\n",
    "importlib.reload(utils)\n",
    "fig=utils.Links.plot_match_counts([match_count_random, match_count_grni, match_count_portia,match_count_ensemble], labels=['Random', 'geneRNI','Portia','Ensemble'], pvalues=pvalues)\n",
    "fig.savefig(os.path.join(OUTPUT_DIR, 'postprocess/match_count.png'), dpi=300, transparent=True)"
   ]
  },
  {
   "cell_type": "markdown",
   "id": "309b63a1",
   "metadata": {},
   "source": [
    "## Filter"
   ]
  },
  {
   "cell_type": "code",
   "execution_count": 31,
   "id": "f1a52ff1",
   "metadata": {},
   "outputs": [
    {
     "name": "stdout",
     "output_type": "stream",
     "text": [
      "number of links after toplinks 281\n",
      "number of links after toplinks 281\n",
      "number of links after toplinks 281\n",
      "number of links after toplinks 281\n"
     ]
    },
    {
     "data": {
      "text/html": [
       "<div>\n",
       "<style scoped>\n",
       "    .dataframe tbody tr th:only-of-type {\n",
       "        vertical-align: middle;\n",
       "    }\n",
       "\n",
       "    .dataframe tbody tr th {\n",
       "        vertical-align: top;\n",
       "    }\n",
       "\n",
       "    .dataframe thead th {\n",
       "        text-align: right;\n",
       "    }\n",
       "</style>\n",
       "<table border=\"1\" class=\"dataframe\">\n",
       "  <thead>\n",
       "    <tr style=\"text-align: right;\">\n",
       "      <th></th>\n",
       "      <th>Regulator</th>\n",
       "      <th>Target</th>\n",
       "      <th>Weight</th>\n",
       "      <th>WeightPool</th>\n",
       "      <th>FitScore</th>\n",
       "    </tr>\n",
       "  </thead>\n",
       "  <tbody>\n",
       "    <tr>\n",
       "      <th>0</th>\n",
       "      <td>O15143</td>\n",
       "      <td>P12956</td>\n",
       "      <td>2.030379</td>\n",
       "      <td>[0.8941218550395663, 0.8941218550395663, 1.678...</td>\n",
       "      <td>0.255402</td>\n",
       "    </tr>\n",
       "    <tr>\n",
       "      <th>1</th>\n",
       "      <td>O15143</td>\n",
       "      <td>P26447</td>\n",
       "      <td>1.443617</td>\n",
       "      <td>[1.208207318289671, 1.208207318289671, 0.82262...</td>\n",
       "      <td>0.066704</td>\n",
       "    </tr>\n",
       "    <tr>\n",
       "      <th>2</th>\n",
       "      <td>O15143</td>\n",
       "      <td>P30085</td>\n",
       "      <td>4.551795</td>\n",
       "      <td>[5.772337893006231, 5.772337893006231, 5.98033...</td>\n",
       "      <td>0.461833</td>\n",
       "    </tr>\n",
       "    <tr>\n",
       "      <th>3</th>\n",
       "      <td>O15143</td>\n",
       "      <td>Q02818</td>\n",
       "      <td>1.311369</td>\n",
       "      <td>[0.792154716084908, 0.792154716084908, 1.06572...</td>\n",
       "      <td>-0.392936</td>\n",
       "    </tr>\n",
       "    <tr>\n",
       "      <th>4</th>\n",
       "      <td>O15143</td>\n",
       "      <td>Q14011</td>\n",
       "      <td>1.517187</td>\n",
       "      <td>[1.020773850610694, 1.020773850610694, 1.32244...</td>\n",
       "      <td>-0.331473</td>\n",
       "    </tr>\n",
       "    <tr>\n",
       "      <th>...</th>\n",
       "      <td>...</td>\n",
       "      <td>...</td>\n",
       "      <td>...</td>\n",
       "      <td>...</td>\n",
       "      <td>...</td>\n",
       "    </tr>\n",
       "    <tr>\n",
       "      <th>276</th>\n",
       "      <td>Q9Y3D6</td>\n",
       "      <td>P38606</td>\n",
       "      <td>2.592249</td>\n",
       "      <td>[2.3905696313600537, 2.3905696313600537, 2.697...</td>\n",
       "      <td>0.643672</td>\n",
       "    </tr>\n",
       "    <tr>\n",
       "      <th>277</th>\n",
       "      <td>Q9Y3D6</td>\n",
       "      <td>P62854</td>\n",
       "      <td>1.819467</td>\n",
       "      <td>[2.0661223406905833, 2.0661223406905833, 0.842...</td>\n",
       "      <td>0.641272</td>\n",
       "    </tr>\n",
       "    <tr>\n",
       "      <th>278</th>\n",
       "      <td>Q9Y3D6</td>\n",
       "      <td>Q07065</td>\n",
       "      <td>1.643163</td>\n",
       "      <td>[2.608630037618318, 2.608630037618318, 1.50652...</td>\n",
       "      <td>-0.382761</td>\n",
       "    </tr>\n",
       "    <tr>\n",
       "      <th>279</th>\n",
       "      <td>Q9Y3D6</td>\n",
       "      <td>Q13162</td>\n",
       "      <td>2.938389</td>\n",
       "      <td>[2.6022197451302693, 2.6022197451302693, 2.651...</td>\n",
       "      <td>0.72844</td>\n",
       "    </tr>\n",
       "    <tr>\n",
       "      <th>280</th>\n",
       "      <td>Q9Y3D6</td>\n",
       "      <td>Q9UJZ1</td>\n",
       "      <td>1.702307</td>\n",
       "      <td>[3.0241083504676016, 3.0241083504676016, 2.097...</td>\n",
       "      <td>0.662416</td>\n",
       "    </tr>\n",
       "  </tbody>\n",
       "</table>\n",
       "<p>281 rows × 5 columns</p>\n",
       "</div>"
      ],
      "text/plain": [
       "    Regulator  Target    Weight  \\\n",
       "0      O15143  P12956  2.030379   \n",
       "1      O15143  P26447  1.443617   \n",
       "2      O15143  P30085  4.551795   \n",
       "3      O15143  Q02818  1.311369   \n",
       "4      O15143  Q14011  1.517187   \n",
       "..        ...     ...       ...   \n",
       "276    Q9Y3D6  P38606  2.592249   \n",
       "277    Q9Y3D6  P62854  1.819467   \n",
       "278    Q9Y3D6  Q07065  1.643163   \n",
       "279    Q9Y3D6  Q13162  2.938389   \n",
       "280    Q9Y3D6  Q9UJZ1  1.702307   \n",
       "\n",
       "                                            WeightPool  FitScore  \n",
       "0    [0.8941218550395663, 0.8941218550395663, 1.678...  0.255402  \n",
       "1    [1.208207318289671, 1.208207318289671, 0.82262...  0.066704  \n",
       "2    [5.772337893006231, 5.772337893006231, 5.98033...  0.461833  \n",
       "3    [0.792154716084908, 0.792154716084908, 1.06572... -0.392936  \n",
       "4    [1.020773850610694, 1.020773850610694, 1.32244... -0.331473  \n",
       "..                                                 ...       ...  \n",
       "276  [2.3905696313600537, 2.3905696313600537, 2.697...  0.643672  \n",
       "277  [2.0661223406905833, 2.0661223406905833, 0.842...  0.641272  \n",
       "278  [2.608630037618318, 2.608630037618318, 1.50652... -0.382761  \n",
       "279  [2.6022197451302693, 2.6022197451302693, 2.651...   0.72844  \n",
       "280  [3.0241083504676016, 3.0241083504676016, 2.097...  0.662416  \n",
       "\n",
       "[281 rows x 5 columns]"
      ]
     },
     "execution_count": 31,
     "metadata": {},
     "output_type": "execute_result"
    }
   ],
   "source": [
    "importlib.reload(utils)\n",
    "def filter(links, study, method, select_scores=False):\n",
    "    links_short = utils.Links.filter_toplinks(links)\n",
    "    links_short.to_pickle(os.path.join(OUTPUT_DIR,'GRN',f'links_short_{study}_{method}.csv'))\n",
    "    return links_short\n",
    "#-- portia \n",
    "method = 'portia'\n",
    "filter(links_ctr_portia, 'ctr', 'portia')\n",
    "filter(links_sample_portia, 'mg', 'portia')\n",
    "#-- grni \n",
    "method = 'grni'\n",
    "filter(links_ctr_grni, 'ctr', 'grni', select_scores=True)\n",
    "filter(links_sample_grni, 'mg', 'grni', select_scores=True)"
   ]
  },
  {
   "cell_type": "markdown",
   "id": "4a8f14ae",
   "metadata": {},
   "source": [
    "## Plot shortlisted weights"
   ]
  },
  {
   "cell_type": "code",
   "execution_count": 32,
   "id": "08ebcb51",
   "metadata": {},
   "outputs": [
    {
     "data": {
      "image/png": "[encoded data removed]",
      "text/plain": [
       "<Figure size 648x576 with 12 Axes>"
      ]
     },
     "metadata": {
      "needs_background": "light"
     },
     "output_type": "display_data"
    }
   ],
   "source": [
    "def plot_weight(links, dist_key='WeightPool'):\n",
    "    links_s = links.sort_values('Weight', ascending=False).reset_index(drop=True)\n",
    "    \n",
    "    top_n = 12\n",
    "    nrows = 4\n",
    "    ncols = 3\n",
    "    fig, axes = plt.subplots(nrows, ncols, tight_layout=True, figsize=(ncols*3, nrows*2))\n",
    "    for idx in range(top_n):\n",
    "        i = int(idx/(nrows-1))\n",
    "        j = idx%ncols\n",
    "        ax = axes[i][j]\n",
    "        ax.hist(links_s[dist_key][idx], bins=20, alpha=0.5,\n",
    "                        histtype='stepfilled', #'bar', 'barstacked', 'step', 'stepfilled'\n",
    "                        color='lightgreen',\n",
    "                        ec='black',\n",
    "                        rwidth=.9\n",
    "                       )\n",
    "        ax.set_xlabel('Interaction strength')\n",
    "        ax.set_ylabel('Model count')\n",
    "#         title = links['Regulator'][idx]+'-->'+links['Target'][idx]\n",
    "        title= idx\n",
    "        ax.set_title(title)\n",
    "        ax.set_ymargin(.15)\n",
    "        ax.set_xmargin(.15)\n",
    "def plot_pvalue(x):\n",
    "    fig, ax = plt.subplots(1, 1, tight_layout=True, figsize=(3, 2))\n",
    "    \n",
    "    ax.hist(x, bins=20, alpha=0.5,\n",
    "                    histtype='barstacked', #'bar', 'barstacked', 'step', 'stepfilled'\n",
    "                    ec='black',\n",
    "                    rwidth=.9\n",
    "                   )\n",
    "    ax.set_xlabel('Interaction strength')\n",
    "    ax.set_ylabel('Model count')\n",
    "links_short_ctr_grni = pd.read_pickle(os.path.join(OUTPUT_DIR,'GRN','links_short_ctr_grni.csv'))\n",
    "\n",
    "links_target = links_short_ctr_grni\n",
    "plot_weight(links_target, dist_key='WeightPool')\n",
    "# print(links_short_ctr_ensemble)"
   ]
  },
  {
   "cell_type": "markdown",
   "id": "88b08715",
   "metadata": {},
   "source": [
    "## create edges and nodes"
   ]
  },
  {
   "cell_type": "code",
   "execution_count": 33,
   "id": "80aebc3c",
   "metadata": {},
   "outputs": [
    {
     "name": "stdout",
     "output_type": "stream",
     "text": [
      "successfully wrote nodes and edges to  C:/Users/nourisa/Downloads/testProjs/proteomics_MSC/results\\GRN\n",
      "successfully wrote nodes and edges to  C:/Users/nourisa/Downloads/testProjs/proteomics_MSC/results\\GRN\n"
     ]
    }
   ],
   "source": [
    "links_short_ctr_portia = pd.read_pickle(os.path.join(OUTPUT_DIR,'GRN','links_short_ctr_portia.csv'))\n",
    "links_short_sample_portia = pd.read_pickle(os.path.join(OUTPUT_DIR,'GRN','links_short_mg_portia.csv'))\n",
    "\n",
    "def process_nodes_edges(study, links, scores=None):\n",
    "    #- create nodes and edges\n",
    "    nodes, edges = utils.convert_links_to_nodes_edges(links, protnames, scores)\n",
    "    #- output edges and nodes   \n",
    "    utils.read_write_nodes_edges(nodes=nodes, edges=edges, study=study, mode='write', OUTPUT_DIR=OUTPUT_DIR)\n",
    "process_nodes_edges('ctr', links_short_ctr_portia)\n",
    "process_nodes_edges('mg', links_short_sample_portia)"
   ]
  },
  {
   "cell_type": "markdown",
   "id": "56110c2b",
   "metadata": {},
   "source": [
    "# Vester's sensitivity analysis. \n",
    "- AS: active sum. Sum along rows of the influence matrix and it indicates how much does a variable influence all the others.\n",
    "- PS: passive sum. Its is the sum along columns of the influence matrix and it indicates how sensitive a variable is, how does it react to the influence of others\n",
    "- Q: AS/PS -> how dominant\n",
    "- P: AS.PS -> how participative a variable is\n",
    "- Active: +Q\n",
    "- Passive: -Q, -P\n",
    "- Critical: +Q, +P\n",
    "- Buffering: -Q, -P"
   ]
  },
  {
   "cell_type": "code",
   "execution_count": 81,
   "id": "1c77443f",
   "metadata": {},
   "outputs": [
    {
     "data": {
      "image/png": "[encoded data removed]",
      "text/plain": [
       "<Figure size 504x216 with 2 Axes>"
      ]
     },
     "metadata": {},
     "output_type": "display_data"
    }
   ],
   "source": [
    "importlib.reload(utils)\n",
    "#- retreive data: short links\n",
    "method = 'portia'\n",
    "links_ctr = pd.read_pickle(os.path.join(OUTPUT_DIR,'GRN',f'links_short_ctr_{method}.csv'))\n",
    "links_sample = pd.read_pickle(os.path.join(OUTPUT_DIR,'GRN',f'links_short_mg_{method}.csv'))\n",
    "\n",
    "oo_vsa_ctr = utils.VSA.analyse(links_ctr, protnames)\n",
    "oo_vsa_sample = utils.VSA.analyse(links_sample, protnames)\n",
    "#- plot 1: seperate windows for ctr and sample\n",
    "utils.VSA.plot_ctr_vs_sample(oo_vsa_ctr,oo_vsa_sample, protnames, OUTPUT_DIR=OUTPUT_DIR)"
   ]
  },
  {
   "cell_type": "markdown",
   "id": "3029b891",
   "metadata": {},
   "source": [
    "## Role change & plot "
   ]
  },
  {
   "cell_type": "code",
   "execution_count": 8,
   "id": "d9525446",
   "metadata": {},
   "outputs": [
    {
     "name": "stdout",
     "output_type": "stream",
     "text": [
      "P21281\n",
      "P26447\n",
      "P62854\n",
      "Q02218\n",
      "Q07065\n",
      "Q9UJZ1\n"
     ]
    },
    {
     "data": {
      "image/png": "[encoded data removed]",
      "text/plain": [
       "<Figure size 288x288 with 1 Axes>"
      ]
     },
     "metadata": {},
     "output_type": "display_data"
    }
   ],
   "source": [
    "#- read the data\n",
    "importlib.reload(utils)\n",
    "# - plot 2: change in the roles \n",
    "df_role_change = utils.VSA.role_change(oo_vsa_ctr, oo_vsa_sample, target_roles=[3])\n",
    "df_role_change.to_csv(os.path.join(OUTPUT_DIR,'VSA','df_role_change.csv'),index=False)\n",
    "utils.VSA.plot_role_change(df_role_change, OUTPUT_DIR=OUTPUT_DIR)"
   ]
  },
  {
   "cell_type": "markdown",
   "id": "5713d899",
   "metadata": {},
   "source": [
    "# Sensitivity analysis"
   ]
  },
  {
   "cell_type": "markdown",
   "id": "c27f4392",
   "metadata": {},
   "source": [
    "## multiplicative gaussian noise"
   ]
  },
  {
   "cell_type": "code",
   "execution_count": 125,
   "id": "bc1bcbe0",
   "metadata": {},
   "outputs": [
    {
     "data": {
      "image/png": "[encoded data removed]",
      "text/plain": [
       "<Figure size 345.6x230.4 with 6 Axes>"
      ]
     },
     "metadata": {},
     "output_type": "display_data"
    }
   ],
   "source": [
    "importlib.reload(utils)\n",
    "#- retreive data\n",
    "df_role_change = pd.read_csv(os.path.join(OUTPUT_DIR,'VSA','df_role_change.csv'),index_col=False)\n",
    "target_prots = df_role_change['Entry'].values.tolist() \n",
    "\n",
    "method = 'portia'\n",
    "links_ctr = pd.read_pickle(os.path.join(OUTPUT_DIR,'GRN',f'links_short_ctr_{method}.csv'))\n",
    "links_sample = pd.read_pickle(os.path.join(OUTPUT_DIR,'GRN',f'links_short_mg_{method}.csv'))\n",
    "#- multiplicative gaussian noise\n",
    "# utils.SensitivityAnalysis.multiGaussNoise(links_ctr, links_sample, protnames, target_prots, OUTPUT_DIR)\n",
    "#- additive gaussian noise\n",
    "utils.SensitivityAnalysis.addGaussNoise(links_ctr, links_sample, protnames, target_prots, OUTPUT_DIR)"
   ]
  },
  {
   "cell_type": "markdown",
   "id": "3a83055d",
   "metadata": {},
   "source": [
    "# Visualize protein network "
   ]
  },
  {
   "cell_type": "code",
   "execution_count": null,
   "id": "bcc57370",
   "metadata": {},
   "outputs": [],
   "source": [
    "importlib.reload(utils)\n",
    "with open(os.path.join(OUTPUT_DIR, 'postprocess/map_protname_genename.json')) as f:\n",
    "    map_protname_genename = json.load(f)['map']\n",
    "# preferred_names = [map_protname_genename[protname] for protname in protnames]\n",
    "preferred_names =protnames\n",
    "def visualize(study):\n",
    "    #- retreive nodes and edges\n",
    "    nodes, edges = utils.read_write_nodes_edges(study=study, mode='read', OUTPUT_DIR=OUTPUT_DIR)\n",
    "    utils.visualize_network(nodes, edges, 'ctr', protnames, preferred_names, OUTPUT_DIR)\n",
    "visualize('ctr')"
   ]
  },
  {
   "cell_type": "code",
   "execution_count": null,
   "id": "9ef3f829",
   "metadata": {},
   "outputs": [],
   "source": [
    "import igraph\n",
    "igraph.drawing.shapes.DiamondDrawer()"
   ]
  }
 ],
 "metadata": {
  "kernelspec": {
   "display_name": "Python 3 (ipykernel)",
   "language": "python",
   "name": "python3"
  },
  "language_info": {
   "codemirror_mode": {
    "name": "ipython",
    "version": 3
   },
   "file_extension": ".py",
   "mimetype": "text/x-python",
   "name": "python",
   "nbconvert_exporter": "python",
   "pygments_lexer": "ipython3",
   "version": "3.8.13"
  },
  "toc": {
   "base_numbering": 1,
   "nav_menu": {
    "height": "248px",
    "width": "296px"
   },
   "number_sections": true,
   "sideBar": true,
   "skip_h1_title": false,
   "title_cell": "Table of Contents",
   "title_sidebar": "Contents",
   "toc_cell": false,
   "toc_position": {},
   "toc_section_display": true,
   "toc_window_display": false
  },
  "toc-autonumbering": false,
  "toc-showcode": false,
  "toc-showmarkdowntxt": true,
  "toc-showtags": false
 },
 "nbformat": 4,
 "nbformat_minor": 5
}
