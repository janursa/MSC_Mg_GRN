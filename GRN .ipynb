{
 "cells": [
  {
   "cell_type": "markdown",
   "id": "29373dfd",
   "metadata": {},
   "source": [
    "# Model params tuning (RF and ridge)"
   ]
  },
  {
   "cell_type": "markdown",
   "id": "f6f6ef46",
   "metadata": {},
   "source": [
    "## RF"
   ]
  },
  {
   "cell_type": "code",
   "execution_count": 2,
   "id": "5567b85f",
   "metadata": {
    "scrolled": true
   },
   "outputs": [],
   "source": [
    "#- Tune parameters for RF\n",
    "%run scripts/calibration/RF_tune.py #use this in terminal in different steps"
   ]
  },
  {
   "cell_type": "code",
   "execution_count": null,
   "id": "325e6a28",
   "metadata": {},
   "outputs": [],
   "source": [
    "#- Pool and plot the results for RF\n",
    "%run scripts/calibration/RF_post_tune.py"
   ]
  },
  {
   "cell_type": "markdown",
   "id": "d804cb40",
   "metadata": {},
   "source": [
    "## Ridge"
   ]
  },
  {
   "cell_type": "code",
   "execution_count": 5,
   "id": "489906ec",
   "metadata": {},
   "outputs": [
    {
     "name": "stdout",
     "output_type": "stream",
     "text": [
      "Data shape: (11, 34) (n_samples_time_series*n_genes)\n",
      "----Tuning for ctr iteration 0-----\n",
      "stats: 34 genes 140 permts 10 threads\n",
      "Running 60 samples randomly\n",
      "Permutation-based multi threading\n"
     ]
    },
    {
     "name": "stderr",
     "output_type": "stream",
     "text": [
      "IOPub data rate exceeded.\n",
      "The notebook server will temporarily stop sending output\n",
      "to the client in order to avoid crashing it.\n",
      "To change this limit, set the config variable\n",
      "`--NotebookApp.iopub_data_rate_limit`.\n",
      "\n",
      "Current values:\n",
      "NotebookApp.iopub_data_rate_limit=1000000.0 (bytes/sec)\n",
      "NotebookApp.rate_limit_window=3.0 (secs)\n",
      "\n"
     ]
    },
    {
     "ename": "TypeError",
     "evalue": "",
     "output_type": "error",
     "traceback": [
      "\u001b[1;31m---------------------------------------------------------------------------\u001b[0m",
      "\u001b[1;31mTypeError\u001b[0m                                 Traceback (most recent call last)",
      "File \u001b[1;32m~\\Downloads\\testProjs\\proteomics_MSC\\scripts\\utils\\../..\\..\\geneRNI\\geneRNI\\search_param.py:148\u001b[0m, in \u001b[0;36msearch\u001b[1;34m(data, param, param_grid, permts, n_jobs, output_dir, **specs)\u001b[0m\n\u001b[0;32m    147\u001b[0m \u001b[38;5;28;01mtry\u001b[39;00m:\n\u001b[1;32m--> 148\u001b[0m     \u001b[43mall_output\u001b[49m\u001b[38;5;241;43m.\u001b[39;49m\u001b[43msort\u001b[49m\u001b[43m(\u001b[49m\u001b[43mkey\u001b[49m\u001b[38;5;241;43m=\u001b[39;49m\u001b[38;5;28;43;01mlambda\u001b[39;49;00m\u001b[43m \u001b[49m\u001b[43mx\u001b[49m\u001b[43m:\u001b[49m\u001b[43m \u001b[49m\u001b[43mx\u001b[49m\u001b[43m[\u001b[49m\u001b[38;5;241;43m0\u001b[39;49m\u001b[43m]\u001b[49m\u001b[43m)\u001b[49m\n\u001b[0;32m    149\u001b[0m \u001b[38;5;28;01mexcept\u001b[39;00m \u001b[38;5;167;01mTypeError\u001b[39;00m:\n",
      "File \u001b[1;32m~\\Downloads\\testProjs\\proteomics_MSC\\scripts\\utils\\../..\\..\\geneRNI\\geneRNI\\search_param.py:148\u001b[0m, in \u001b[0;36msearch.<locals>.<lambda>\u001b[1;34m(x)\u001b[0m\n\u001b[0;32m    147\u001b[0m \u001b[38;5;28;01mtry\u001b[39;00m:\n\u001b[1;32m--> 148\u001b[0m     all_output\u001b[38;5;241m.\u001b[39msort(key\u001b[38;5;241m=\u001b[39m\u001b[38;5;28;01mlambda\u001b[39;00m x: \u001b[43mx\u001b[49m\u001b[43m[\u001b[49m\u001b[38;5;241;43m0\u001b[39;49m\u001b[43m]\u001b[49m)\n\u001b[0;32m    149\u001b[0m \u001b[38;5;28;01mexcept\u001b[39;00m \u001b[38;5;167;01mTypeError\u001b[39;00m:\n",
      "\u001b[1;31mTypeError\u001b[0m: 'NoneType' object is not subscriptable",
      "\nDuring handling of the above exception, another exception occurred:\n",
      "\u001b[1;31mTypeError\u001b[0m                                 Traceback (most recent call last)",
      "File \u001b[1;32m~\\Downloads\\testProjs\\proteomics_MSC\\scripts\\tune\\ridge_tune.py:25\u001b[0m, in \u001b[0;36m<module>\u001b[1;34m\u001b[0m\n\u001b[0;32m     21\u001b[0m param \u001b[38;5;241m=\u001b[39m \u001b[38;5;28mdict\u001b[39m(estimator_t \u001b[38;5;241m=\u001b[39m \u001b[38;5;124m'\u001b[39m\u001b[38;5;124mridge\u001b[39m\u001b[38;5;124m'\u001b[39m)\n\u001b[0;32m     22\u001b[0m specs \u001b[38;5;241m=\u001b[39m \u001b[38;5;28mdict\u001b[39m(\n\u001b[0;32m     23\u001b[0m     \u001b[38;5;66;03m#     train_flag=True # maximizing training data\u001b[39;00m\n\u001b[0;32m     24\u001b[0m )\n\u001b[1;32m---> 25\u001b[0m \u001b[43mutils\u001b[49m\u001b[38;5;241;43m.\u001b[39;49m\u001b[43mcalibration\u001b[49m\u001b[38;5;241;43m.\u001b[39;49m\u001b[43mbatch_tune\u001b[49m\u001b[43m(\u001b[49m\u001b[38;5;124;43m'\u001b[39;49m\u001b[38;5;124;43mctr\u001b[39;49m\u001b[38;5;124;43m'\u001b[39;49m\u001b[43m,\u001b[49m\u001b[43m \u001b[49m\u001b[38;5;124;43m'\u001b[39;49m\u001b[38;5;124;43mridge\u001b[39;49m\u001b[38;5;124;43m'\u001b[39;49m\u001b[43m,\u001b[49m\u001b[43m \u001b[49m\u001b[43mdata_ctr\u001b[49m\u001b[43m,\u001b[49m\u001b[43m \u001b[49m\u001b[43mparam\u001b[49m\u001b[43m,\u001b[49m\u001b[43mprotnames\u001b[49m\u001b[43m,\u001b[49m\u001b[43mtest_size\u001b[49m\u001b[43m,\u001b[49m\u001b[43mtime\u001b[49m\u001b[43m,\u001b[49m\u001b[43m \u001b[49m\u001b[43mparam_grid_ridge\u001b[49m\u001b[43m,\u001b[49m\u001b[43m \u001b[49m\u001b[43mspecs\u001b[49m\u001b[43m,\u001b[49m\u001b[43m \u001b[49m\u001b[43mistart\u001b[49m\u001b[38;5;241;43m=\u001b[39;49m\u001b[38;5;241;43m0\u001b[39;49m\u001b[43m,\u001b[49m\u001b[43m \u001b[49m\u001b[43miend\u001b[49m\u001b[38;5;241;43m=\u001b[39;49m\u001b[38;5;241;43m100\u001b[39;49m\u001b[43m,\u001b[49m\u001b[43m \u001b[49m\u001b[43mOUTPUT_DIR\u001b[49m\u001b[38;5;241;43m=\u001b[39;49m\u001b[43mOUTPUT_DIR\u001b[49m\u001b[43m)\u001b[49m\n\u001b[0;32m     26\u001b[0m utils\u001b[38;5;241m.\u001b[39mcalibration\u001b[38;5;241m.\u001b[39mbatch_tune(\u001b[38;5;124m'\u001b[39m\u001b[38;5;124mmg\u001b[39m\u001b[38;5;124m'\u001b[39m, \u001b[38;5;124m'\u001b[39m\u001b[38;5;124mridge\u001b[39m\u001b[38;5;124m'\u001b[39m, data_mg, param,protnames,test_size,time, param_grid_ridge, specs, istart\u001b[38;5;241m=\u001b[39m\u001b[38;5;241m0\u001b[39m, iend\u001b[38;5;241m=\u001b[39m\u001b[38;5;241m100\u001b[39m, OUTPUT_DIR\u001b[38;5;241m=\u001b[39mOUTPUT_DIR)\n",
      "File \u001b[1;32m~\\Downloads\\testProjs\\proteomics_MSC\\scripts\\utils\\calibration.py:44\u001b[0m, in \u001b[0;36mbatch_tune\u001b[1;34m(study, method, data, param, gene_names, test_size, time_points, param_grid, specs, istart, iend, OUTPUT_DIR)\u001b[0m\n\u001b[0;32m     42\u001b[0m \u001b[38;5;28;01mfor\u001b[39;00m i \u001b[38;5;129;01min\u001b[39;00m \u001b[38;5;28mrange\u001b[39m(istart, iend):\n\u001b[0;32m     43\u001b[0m     \u001b[38;5;28mprint\u001b[39m(\u001b[38;5;124mf\u001b[39m\u001b[38;5;124m'\u001b[39m\u001b[38;5;124m----Tuning for \u001b[39m\u001b[38;5;132;01m{\u001b[39;00mstudy\u001b[38;5;132;01m}\u001b[39;00m\u001b[38;5;124m iteration \u001b[39m\u001b[38;5;132;01m{\u001b[39;00mi\u001b[38;5;132;01m}\u001b[39;00m\u001b[38;5;124m-----\u001b[39m\u001b[38;5;124m'\u001b[39m)\n\u001b[1;32m---> 44\u001b[0m     best_trainscores, best_testscores, best_params, _, _ \u001b[38;5;241m=\u001b[39m \u001b[43msearch\u001b[49m\u001b[43m(\u001b[49m\u001b[43mdata\u001b[49m\u001b[43m,\u001b[49m\u001b[43m \u001b[49m\u001b[43mgene_names\u001b[49m\u001b[43m,\u001b[49m\u001b[43m \u001b[49m\u001b[43mtime_points\u001b[49m\u001b[43m,\u001b[49m\u001b[43m \u001b[49m\u001b[43mtest_size\u001b[49m\u001b[43m,\u001b[49m\u001b[43m \u001b[49m\u001b[43mparam\u001b[49m\u001b[43m,\u001b[49m\u001b[43m \u001b[49m\u001b[43mparam_grid\u001b[49m\u001b[43m,\u001b[49m\u001b[43m \u001b[49m\u001b[43mspecs\u001b[49m\u001b[43m)\u001b[49m\n\u001b[0;32m     45\u001b[0m     \u001b[38;5;28mprint\u001b[39m(\u001b[38;5;124mf\u001b[39m\u001b[38;5;124m'\u001b[39m\u001b[38;5;124mmean best score \u001b[39m\u001b[38;5;132;01m{\u001b[39;00mnp\u001b[38;5;241m.\u001b[39mmean(best_testscores)\u001b[38;5;132;01m}\u001b[39;00m\u001b[38;5;124m'\u001b[39m)\n\u001b[0;32m     46\u001b[0m     read_write_oo(study, method\u001b[38;5;241m=\u001b[39mmethod, mode\u001b[38;5;241m=\u001b[39m\u001b[38;5;124m'\u001b[39m\u001b[38;5;124mwrite\u001b[39m\u001b[38;5;124m'\u001b[39m, bestparams\u001b[38;5;241m=\u001b[39mbest_params, besttestscores\u001b[38;5;241m=\u001b[39mbest_testscores, besttrainscores\u001b[38;5;241m=\u001b[39mbest_trainscores,\n\u001b[0;32m     47\u001b[0m                         OUTPUT_DIR\u001b[38;5;241m=\u001b[39mOUTPUT_DIR, i\u001b[38;5;241m=\u001b[39mi)\n",
      "File \u001b[1;32m~\\Downloads\\testProjs\\proteomics_MSC\\scripts\\utils\\calibration.py:37\u001b[0m, in \u001b[0;36msearch\u001b[1;34m(data, gene_names, time_points, test_size, param, param_grid, specs)\u001b[0m\n\u001b[0;32m     31\u001b[0m \u001b[38;5;124;03m\"\"\"\u001b[39;00m\n\u001b[0;32m     32\u001b[0m \u001b[38;5;124;03m    Interface to search function of geneRNI\u001b[39;00m\n\u001b[0;32m     33\u001b[0m \u001b[38;5;124;03m\"\"\"\u001b[39;00m\n\u001b[0;32m     34\u001b[0m dataset \u001b[38;5;241m=\u001b[39m Data(gene_names\u001b[38;5;241m=\u001b[39mgene_names, ss_data\u001b[38;5;241m=\u001b[39m\u001b[38;5;28;01mNone\u001b[39;00m, ts_data\u001b[38;5;241m=\u001b[39m[data], time_points\u001b[38;5;241m=\u001b[39m[time_points],\n\u001b[0;32m     35\u001b[0m                    test_size\u001b[38;5;241m=\u001b[39mtest_size)\n\u001b[1;32m---> 37\u001b[0m \u001b[38;5;28;01mreturn\u001b[39;00m \u001b[43msearch_param\u001b[49m\u001b[38;5;241;43m.\u001b[39;49m\u001b[43mrand_search\u001b[49m\u001b[43m(\u001b[49m\u001b[43mdataset\u001b[49m\u001b[43m,\u001b[49m\u001b[43m \u001b[49m\u001b[43mparam\u001b[49m\u001b[38;5;241;43m=\u001b[39;49m\u001b[43mparam\u001b[49m\u001b[43m,\u001b[49m\n\u001b[0;32m     38\u001b[0m \u001b[43m                             \u001b[49m\u001b[43mparam_grid\u001b[49m\u001b[38;5;241;43m=\u001b[39;49m\u001b[43mparam_grid\u001b[49m\u001b[43m,\u001b[49m\n\u001b[0;32m     39\u001b[0m \u001b[43m                             \u001b[49m\u001b[43mn_jobs\u001b[49m\u001b[38;5;241;43m=\u001b[39;49m\u001b[38;5;241;43m10\u001b[39;49m\u001b[43m,\u001b[49m\u001b[43m \u001b[49m\u001b[43mn_sample\u001b[49m\u001b[38;5;241;43m=\u001b[39;49m\u001b[38;5;241;43m60\u001b[39;49m\u001b[43m,\u001b[49m\u001b[43m \u001b[49m\u001b[38;5;241;43m*\u001b[39;49m\u001b[38;5;241;43m*\u001b[39;49m\u001b[43mspecs\u001b[49m\u001b[43m)\u001b[49m\n",
      "File \u001b[1;32m~\\Downloads\\testProjs\\proteomics_MSC\\scripts\\utils\\../..\\..\\geneRNI\\geneRNI\\search_param.py:219\u001b[0m, in \u001b[0;36mrand_search\u001b[1;34m(data, param, param_grid, n_jobs, n_sample, output_dir, random_state, **specs)\u001b[0m\n\u001b[0;32m    216\u001b[0m         \u001b[38;5;28mprint\u001b[39m({\u001b[38;5;124m'\u001b[39m\u001b[38;5;124mpermts\u001b[39m\u001b[38;5;124m'\u001b[39m: sampled_permts}, file\u001b[38;5;241m=\u001b[39mf)\n\u001b[0;32m    217\u001b[0m \u001b[38;5;28mprint\u001b[39m(\u001b[38;5;124mf\u001b[39m\u001b[38;5;124m'\u001b[39m\u001b[38;5;124mRunning \u001b[39m\u001b[38;5;132;01m{\u001b[39;00m\u001b[38;5;28mlen\u001b[39m(sampled_permts)\u001b[38;5;132;01m}\u001b[39;00m\u001b[38;5;124m samples randomly\u001b[39m\u001b[38;5;124m'\u001b[39m)\n\u001b[1;32m--> 219\u001b[0m best_trainscores, best_testscores, best_params, best_ests \u001b[38;5;241m=\u001b[39m \u001b[43msearch\u001b[49m\u001b[43m(\u001b[49m\u001b[43mdata\u001b[49m\u001b[43m,\u001b[49m\u001b[43m \u001b[49m\u001b[43mparam\u001b[49m\u001b[43m,\u001b[49m\u001b[43m \u001b[49m\u001b[43mparam_grid\u001b[49m\u001b[43m,\u001b[49m\u001b[43m \u001b[49m\u001b[43mpermts\u001b[49m\u001b[38;5;241;43m=\u001b[39;49m\u001b[43msampled_permts\u001b[49m\u001b[43m,\u001b[49m\u001b[43m \u001b[49m\u001b[43mn_jobs\u001b[49m\u001b[38;5;241;43m=\u001b[39;49m\u001b[43mn_jobs\u001b[49m\u001b[43m,\u001b[49m\u001b[43m \u001b[49m\u001b[43moutput_dir\u001b[49m\u001b[38;5;241;43m=\u001b[39;49m\u001b[43moutput_dir\u001b[49m\u001b[43m,\u001b[49m\u001b[43m \u001b[49m\u001b[38;5;241;43m*\u001b[39;49m\u001b[38;5;241;43m*\u001b[39;49m\u001b[43mspecs\u001b[49m\u001b[43m)\u001b[49m\n\u001b[0;32m    220\u001b[0m \u001b[38;5;28;01mreturn\u001b[39;00m best_trainscores, best_testscores, best_params, best_ests, sampled_permts_sorted\n",
      "File \u001b[1;32m~\\Downloads\\testProjs\\proteomics_MSC\\scripts\\utils\\../..\\..\\geneRNI\\geneRNI\\search_param.py:152\u001b[0m, in \u001b[0;36msearch\u001b[1;34m(data, param, param_grid, permts, n_jobs, output_dir, **specs)\u001b[0m\n\u001b[0;32m    150\u001b[0m     \u001b[38;5;28mprint\u001b[39m(\u001b[38;5;124m'\u001b[39m\u001b[38;5;124mError in the outputs of map permut\u001b[39m\u001b[38;5;124m'\u001b[39m)\n\u001b[0;32m    151\u001b[0m     \u001b[38;5;28mprint\u001b[39m(all_output)\n\u001b[1;32m--> 152\u001b[0m     \u001b[38;5;28;01mraise\u001b[39;00m \u001b[38;5;167;01mTypeError\u001b[39;00m()\n\u001b[0;32m    154\u001b[0m testscores \u001b[38;5;241m=\u001b[39m np\u001b[38;5;241m.\u001b[39mempty([n_genes, \u001b[38;5;241m0\u001b[39m])\n\u001b[0;32m    155\u001b[0m trainscores \u001b[38;5;241m=\u001b[39m np\u001b[38;5;241m.\u001b[39mempty([n_genes, \u001b[38;5;241m0\u001b[39m])\n",
      "\u001b[1;31mTypeError\u001b[0m: "
     ]
    }
   ],
   "source": [
    "#- Tune for ridge\n",
    "%run scripts/calibration/ridge_tune.py"
   ]
  },
  {
   "cell_type": "code",
   "execution_count": null,
   "id": "0d76ed41",
   "metadata": {},
   "outputs": [],
   "source": [
    "#- Pool and plot the results for ridge\n",
    "%run scripts/calibration/ridge_post_tune.py"
   ]
  },
  {
   "cell_type": "code",
   "execution_count": 37,
   "id": "c7fb25b3",
   "metadata": {},
   "outputs": [
    {
     "name": "stdout",
     "output_type": "stream",
     "text": [
      "pool [[[1. 1.]\n",
      "  [1. 1.]\n",
      "  [1. 1.]\n",
      "  [1. 1.]]\n",
      "\n",
      " [[2. 2.]\n",
      "  [2. 2.]\n",
      "  [2. 2.]\n",
      "  [2. 2.]]\n",
      "\n",
      " [[3. 3.]\n",
      "  [3. 3.]\n",
      "  [3. 3.]\n",
      "  [3. 3.]]]\n",
      "mean [[1. 1. 1. 1.]\n",
      " [2. 2. 2. 2.]\n",
      " [3. 3. 3. 3.]]\n",
      "[0 0 0]\n",
      "[1. 2. 3.]\n"
     ]
    }
   ],
   "source": [
    "scores = [[np.ones(4), 2*np.ones(4), 3*np.ones(4)], [np.ones(4), 2*np.ones(4), 3*np.ones(4)]]\n",
    "scores_pool = np.stack(scores,axis=2)\n",
    "print('pool',scores_pool)\n",
    "scores_mean = np.mean(scores_pool, axis=2)\n",
    "print('mean',scores_mean)\n",
    "params = ['p1','p2','p3','p4']\n",
    "best_indices = np.argmax(scores_mean, axis=1)\n",
    "print(best_indices)\n",
    "best_scores = np.max(scores_mean, axis=1)\n",
    "print(best_scores)\n",
    "best_params = [params[i] for i in best_indices]"
   ]
  },
  {
   "cell_type": "code",
   "execution_count": 41,
   "id": "e198421e",
   "metadata": {},
   "outputs": [
    {
     "name": "stdout",
     "output_type": "stream",
     "text": [
      "3\n",
      "Fold 0:\n",
      "  Train: index=[1 2]\n",
      "  Test:  index=[0]\n",
      "Fold 1:\n",
      "  Train: index=[0 2]\n",
      "  Test:  index=[1]\n",
      "Fold 2:\n",
      "  Train: index=[0 1]\n",
      "  Test:  index=[2]\n"
     ]
    }
   ],
   "source": [
    "import numpy as np\n",
    "from sklearn.model_selection import LeaveOneOut\n",
    "X = np.array([[1, 2], [3, 4],[3, 4]])\n",
    "loo = LeaveOneOut()\n",
    "print(loo.get_n_splits(X))\n",
    "\n",
    "for i, (train_index, test_index) in enumerate(loo.split(X)):\n",
    "    print(f\"Fold {i}:\")\n",
    "    print(f\"  Train: index={train_index}\")\n",
    "    print(f\"  Test:  index={test_index}\")"
   ]
  },
  {
   "cell_type": "markdown",
   "id": "0cbfe974",
   "metadata": {},
   "source": [
    "# GRN "
   ]
  },
  {
   "cell_type": "markdown",
   "id": "f6aa590e",
   "metadata": {},
   "source": [
    "## RF"
   ]
  },
  {
   "cell_type": "code",
   "execution_count": null,
   "id": "03daeb36",
   "metadata": {
    "scrolled": true
   },
   "outputs": [],
   "source": [
    "# run this one from terminal, as it needs to be run in seperate sessions (1000 runs)\n",
    "%run scripts/GRN/RF_grn.py"
   ]
  },
  {
   "cell_type": "code",
   "execution_count": null,
   "id": "e384d659",
   "metadata": {},
   "outputs": [],
   "source": [
    "#pool the links and add oob scores to the df\n",
    "%run scripts/GRN/RF_post_grn.py"
   ]
  },
  {
   "cell_type": "markdown",
   "id": "d8367425",
   "metadata": {},
   "source": [
    "## Ridge"
   ]
  },
  {
   "cell_type": "code",
   "execution_count": 1,
   "id": "0ca070e7",
   "metadata": {},
   "outputs": [
    {
     "name": "stdout",
     "output_type": "stream",
     "text": [
      "Data shape: (11, 34) (n_samples_time_series*n_genes)\n",
      "\n",
      "network inference: train score, mean: 0.6720147745400069 std: 0.352471475046745\n",
      "\n",
      "network inference: train score, mean: 0.5152218969285599 std: 0.36733856792142966\n",
      "Number of string links: 60\n",
      "Number of extracted links: 100\n",
      "match:  7\n"
     ]
    }
   ],
   "source": [
    "%run scripts/GRN/ridge_grn.py"
   ]
  },
  {
   "cell_type": "markdown",
   "id": "b66a21d2",
   "metadata": {},
   "source": [
    "## Portia"
   ]
  },
  {
   "cell_type": "code",
   "execution_count": null,
   "id": "165c7532",
   "metadata": {},
   "outputs": [],
   "source": [
    "%run scripts/GRN/portia_grn.py"
   ]
  },
  {
   "cell_type": "markdown",
   "id": "7c9c21c2",
   "metadata": {},
   "source": [
    "## Plot distribution of mean weights"
   ]
  },
  {
   "cell_type": "code",
   "execution_count": null,
   "id": "91584672",
   "metadata": {},
   "outputs": [],
   "source": [
    "from imports import *\n",
    "importlib.reload(utils)\n",
    "links_ctr_rf, links_sample_rf = retreive_grn('ctr','rf'),retreive_grn('mg','rf')\n",
    "links_ctr_portia, links_sample_portia = retreive_grn('ctr','portia'),retreive_grn('mg','portia')\n",
    "links_ctr_ridge, links_sample_ridge = retreive_grn('ctr','ridge'),retreive_grn('mg','ridge')\n",
    "links_combined = [[links_ctr_rf, links_sample_rf],\n",
    "               [links_ctr_portia, links_sample_portia], \n",
    "               [links_ctr_ridge, links_sample_ridge]]\n",
    "\n",
    "#- normalize\n",
    "\n",
    "links_combined_n = [[utils.Links.nomalize(item) for item in row] for row in links_combined]\n",
    "labels = ['RF','Portia',\n",
    "          'Ridge']\n",
    "colors = ['lightblue','pink']\n",
    "utils.Links.plot_mean_weights(links_combined_n, labels, colors)"
   ]
  },
  {
   "cell_type": "code",
   "execution_count": 8,
   "id": "cb1bf487",
   "metadata": {},
   "outputs": [
    {
     "ename": "TypeError",
     "evalue": "_append_dispatcher() got an unexpected keyword argument 'inplace'",
     "output_type": "error",
     "traceback": [
      "\u001b[1;31m---------------------------------------------------------------------------\u001b[0m",
      "\u001b[1;31mTypeError\u001b[0m                                 Traceback (most recent call last)",
      "Input \u001b[1;32mIn [8]\u001b[0m, in \u001b[0;36m<cell line: 2>\u001b[1;34m()\u001b[0m\n\u001b[0;32m      1\u001b[0m aa \u001b[38;5;241m=\u001b[39m np\u001b[38;5;241m.\u001b[39marray([])\n\u001b[1;32m----> 2\u001b[0m aa \u001b[38;5;241m=\u001b[39m \u001b[43mnp\u001b[49m\u001b[38;5;241;43m.\u001b[39;49m\u001b[43mappend\u001b[49m\u001b[43m(\u001b[49m\u001b[43maa\u001b[49m\u001b[43m,\u001b[49m\u001b[38;5;241;43m1\u001b[39;49m\u001b[43m,\u001b[49m\u001b[43m \u001b[49m\u001b[43minplace\u001b[49m\u001b[38;5;241;43m=\u001b[39;49m\u001b[38;5;28;43;01mTrue\u001b[39;49;00m\u001b[43m)\u001b[49m\n\u001b[0;32m      3\u001b[0m aa\n",
      "File \u001b[1;32m<__array_function__ internals>:179\u001b[0m, in \u001b[0;36mappend\u001b[1;34m(*args, **kwargs)\u001b[0m\n",
      "\u001b[1;31mTypeError\u001b[0m: _append_dispatcher() got an unexpected keyword argument 'inplace'"
     ]
    }
   ],
   "source": [
    "aa = np.array([])\n",
    "aa = np.append(aa,1, inplace=True)\n",
    "aa"
   ]
  },
  {
   "cell_type": "markdown",
   "id": "74df95dd",
   "metadata": {},
   "source": [
    "## Compare different methods: matching with string"
   ]
  },
  {
   "cell_type": "code",
   "execution_count": null,
   "id": "553ffb80",
   "metadata": {},
   "outputs": [],
   "source": [
    "%run scripts/GRN_vs_string.py"
   ]
  },
  {
   "cell_type": "markdown",
   "id": "309b63a1",
   "metadata": {},
   "source": [
    "## Filter"
   ]
  },
  {
   "cell_type": "code",
   "execution_count": null,
   "id": "f1a52ff1",
   "metadata": {},
   "outputs": [],
   "source": [
    "%run scripts/filter_links.py"
   ]
  },
  {
   "cell_type": "markdown",
   "id": "4a8f14ae",
   "metadata": {},
   "source": [
    "## Plot shortlisted weights"
   ]
  },
  {
   "cell_type": "code",
   "execution_count": null,
   "id": "08ebcb51",
   "metadata": {},
   "outputs": [],
   "source": [
    "\n",
    "def plot_weight(links, dist_key='WeightPool'):\n",
    "    links_s = links.sort_values('Weight', ascending=False).reset_index(drop=True)\n",
    "    \n",
    "    top_n = 12\n",
    "    nrows = 4\n",
    "    ncols = 3\n",
    "    fig, axes = plt.subplots(nrows, ncols, tight_layout=True, figsize=(ncols*3, nrows*2))\n",
    "    for idx in range(top_n):\n",
    "        i = int(idx/(nrows-1))\n",
    "        j = idx%ncols\n",
    "        ax = axes[i][j]\n",
    "        ax.hist(links_s[dist_key][idx], bins=20, decay_coeff=0.5,\n",
    "                        histtype='stepfilled', #'bar', 'barstacked', 'step', 'stepfilled'\n",
    "                        color='lightgreen',\n",
    "                        ec='black',\n",
    "                        rwidth=.9\n",
    "                       )\n",
    "        ax.set_xlabel('Interaction strength')\n",
    "        ax.set_ylabel('Model count')\n",
    "#         title = links['Regulator'][idx]+'-->'+links['Target'][idx]\n",
    "        title= idx\n",
    "        ax.set_title(title)\n",
    "        ax.set_ymargin(.15)\n",
    "        ax.set_xmargin(.15)\n",
    "def plot_pvalue(x):\n",
    "    fig, ax = plt.subplots(1, 1, tight_layout=True, figsize=(3, 2))\n",
    "    \n",
    "    ax.hist(x, bins=20, decay_coeff=0.5,\n",
    "                    histtype='barstacked', #'bar', 'barstacked', 'step', 'stepfilled'\n",
    "                    ec='black',\n",
    "                    rwidth=.9\n",
    "                   )\n",
    "    ax.set_xlabel('Interaction strength')\n",
    "    ax.set_ylabel('Model count')\n",
    "links_short_ctr_ridge = retreive_grn('ctr','ridge')\n",
    "\n",
    "links_target = links_short_ctr_ridge\n",
    "plot_weight(links_target, dist_key='WeightPool')\n",
    "# print(links_short_ctr_ensemble)"
   ]
  },
  {
   "cell_type": "markdown",
   "id": "88b08715",
   "metadata": {},
   "source": [
    "## create edges and nodes"
   ]
  },
  {
   "cell_type": "code",
   "execution_count": null,
   "id": "80aebc3c",
   "metadata": {},
   "outputs": [],
   "source": [
    "links_short_ctr_portia = pd.read_pickle(os.path.join(OUTPUT_DIR,'GRN','links_short_ctr_portia.csv'))\n",
    "links_short_sample_portia = pd.read_pickle(os.path.join(OUTPUT_DIR,'GRN','links_short_mg_portia.csv'))\n",
    "\n",
    "def process_nodes_edges(study, links, scores=None):\n",
    "    #- create nodes and edges\n",
    "    nodes, edges = utils.convert_links_to_nodes_edges(links, protnames, scores)\n",
    "    #- output edges and nodes   \n",
    "    utils.read_write_nodes_edges(nodes=nodes, edges=edges, study=study, mode='write', OUTPUT_DIR=OUTPUT_DIR)\n",
    "process_nodes_edges('ctr', links_short_ctr_portia)\n",
    "process_nodes_edges('mg', links_short_sample_portia)"
   ]
  },
  {
   "cell_type": "markdown",
   "id": "56110c2b",
   "metadata": {},
   "source": [
    "# Vester's sensitivity analysis. \n",
    "- AS: active sum. Sum along rows of the influence matrix and it indicates how much does a variable influence all the others.\n",
    "- PS: passive sum. Its is the sum along columns of the influence matrix and it indicates how sensitive a variable is, how does it react to the influence of others\n",
    "- Q: AS/PS -> how dominant\n",
    "- P: AS.PS -> how participative a variable is\n",
    "- Active: +Q\n",
    "- Passive: -Q, -P\n",
    "- Critical: +Q, +P\n",
    "- Buffering: -Q, -P"
   ]
  },
  {
   "cell_type": "code",
   "execution_count": null,
   "id": "1c77443f",
   "metadata": {},
   "outputs": [],
   "source": [
    "importlib.reload(utils)\n",
    "#- retreive data: short links\n",
    "method = 'portia'\n",
    "links_ctr = pd.read_pickle(os.path.join(OUTPUT_DIR,'GRN',f'links_short_ctr_{method}.csv'))\n",
    "links_sample = pd.read_pickle(os.path.join(OUTPUT_DIR,'GRN',f'links_short_mg_{method}.csv'))\n",
    "\n",
    "oo_vsa_ctr = utils.VSA.analyse(links_ctr, protnames)\n",
    "oo_vsa_sample = utils.VSA.analyse(links_sample, protnames)\n",
    "#- plot 1: seperate windows for ctr and sample\n",
    "utils.VSA.plot_ctr_vs_sample(oo_vsa_ctr,oo_vsa_sample, protnames, OUTPUT_DIR=OUTPUT_DIR)"
   ]
  },
  {
   "cell_type": "markdown",
   "id": "3029b891",
   "metadata": {},
   "source": [
    "## Role change & plot "
   ]
  },
  {
   "cell_type": "code",
   "execution_count": null,
   "id": "d9525446",
   "metadata": {},
   "outputs": [],
   "source": [
    "#- read the data\n",
    "importlib.reload(utils)\n",
    "# - plot 2: change in the roles \n",
    "df_role_change = utils.VSA.role_change(oo_vsa_ctr, oo_vsa_sample, target_roles=[3])\n",
    "df_role_change.to_csv(os.path.join(OUTPUT_DIR,'VSA','df_role_change.csv'),index=False)\n",
    "utils.VSA.plot_role_change(df_role_change, OUTPUT_DIR=OUTPUT_DIR)"
   ]
  },
  {
   "cell_type": "markdown",
   "id": "5713d899",
   "metadata": {},
   "source": [
    "# Sensitivity analysis"
   ]
  },
  {
   "cell_type": "markdown",
   "id": "c27f4392",
   "metadata": {},
   "source": [
    "## multiplicative gaussian noise"
   ]
  },
  {
   "cell_type": "code",
   "execution_count": null,
   "id": "bc1bcbe0",
   "metadata": {},
   "outputs": [],
   "source": [
    "importlib.reload(utils)\n",
    "#- retreive data\n",
    "df_role_change = pd.read_csv(os.path.join(OUTPUT_DIR,'VSA','df_role_change.csv'),index_col=False)\n",
    "target_prots = df_role_change['Entry'].values.tolist() \n",
    "\n",
    "method = 'portia'\n",
    "links_ctr = pd.read_pickle(os.path.join(OUTPUT_DIR,'GRN',f'links_short_ctr_{method}.csv'))\n",
    "links_sample = pd.read_pickle(os.path.join(OUTPUT_DIR,'GRN',f'links_short_mg_{method}.csv'))\n",
    "#- multiplicative gaussian noise\n",
    "# utils.sensitivity_analysis.multiGaussNoise(links_ctr, links_sample, protnames, target_prots, OUTPUT_DIR)\n",
    "#- additive gaussian noise\n",
    "utils.sensitivity_analysis.addGaussNoise(links_ctr, links_sample, protnames, target_prots, OUTPUT_DIR)"
   ]
  },
  {
   "cell_type": "markdown",
   "id": "3a83055d",
   "metadata": {},
   "source": [
    "# Visualize protein network "
   ]
  },
  {
   "cell_type": "code",
   "execution_count": null,
   "id": "bcc57370",
   "metadata": {},
   "outputs": [],
   "source": [
    "importlib.reload(utils)\n",
    "with open(os.path.join(OUTPUT_DIR, 'postprocess/map_protname_genename.json')) as f:\n",
    "    map_protname_genename = json.load(f)['map']\n",
    "# preferred_names = [map_protname_genename[protname] for protname in protnames]\n",
    "preferred_names =protnames\n",
    "def visualize(study):\n",
    "    #- retreive nodes and edges\n",
    "    nodes, edges = utils.read_write_nodes_edges(study=study, mode='read', OUTPUT_DIR=OUTPUT_DIR)\n",
    "    utils.visualize_network(nodes, edges, 'ctr', protnames, preferred_names, OUTPUT_DIR)\n",
    "visualize('ctr')"
   ]
  },
  {
   "cell_type": "code",
   "execution_count": null,
   "id": "9ef3f829",
   "metadata": {},
   "outputs": [],
   "source": [
    "import igraph\n",
    "igraph.drawing.shapes.DiamondDrawer()"
   ]
  }
 ],
 "metadata": {
  "kernelspec": {
   "display_name": "Python 3 (ipykernel)",
   "language": "python",
   "name": "python3"
  },
  "language_info": {
   "codemirror_mode": {
    "name": "ipython",
    "version": 3
   },
   "file_extension": ".py",
   "mimetype": "text/x-python",
   "name": "python",
   "nbconvert_exporter": "python",
   "pygments_lexer": "ipython3",
   "version": "3.8.13"
  },
  "toc": {
   "base_numbering": 1,
   "nav_menu": {
    "height": "248px",
    "width": "296px"
   },
   "number_sections": true,
   "sideBar": true,
   "skip_h1_title": false,
   "title_cell": "Table of Contents",
   "title_sidebar": "Contents",
   "toc_cell": false,
   "toc_position": {},
   "toc_section_display": true,
   "toc_window_display": false
  },
  "toc-autonumbering": false,
  "toc-showcode": false,
  "toc-showmarkdowntxt": true,
  "toc-showtags": false
 },
 "nbformat": 4,
 "nbformat_minor": 5
}
